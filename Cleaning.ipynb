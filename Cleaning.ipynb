{
 "cells": [
  {
   "cell_type": "markdown",
   "id": "38a2ddef-0775-45f1-8810-5d51a4558dcf",
   "metadata": {},
   "source": [
    "# Imports"
   ]
  },
  {
   "cell_type": "code",
   "execution_count": 7,
   "id": "7ae64a82-f98f-4151-84fe-b386b1812823",
   "metadata": {},
   "outputs": [],
   "source": [
    "# Import necessary libraries\n",
    "import pandas as pd\n",
    "import numpy as np\n",
    "import ast"
   ]
  },
  {
   "cell_type": "markdown",
   "id": "f686d0ba-9e85-4dc9-833a-b43485186b3c",
   "metadata": {},
   "source": [
    "# Load Data"
   ]
  },
  {
   "cell_type": "code",
   "execution_count": 9,
   "id": "e1c63331-a433-436f-8291-2799a3750b5a",
   "metadata": {},
   "outputs": [],
   "source": [
    "df = pd.read_csv(\"Data/cars.csv\")"
   ]
  },
  {
   "cell_type": "markdown",
   "id": "770faa72-e7be-4369-b684-a35f41ee4340",
   "metadata": {},
   "source": [
    "# Clean Data"
   ]
  },
  {
   "cell_type": "markdown",
   "id": "f471b4ac-fc0e-4cf2-8a45-8b54eb544802",
   "metadata": {},
   "source": [
    "## Drop Duplicates"
   ]
  },
  {
   "cell_type": "code",
   "execution_count": 10,
   "id": "ca16646f-31d1-4ff5-ab4b-a911b6c132af",
   "metadata": {},
   "outputs": [],
   "source": [
    "df = df.loc[df.id!='[]'].drop_duplicates(subset='id')"
   ]
  },
  {
   "cell_type": "code",
   "execution_count": 11,
   "id": "1d7a161e-34f8-4a3f-97e7-39183e8c42de",
   "metadata": {},
   "outputs": [
    {
     "data": {
      "text/plain": [
       "(15932, 6)"
      ]
     },
     "execution_count": 11,
     "metadata": {},
     "output_type": "execute_result"
    }
   ],
   "source": [
    "df.shape"
   ]
  },
  {
   "cell_type": "markdown",
   "id": "606b109e-f78e-4687-b581-f2b6d62f443b",
   "metadata": {},
   "source": [
    "## Prepare Columns"
   ]
  },
  {
   "cell_type": "markdown",
   "id": "7166b33e-e7ed-415f-a926-41a4e7bd2232",
   "metadata": {},
   "source": [
    "#### Id"
   ]
  },
  {
   "cell_type": "code",
   "execution_count": 12,
   "id": "df6e0730-dee0-4f2c-8e52-72632a7aff2a",
   "metadata": {},
   "outputs": [],
   "source": [
    "df['id'] = df['id'].str[4:-2].astype(int)\n",
    "df.rename(columns={'id': 'Id'}, inplace=True)\n",
    "df.set_index('Id', inplace=True)"
   ]
  },
  {
   "cell_type": "code",
   "execution_count": 13,
   "id": "9cbc44b6-6e16-4273-ad91-719b75198dc2",
   "metadata": {},
   "outputs": [
    {
     "data": {
      "text/html": [
       "<div>\n",
       "<style scoped>\n",
       "    .dataframe tbody tr th:only-of-type {\n",
       "        vertical-align: middle;\n",
       "    }\n",
       "\n",
       "    .dataframe tbody tr th {\n",
       "        vertical-align: top;\n",
       "    }\n",
       "\n",
       "    .dataframe thead th {\n",
       "        text-align: right;\n",
       "    }\n",
       "</style>\n",
       "<table border=\"1\" class=\"dataframe\">\n",
       "  <thead>\n",
       "    <tr style=\"text-align: right;\">\n",
       "      <th></th>\n",
       "      <th>location</th>\n",
       "      <th>price</th>\n",
       "      <th>specifications-1</th>\n",
       "      <th>specifications-2</th>\n",
       "      <th>stickers</th>\n",
       "    </tr>\n",
       "    <tr>\n",
       "      <th>Id</th>\n",
       "      <th></th>\n",
       "      <th></th>\n",
       "      <th></th>\n",
       "      <th></th>\n",
       "      <th></th>\n",
       "    </tr>\n",
       "  </thead>\n",
       "  <tbody>\n",
       "    <tr>\n",
       "      <th>95572074</th>\n",
       "      <td>['თბილისი', '67ნახვა2 დღე']</td>\n",
       "      <td>['18,825']</td>\n",
       "      <td>[['მწარმოებელი', 'Volkswagen'], ['მოდელი', 'Pa...</td>\n",
       "      <td>[['ჰიდრავლიკა', 'Yes'], ['ბორტკომპიუტერი', 'Ye...</td>\n",
       "      <td>['']</td>\n",
       "    </tr>\n",
       "    <tr>\n",
       "      <th>95464782</th>\n",
       "      <td>['ბათუმი', '44ნახვა2 დღე']</td>\n",
       "      <td>['8,618']</td>\n",
       "      <td>[['მწარმოებელი', 'Toyota'], ['მოდელი', 'Prius'...</td>\n",
       "      <td>[['ჰიდრავლიკა', 'Yes'], ['ბორტკომპიუტერი', 'No...</td>\n",
       "      <td>['']</td>\n",
       "    </tr>\n",
       "  </tbody>\n",
       "</table>\n",
       "</div>"
      ],
      "text/plain": [
       "                             location       price  \\\n",
       "Id                                                  \n",
       "95572074  ['თბილისი', '67ნახვა2 დღე']  ['18,825']   \n",
       "95464782   ['ბათუმი', '44ნახვა2 დღე']   ['8,618']   \n",
       "\n",
       "                                           specifications-1  \\\n",
       "Id                                                            \n",
       "95572074  [['მწარმოებელი', 'Volkswagen'], ['მოდელი', 'Pa...   \n",
       "95464782  [['მწარმოებელი', 'Toyota'], ['მოდელი', 'Prius'...   \n",
       "\n",
       "                                           specifications-2 stickers  \n",
       "Id                                                                    \n",
       "95572074  [['ჰიდრავლიკა', 'Yes'], ['ბორტკომპიუტერი', 'Ye...     ['']  \n",
       "95464782  [['ჰიდრავლიკა', 'Yes'], ['ბორტკომპიუტერი', 'No...     ['']  "
      ]
     },
     "execution_count": 13,
     "metadata": {},
     "output_type": "execute_result"
    }
   ],
   "source": [
    "df.sample(2)"
   ]
  },
  {
   "cell_type": "markdown",
   "id": "65297136-357e-4d4a-97d1-95cb2c3d019d",
   "metadata": {},
   "source": [
    "### Location"
   ]
  },
  {
   "cell_type": "code",
   "execution_count": 14,
   "id": "9afbe74f-a32a-4de3-8503-2f4657b18879",
   "metadata": {},
   "outputs": [],
   "source": [
    "df['location'] = df['location'].apply(ast.literal_eval).str[0]\n",
    "df.rename(columns={'location': 'Location'}, inplace=True)"
   ]
  },
  {
   "cell_type": "code",
   "execution_count": 15,
   "id": "42546113-cf06-4f84-9002-8f033e013288",
   "metadata": {
    "scrolled": true
   },
   "outputs": [
    {
     "data": {
      "text/plain": [
       "Location\n",
       "თბილისი                  8899\n",
       "რუსთავის ავტობაზრობა     1409\n",
       "რუსთავი                  1053\n",
       "ბათუმი                   1030\n",
       "კავკასიის ავტომარკეტი     728\n",
       "ქუთაისი                   596\n",
       "გორი                      571\n",
       "ფოთი                      151\n",
       "ზესტაფონი                 127\n",
       "ზუგდიდი                   124\n",
       "თელავი                    123\n",
       "მარნეული                  107\n",
       "ახალციხე                   93\n",
       "ხაშური                     85\n",
       "კასპი                      74\n",
       "მცხეთა                     66\n",
       "გურჯაანი                   53\n",
       "ახალქალაქი                 45\n",
       "ქობულეთი                   43\n",
       "ქარელი                     42\n",
       "ოზურგეთი                   39\n",
       "ბორჯომი                    38\n",
       "სენაკი                     37\n",
       "საგარეჯო                   33\n",
       "ფოთის \"გეზ\"-ი              32\n",
       "სამტრედია                  29\n",
       "სიღნაღი                    29\n",
       "ლაგოდეხი                   28\n",
       "ჭიათურა                    24\n",
       "ყვარელი                    21\n",
       "საჩხერე                    21\n",
       "ახმეტა                     19\n",
       "ბოლნისი                    18\n",
       "დუშეთი                     16\n",
       "ნინოწმინდა                 13\n",
       "გარდაბანი                  13\n",
       "ჩხოროწყუ                   12\n",
       "დედოფლისწყარო              12\n",
       "წალკა                       9\n",
       "ლანჩხუთი                    8\n",
       "ხობი                        7\n",
       "წალენჯიხა                   7\n",
       "აბაშა                       6\n",
       "მარტვილი                    6\n",
       "ხონი                        5\n",
       "სართიჭალა                   5\n",
       "თიანეთი                     4\n",
       "თეთრიწყარო                  4\n",
       "ცაგერი                      4\n",
       "მესტია                      3\n",
       "ამბროლაური                  2\n",
       "ტყიბული                     2\n",
       "ხარაგაული                   2\n",
       "ასპინძა                     2\n",
       "წყალტუბო                    1\n",
       "ონი                         1\n",
       "წეროვანი                    1\n",
       "Name: count, dtype: int64"
      ]
     },
     "execution_count": 15,
     "metadata": {},
     "output_type": "execute_result"
    }
   ],
   "source": [
    "df['Location'].value_counts()"
   ]
  },
  {
   "cell_type": "markdown",
   "id": "d7885320-2bb0-48c7-9f54-c836680980e9",
   "metadata": {},
   "source": [
    "### Price"
   ]
  },
  {
   "cell_type": "code",
   "execution_count": 16,
   "id": "da5c7a9e-9d75-4074-bb7e-9038d7133688",
   "metadata": {},
   "outputs": [],
   "source": [
    "df['price'] = df['price'].str[2:-2].str.replace(',', '').astype(int)\n",
    "df.rename(columns={'price': 'Price'}, inplace=True)"
   ]
  },
  {
   "cell_type": "code",
   "execution_count": 17,
   "id": "dffb8dcf-3039-4753-b947-3d9abfa86b42",
   "metadata": {},
   "outputs": [
    {
     "data": {
      "text/plain": [
       "count     15932.00000\n",
       "mean      33645.74718\n",
       "std       70799.74714\n",
       "min           1.00000\n",
       "25%       13058.00000\n",
       "50%       24811.00000\n",
       "75%       41787.00000\n",
       "max     7777780.00000\n",
       "Name: Price, dtype: float64"
      ]
     },
     "execution_count": 17,
     "metadata": {},
     "output_type": "execute_result"
    }
   ],
   "source": [
    "# Set pandas display option to show floats without scientific notation\n",
    "pd.set_option('display.float_format', lambda x: '{:.5f}'.format(x))\n",
    "\n",
    "df['Price'].describe()"
   ]
  },
  {
   "cell_type": "markdown",
   "id": "ccd8f89a-856e-447d-829f-642b572a1c43",
   "metadata": {},
   "source": [
    "### specifications-1"
   ]
  },
  {
   "cell_type": "code",
   "execution_count": 18,
   "id": "c526acdd-e14f-4cca-8c2a-56ec040befe0",
   "metadata": {},
   "outputs": [
    {
     "data": {
      "text/plain": [
       "Id\n",
       "93284442    [['მწარმოებელი', 'Mercedes-Benz'], ['მოდელი', ...\n",
       "94416194    [['მწარმოებელი', 'BMW'], ['მოდელი', '428'], ['...\n",
       "95335570    [['მწარმოებელი', 'Toyota'], ['მოდელი', 'RAV 4'...\n",
       "95470114    [['მწარმოებელი', 'Mercedes-Benz'], ['მოდელი', ...\n",
       "85990507    [['მწარმოებელი', 'Toyota'], ['მოდელი', 'Prius'...\n",
       "                                  ...                        \n",
       "95698770    [['მწარმოებელი', 'Volkswagen'], ['მოდელი', 'Ti...\n",
       "92268310    [['მწარმოებელი', 'Volkswagen'], ['მოდელი', 'Pa...\n",
       "95695366    [['მწარმოებელი', 'Volkswagen'], ['მოდელი', 'CC...\n",
       "95698710    [['მწარმოებელი', 'Volkswagen'], ['მოდელი', 'CC...\n",
       "95699122    [['მწარმოებელი', 'Volkswagen'], ['მოდელი', 'Je...\n",
       "Name: specifications-1, Length: 15932, dtype: object"
      ]
     },
     "execution_count": 18,
     "metadata": {},
     "output_type": "execute_result"
    }
   ],
   "source": [
    "df['specifications-1']"
   ]
  },
  {
   "cell_type": "code",
   "execution_count": 19,
   "id": "1b7e5fb3-aafe-4de3-935c-91f7463f589d",
   "metadata": {},
   "outputs": [],
   "source": [
    "# Turn string of list into a python list\n",
    "df['specifications-1'] = df['specifications-1'].apply(lambda x: ast.literal_eval(x))"
   ]
  },
  {
   "cell_type": "code",
   "execution_count": 20,
   "id": "abd781b6-a48f-4214-9e8c-8aacc4cf4ecd",
   "metadata": {},
   "outputs": [],
   "source": [
    "# Function to find the index of the set containing the specification\n",
    "def find_index_of_set_with_spec(set_list, spec):\n",
    "    for i, s in enumerate(set_list):\n",
    "        if spec in s:\n",
    "            return round(i)\n",
    "    return None"
   ]
  },
  {
   "cell_type": "code",
   "execution_count": 21,
   "id": "b05b1c1f-af12-4ea4-a8ff-c767652a0351",
   "metadata": {},
   "outputs": [],
   "source": [
    "# Extract Specs from each set\n",
    "def extract_specs(s, spec_name):\n",
    "    if pd.notna(s):\n",
    "        return [spec for spec in s if not spec.startswith(spec_name)][0]\n",
    "    else:\n",
    "        return pd.NA"
   ]
  },
  {
   "cell_type": "markdown",
   "id": "46012927-6303-4a2d-95f2-5666e1bb17ee",
   "metadata": {},
   "source": [
    "#### Manufacturer"
   ]
  },
  {
   "cell_type": "code",
   "execution_count": 22,
   "id": "301f354b-b81f-409c-9d6b-e2157664237c",
   "metadata": {},
   "outputs": [
    {
     "data": {
      "text/plain": [
       "array([0], dtype=int64)"
      ]
     },
     "execution_count": 22,
     "metadata": {},
     "output_type": "execute_result"
    }
   ],
   "source": [
    "# Find the index of the set containing the Manufacturer name for each row\n",
    "df['Index_of_set'] = df['specifications-1'].apply(lambda x: find_index_of_set_with_spec(x, 'მწარმოებელი'))\n",
    "df['Index_of_set'].unique()"
   ]
  },
  {
   "cell_type": "code",
   "execution_count": 23,
   "id": "366d50a9-5cc0-41f4-b965-271ba8fe561e",
   "metadata": {},
   "outputs": [
    {
     "data": {
      "text/plain": [
       "Manufacturer\n",
       "Toyota           2469\n",
       "Mercedes-Benz    1663\n",
       "Nissan           1109\n",
       "Subaru           1082\n",
       "BMW              1077\n",
       "Honda            1029\n",
       "Hyundai          1028\n",
       "Mitsubishi       1025\n",
       "Mazda            1003\n",
       "Volkswagen        918\n",
       "Lexus             905\n",
       "Kia               903\n",
       "Ford              865\n",
       "Chevrolet         856\n",
       "Name: count, dtype: int64"
      ]
     },
     "execution_count": 23,
     "metadata": {},
     "output_type": "execute_result"
    }
   ],
   "source": [
    "df['Manufacturer'] = df.apply(lambda row: row['specifications-1'][int(row['Index_of_set'])] if pd.notna(row['Index_of_set']) else np.nan, axis=1)\n",
    "df['Manufacturer'] = df['Manufacturer'].str[1]\n",
    "\n",
    "# Manufacturer description table\n",
    "df['Manufacturer'].value_counts()"
   ]
  },
  {
   "cell_type": "markdown",
   "id": "cf44c659-7790-4d57-91f1-bd990a4923ac",
   "metadata": {},
   "source": [
    "#### Model"
   ]
  },
  {
   "cell_type": "code",
   "execution_count": 24,
   "id": "938b54f5-edb2-46e6-ad16-ce40567becc7",
   "metadata": {},
   "outputs": [
    {
     "data": {
      "text/plain": [
       "array([1], dtype=int64)"
      ]
     },
     "execution_count": 24,
     "metadata": {},
     "output_type": "execute_result"
    }
   ],
   "source": [
    "# Find the index of the set containing the Model name for each row\n",
    "df['Index_of_set'] = df['specifications-1'].apply(lambda x: find_index_of_set_with_spec(x, 'მოდელი'))\n",
    "df['Index_of_set'].unique()"
   ]
  },
  {
   "cell_type": "code",
   "execution_count": 25,
   "id": "d2b25131-c74e-41f4-bf53-55db79f95cdf",
   "metadata": {},
   "outputs": [
    {
     "data": {
      "text/plain": [
       "Model\n",
       "Camry       680\n",
       "FIT         555\n",
       "Forester    506\n",
       "RAV 4       440\n",
       "CX-5        437\n",
       "           ... \n",
       "SLC 300       1\n",
       "GLE 450       1\n",
       "C 280         1\n",
       "Maxima        1\n",
       "Scirocco      1\n",
       "Name: count, Length: 588, dtype: int64"
      ]
     },
     "execution_count": 25,
     "metadata": {},
     "output_type": "execute_result"
    }
   ],
   "source": [
    "df['Model'] = df.apply(lambda row: row['specifications-1'][int(row['Index_of_set'])] if pd.notna(row['Index_of_set']) else np.nan, axis=1)\n",
    "df['Model'] = df['Model'].str[1]\n",
    "\n",
    "# Model description table\n",
    "df['Model'].value_counts()"
   ]
  },
  {
   "cell_type": "markdown",
   "id": "e030e0a3-1871-42b1-9073-b9424157d4f1",
   "metadata": {
    "jp-MarkdownHeadingCollapsed": true
   },
   "source": [
    "#### Year"
   ]
  },
  {
   "cell_type": "code",
   "execution_count": 26,
   "id": "b65b8cdf-750a-4d60-984e-65291aab0112",
   "metadata": {},
   "outputs": [
    {
     "data": {
      "text/plain": [
       "array([2], dtype=int64)"
      ]
     },
     "execution_count": 26,
     "metadata": {},
     "output_type": "execute_result"
    }
   ],
   "source": [
    "# Find the index of the set containing the Year name for each row\n",
    "df['Index_of_set'] = df['specifications-1'].apply(lambda x: find_index_of_set_with_spec(x, 'წელი'))\n",
    "df['Index_of_set'].unique()"
   ]
  },
  {
   "cell_type": "code",
   "execution_count": 27,
   "id": "27cf2999-83ab-4ae4-9d91-9cee113f576e",
   "metadata": {
    "scrolled": true
   },
   "outputs": [
    {
     "data": {
      "text/plain": [
       "Year\n",
       "2019    1279\n",
       "2017    1250\n",
       "2018    1226\n",
       "2015    1091\n",
       "2014    1078\n",
       "2013    1066\n",
       "2016    1058\n",
       "2020     941\n",
       "2012     912\n",
       "2021     638\n",
       "2005     578\n",
       "2011     559\n",
       "2022     536\n",
       "2003     397\n",
       "2004     385\n",
       "2006     353\n",
       "2010     351\n",
       "2007     326\n",
       "2008     302\n",
       "2002     283\n",
       "2001     213\n",
       "2000     202\n",
       "2009     190\n",
       "1999     147\n",
       "2023     134\n",
       "1998     119\n",
       "1997      97\n",
       "1996      84\n",
       "1995      45\n",
       "1994      36\n",
       "1992      13\n",
       "1993      12\n",
       "1991       9\n",
       "1990       4\n",
       "1989       4\n",
       "1984       3\n",
       "1979       2\n",
       "1986       2\n",
       "1988       2\n",
       "1974       1\n",
       "1985       1\n",
       "1971       1\n",
       "1983       1\n",
       "1943       1\n",
       "Name: count, dtype: int64"
      ]
     },
     "execution_count": 27,
     "metadata": {},
     "output_type": "execute_result"
    }
   ],
   "source": [
    "df['Year'] = df.apply(lambda row: row['specifications-1'][int(row['Index_of_set'])] if pd.notna(row['Index_of_set']) else np.nan, axis=1)\n",
    "df['Year'] = df['Year'].str[1]\n",
    "\n",
    "# Year description table\n",
    "df['Year'].value_counts()"
   ]
  },
  {
   "cell_type": "markdown",
   "id": "c0035440-cc0b-4986-aee5-7eaa87d457f7",
   "metadata": {},
   "source": [
    "#### Category"
   ]
  },
  {
   "cell_type": "code",
   "execution_count": 28,
   "id": "0ae18574-2436-4931-b796-be3175f57621",
   "metadata": {},
   "outputs": [
    {
     "data": {
      "text/plain": [
       "array([3], dtype=int64)"
      ]
     },
     "execution_count": 28,
     "metadata": {},
     "output_type": "execute_result"
    }
   ],
   "source": [
    "# Find the index of the set containing the Category name for each row\n",
    "df['Index_of_set'] = df['specifications-1'].apply(lambda x: find_index_of_set_with_spec(x, 'კატეგორია'))\n",
    "df['Index_of_set'].unique()"
   ]
  },
  {
   "cell_type": "code",
   "execution_count": 29,
   "id": "e33d519d-df5e-40d0-a383-ea949a893059",
   "metadata": {},
   "outputs": [
    {
     "data": {
      "text/plain": [
       "Category\n",
       "სედანი        6326\n",
       "ჯიპი          5830\n",
       "ჰეტჩბექი      2229\n",
       "მინივენი       472\n",
       "კუპე           340\n",
       "ფურგონი        261\n",
       "უნივერსალი     255\n",
       "პიკაპი          95\n",
       "კაბრიოლეტი      63\n",
       "კროსოვერი       61\n",
       "Name: count, dtype: int64"
      ]
     },
     "execution_count": 29,
     "metadata": {},
     "output_type": "execute_result"
    }
   ],
   "source": [
    "df['Category'] = df.apply(lambda row: row['specifications-1'][int(row['Index_of_set'])] if pd.notna(row['Index_of_set']) else np.nan, axis=1)\n",
    "df['Category'] = df['Category'].str[1]\n",
    "\n",
    "# Category description table\n",
    "df['Category'].value_counts()"
   ]
  },
  {
   "cell_type": "markdown",
   "id": "0e482d39-4303-4e2e-8909-e1ea5cbf4950",
   "metadata": {
    "jp-MarkdownHeadingCollapsed": true
   },
   "source": [
    "#### Mileage"
   ]
  },
  {
   "cell_type": "code",
   "execution_count": 30,
   "id": "7a31ccc8-893c-4614-8323-27d2149a6668",
   "metadata": {},
   "outputs": [
    {
     "data": {
      "text/plain": [
       "array([4], dtype=int64)"
      ]
     },
     "execution_count": 30,
     "metadata": {},
     "output_type": "execute_result"
    }
   ],
   "source": [
    "# Find the index of the set containing the Mileage name for each row\n",
    "df['Index_of_set'] = df['specifications-1'].apply(lambda x: find_index_of_set_with_spec(x, 'გარბენი'))\n",
    "df['Index_of_set'].unique()"
   ]
  },
  {
   "cell_type": "code",
   "execution_count": 31,
   "id": "d61c1f58-a78d-4d57-839d-cd175d0d1423",
   "metadata": {},
   "outputs": [
    {
     "data": {
      "text/plain": [
       "count     15932.00000\n",
       "mean     126076.14844\n",
       "std       97743.53608\n",
       "min           0.00000\n",
       "25%       52300.00000\n",
       "50%      115000.00000\n",
       "75%      180000.00000\n",
       "max     1554008.00000\n",
       "Name: Mileage, dtype: float64"
      ]
     },
     "execution_count": 31,
     "metadata": {},
     "output_type": "execute_result"
    }
   ],
   "source": [
    "df['Mileage'] = df.apply(lambda row: row['specifications-1'][int(row['Index_of_set'])] if pd.notna(row['Index_of_set']) else np.nan, axis=1)\n",
    "df['Mileage'] = df['Mileage'].str[1].str[:-3].astype(int)\n",
    "\n",
    "# Set the float_format option to display one decimal point\n",
    "pd.options.display.float_format = '{:.5f}'.format\n",
    "\n",
    "df['Mileage'].describe()"
   ]
  },
  {
   "cell_type": "markdown",
   "id": "9a57aae7-33e1-4a27-bbe4-cfbcf15f6e80",
   "metadata": {
    "jp-MarkdownHeadingCollapsed": true
   },
   "source": [
    "#### Fuel type"
   ]
  },
  {
   "cell_type": "code",
   "execution_count": 32,
   "id": "31c46478-f573-4b84-a3be-6ddc0b2671cf",
   "metadata": {},
   "outputs": [
    {
     "data": {
      "text/plain": [
       "array([5], dtype=int64)"
      ]
     },
     "execution_count": 32,
     "metadata": {},
     "output_type": "execute_result"
    }
   ],
   "source": [
    "# Find the index of the set containing the Fuel type name for each row\n",
    "df['Index_of_set'] = df['specifications-1'].apply(lambda x: find_index_of_set_with_spec(x, 'საწვავის ტიპი'))\n",
    "df['Index_of_set'].unique()"
   ]
  },
  {
   "cell_type": "code",
   "execution_count": 33,
   "id": "a545c06f-e781-4cae-bab9-ba46d7e42ca8",
   "metadata": {},
   "outputs": [
    {
     "data": {
      "text/plain": [
       "Fuel type\n",
       "ბენზინი              11733\n",
       "ჰიბრიდი               1824\n",
       "დიზელი                1204\n",
       "ბუნებრივი გაზი         540\n",
       "თხევადი გაზი           296\n",
       "დატენვადი ჰიბრიდი      212\n",
       "ელექტრო                123\n",
       "Name: count, dtype: int64"
      ]
     },
     "execution_count": 33,
     "metadata": {},
     "output_type": "execute_result"
    }
   ],
   "source": [
    "df['Fuel type'] = df.apply(lambda row: row['specifications-1'][int(row['Index_of_set'])] if pd.notna(row['Index_of_set']) else np.nan, axis=1)\n",
    "df['Fuel type'] = df['Fuel type'].str[1]\n",
    "\n",
    "# Fuel type description table\n",
    "df['Fuel type'].value_counts()"
   ]
  },
  {
   "cell_type": "markdown",
   "id": "007aa75b-64df-473c-9687-73918af479eb",
   "metadata": {
    "jp-MarkdownHeadingCollapsed": true
   },
   "source": [
    "#### Engine Volume"
   ]
  },
  {
   "cell_type": "code",
   "execution_count": 34,
   "id": "8cc0937a-fefb-4959-90ab-4ae1de898f49",
   "metadata": {},
   "outputs": [
    {
     "data": {
      "text/plain": [
       "array([6], dtype=int64)"
      ]
     },
     "execution_count": 34,
     "metadata": {},
     "output_type": "execute_result"
    }
   ],
   "source": [
    "# Find the index of the set containing the Engine Volume name for each row\n",
    "df['Index_of_set'] = df['specifications-1'].apply(lambda x: find_index_of_set_with_spec(x, 'ძრავის მოცულობა'))\n",
    "df['Index_of_set'].unique()"
   ]
  },
  {
   "cell_type": "code",
   "execution_count": 35,
   "id": "444b5133-b398-491b-b8ce-4d7a72ea9af2",
   "metadata": {},
   "outputs": [
    {
     "data": {
      "text/plain": [
       "Engine Volume\n",
       "2.5          2947\n",
       "2.0          2434\n",
       "2.4          1127\n",
       "1.5          1088\n",
       "1.8           962\n",
       "             ... \n",
       "6.2 turbo       1\n",
       "5.2             1\n",
       "6.3 turbo       1\n",
       "4.3 turbo       1\n",
       "5.6             1\n",
       "Name: count, Length: 99, dtype: int64"
      ]
     },
     "execution_count": 35,
     "metadata": {},
     "output_type": "execute_result"
    }
   ],
   "source": [
    "df['Engine Volume'] = df.apply(lambda row: row['specifications-1'][int(row['Index_of_set'])] if pd.notna(row['Index_of_set']) else np.nan, axis=1)\n",
    "df['Engine Volume'] = df['Engine Volume'].str[1]\n",
    "\n",
    "# Engine Volume description table\n",
    "df['Engine Volume'].value_counts()"
   ]
  },
  {
   "cell_type": "markdown",
   "id": "9b135bc4-886f-4a25-a0c1-8c4faa9e9194",
   "metadata": {
    "jp-MarkdownHeadingCollapsed": true
   },
   "source": [
    "#### Cylinders"
   ]
  },
  {
   "cell_type": "code",
   "execution_count": 36,
   "id": "cbeef5ac-2a5b-455a-885d-f2044f35c974",
   "metadata": {},
   "outputs": [
    {
     "data": {
      "text/plain": [
       "Cylinders\n",
       "4             11938\n",
       "6              2691\n",
       "8               675\n",
       "5               220\n",
       "3               125\n",
       "1               111\n",
       "12               86\n",
       "2                46\n",
       "10               17\n",
       "9                 8\n",
       "7                 7\n",
       "ვარიატორი         5\n",
       "11                2\n",
       "ავტომატიკა        1\n",
       "Name: count, dtype: int64"
      ]
     },
     "execution_count": 36,
     "metadata": {},
     "output_type": "execute_result"
    }
   ],
   "source": [
    "df['Cylinders'] = df['specifications-1'].str[7].str[1]\n",
    "df['Cylinders'].value_counts()"
   ]
  },
  {
   "cell_type": "code",
   "execution_count": 37,
   "id": "35dc708b-e275-4cc1-9d0e-53fe11e8a0c9",
   "metadata": {},
   "outputs": [
    {
     "data": {
      "text/html": [
       "<div>\n",
       "<style scoped>\n",
       "    .dataframe tbody tr th:only-of-type {\n",
       "        vertical-align: middle;\n",
       "    }\n",
       "\n",
       "    .dataframe tbody tr th {\n",
       "        vertical-align: top;\n",
       "    }\n",
       "\n",
       "    .dataframe thead th {\n",
       "        text-align: right;\n",
       "    }\n",
       "</style>\n",
       "<table border=\"1\" class=\"dataframe\">\n",
       "  <thead>\n",
       "    <tr style=\"text-align: right;\">\n",
       "      <th></th>\n",
       "      <th>Location</th>\n",
       "      <th>Price</th>\n",
       "      <th>specifications-1</th>\n",
       "      <th>specifications-2</th>\n",
       "      <th>stickers</th>\n",
       "      <th>Index_of_set</th>\n",
       "      <th>Manufacturer</th>\n",
       "      <th>Model</th>\n",
       "      <th>Year</th>\n",
       "      <th>Category</th>\n",
       "      <th>Mileage</th>\n",
       "      <th>Fuel type</th>\n",
       "      <th>Engine Volume</th>\n",
       "      <th>Cylinders</th>\n",
       "    </tr>\n",
       "    <tr>\n",
       "      <th>Id</th>\n",
       "      <th></th>\n",
       "      <th></th>\n",
       "      <th></th>\n",
       "      <th></th>\n",
       "      <th></th>\n",
       "      <th></th>\n",
       "      <th></th>\n",
       "      <th></th>\n",
       "      <th></th>\n",
       "      <th></th>\n",
       "      <th></th>\n",
       "      <th></th>\n",
       "      <th></th>\n",
       "      <th></th>\n",
       "    </tr>\n",
       "  </thead>\n",
       "  <tbody>\n",
       "    <tr>\n",
       "      <th>77714573</th>\n",
       "      <td>რუსთავის ავტობაზრობა</td>\n",
       "      <td>35257</td>\n",
       "      <td>[[მწარმოებელი, BMW], [მოდელი, I3], [წელი, 2014...</td>\n",
       "      <td>[['ჰიდრავლიკა', 'Yes'], ['ბორტკომპიუტერი', 'Ye...</td>\n",
       "      <td>['']</td>\n",
       "      <td>6</td>\n",
       "      <td>BMW</td>\n",
       "      <td>I3</td>\n",
       "      <td>2014</td>\n",
       "      <td>ჰეტჩბექი</td>\n",
       "      <td>22257</td>\n",
       "      <td>ელექტრო</td>\n",
       "      <td>0.0</td>\n",
       "      <td>ვარიატორი</td>\n",
       "    </tr>\n",
       "    <tr>\n",
       "      <th>79780065</th>\n",
       "      <td>რუსთავის ავტობაზრობა</td>\n",
       "      <td>39959</td>\n",
       "      <td>[[მწარმოებელი, Nissan], [მოდელი, Leaf], [წელი,...</td>\n",
       "      <td>[['ჰიდრავლიკა', 'Yes'], ['ბორტკომპიუტერი', 'Ye...</td>\n",
       "      <td>['']</td>\n",
       "      <td>6</td>\n",
       "      <td>Nissan</td>\n",
       "      <td>Leaf</td>\n",
       "      <td>2018</td>\n",
       "      <td>ჰეტჩბექი</td>\n",
       "      <td>40847</td>\n",
       "      <td>ელექტრო</td>\n",
       "      <td>0.0</td>\n",
       "      <td>ავტომატიკა</td>\n",
       "    </tr>\n",
       "    <tr>\n",
       "      <th>82848299</th>\n",
       "      <td>რუსთავი</td>\n",
       "      <td>14364</td>\n",
       "      <td>[[მწარმოებელი, Mitsubishi], [მოდელი, i-Miev], ...</td>\n",
       "      <td>[['ჰიდრავლიკა', 'No'], ['ბორტკომპიუტერი', 'Yes...</td>\n",
       "      <td>['']</td>\n",
       "      <td>6</td>\n",
       "      <td>Mitsubishi</td>\n",
       "      <td>i-Miev</td>\n",
       "      <td>2013</td>\n",
       "      <td>ჰეტჩბექი</td>\n",
       "      <td>120000</td>\n",
       "      <td>ელექტრო</td>\n",
       "      <td>0.0</td>\n",
       "      <td>ვარიატორი</td>\n",
       "    </tr>\n",
       "    <tr>\n",
       "      <th>82839947</th>\n",
       "      <td>რუსთავი</td>\n",
       "      <td>40481</td>\n",
       "      <td>[[მწარმოებელი, Nissan], [მოდელი, Leaf], [წელი,...</td>\n",
       "      <td>[['ჰიდრავლიკა', 'Yes'], ['ბორტკომპიუტერი', 'Ye...</td>\n",
       "      <td>['']</td>\n",
       "      <td>6</td>\n",
       "      <td>Nissan</td>\n",
       "      <td>Leaf</td>\n",
       "      <td>2017</td>\n",
       "      <td>სედანი</td>\n",
       "      <td>120000</td>\n",
       "      <td>ელექტრო</td>\n",
       "      <td>0.0</td>\n",
       "      <td>ვარიატორი</td>\n",
       "    </tr>\n",
       "    <tr>\n",
       "      <th>77715793</th>\n",
       "      <td>რუსთავის ავტობაზრობა</td>\n",
       "      <td>39436</td>\n",
       "      <td>[[მწარმოებელი, BMW], [მოდელი, I3], [წელი, 2016...</td>\n",
       "      <td>[['ჰიდრავლიკა', 'Yes'], ['ბორტკომპიუტერი', 'Ye...</td>\n",
       "      <td>['']</td>\n",
       "      <td>6</td>\n",
       "      <td>BMW</td>\n",
       "      <td>I3</td>\n",
       "      <td>2016</td>\n",
       "      <td>ჰეტჩბექი</td>\n",
       "      <td>56536</td>\n",
       "      <td>ელექტრო</td>\n",
       "      <td>0.0</td>\n",
       "      <td>ვარიატორი</td>\n",
       "    </tr>\n",
       "    <tr>\n",
       "      <th>77777357</th>\n",
       "      <td>რუსთავის ავტობაზრობა</td>\n",
       "      <td>24288</td>\n",
       "      <td>[[მწარმოებელი, BMW], [მოდელი, I3], [წელი, 2014...</td>\n",
       "      <td>[['ჰიდრავლიკა', 'Yes'], ['ბორტკომპიუტერი', 'Ye...</td>\n",
       "      <td>['']</td>\n",
       "      <td>6</td>\n",
       "      <td>BMW</td>\n",
       "      <td>I3</td>\n",
       "      <td>2014</td>\n",
       "      <td>ჰეტჩბექი</td>\n",
       "      <td>58328</td>\n",
       "      <td>ელექტრო</td>\n",
       "      <td>0.0</td>\n",
       "      <td>ვარიატორი</td>\n",
       "    </tr>\n",
       "  </tbody>\n",
       "</table>\n",
       "</div>"
      ],
      "text/plain": [
       "                      Location  Price  \\\n",
       "Id                                      \n",
       "77714573  რუსთავის ავტობაზრობა  35257   \n",
       "79780065  რუსთავის ავტობაზრობა  39959   \n",
       "82848299               რუსთავი  14364   \n",
       "82839947               რუსთავი  40481   \n",
       "77715793  რუსთავის ავტობაზრობა  39436   \n",
       "77777357  რუსთავის ავტობაზრობა  24288   \n",
       "\n",
       "                                           specifications-1  \\\n",
       "Id                                                            \n",
       "77714573  [[მწარმოებელი, BMW], [მოდელი, I3], [წელი, 2014...   \n",
       "79780065  [[მწარმოებელი, Nissan], [მოდელი, Leaf], [წელი,...   \n",
       "82848299  [[მწარმოებელი, Mitsubishi], [მოდელი, i-Miev], ...   \n",
       "82839947  [[მწარმოებელი, Nissan], [მოდელი, Leaf], [წელი,...   \n",
       "77715793  [[მწარმოებელი, BMW], [მოდელი, I3], [წელი, 2016...   \n",
       "77777357  [[მწარმოებელი, BMW], [მოდელი, I3], [წელი, 2014...   \n",
       "\n",
       "                                           specifications-2 stickers  \\\n",
       "Id                                                                     \n",
       "77714573  [['ჰიდრავლიკა', 'Yes'], ['ბორტკომპიუტერი', 'Ye...     ['']   \n",
       "79780065  [['ჰიდრავლიკა', 'Yes'], ['ბორტკომპიუტერი', 'Ye...     ['']   \n",
       "82848299  [['ჰიდრავლიკა', 'No'], ['ბორტკომპიუტერი', 'Yes...     ['']   \n",
       "82839947  [['ჰიდრავლიკა', 'Yes'], ['ბორტკომპიუტერი', 'Ye...     ['']   \n",
       "77715793  [['ჰიდრავლიკა', 'Yes'], ['ბორტკომპიუტერი', 'Ye...     ['']   \n",
       "77777357  [['ჰიდრავლიკა', 'Yes'], ['ბორტკომპიუტერი', 'Ye...     ['']   \n",
       "\n",
       "          Index_of_set Manufacturer   Model  Year  Category  Mileage  \\\n",
       "Id                                                                     \n",
       "77714573             6          BMW      I3  2014  ჰეტჩბექი    22257   \n",
       "79780065             6       Nissan    Leaf  2018  ჰეტჩბექი    40847   \n",
       "82848299             6   Mitsubishi  i-Miev  2013  ჰეტჩბექი   120000   \n",
       "82839947             6       Nissan    Leaf  2017    სედანი   120000   \n",
       "77715793             6          BMW      I3  2016  ჰეტჩბექი    56536   \n",
       "77777357             6          BMW      I3  2014  ჰეტჩბექი    58328   \n",
       "\n",
       "         Fuel type Engine Volume   Cylinders  \n",
       "Id                                            \n",
       "77714573   ელექტრო          0.0    ვარიატორი  \n",
       "79780065   ელექტრო          0.0   ავტომატიკა  \n",
       "82848299   ელექტრო          0.0    ვარიატორი  \n",
       "82839947   ელექტრო          0.0    ვარიატორი  \n",
       "77715793   ელექტრო          0.0    ვარიატორი  \n",
       "77777357   ელექტრო          0.0    ვარიატორი  "
      ]
     },
     "execution_count": 37,
     "metadata": {},
     "output_type": "execute_result"
    }
   ],
   "source": [
    "df[(df['Cylinders']=='ვარიატორი') | (df['Cylinders']=='ავტომატიკა')]"
   ]
  },
  {
   "cell_type": "code",
   "execution_count": 38,
   "id": "08e6e434-3830-45ae-9045-882688688c92",
   "metadata": {},
   "outputs": [],
   "source": [
    "df.loc[(df['Cylinders']=='ვარიატორი') | (df['Cylinders']=='ავტომატიკა'), 'Cylinders'] = np.nan"
   ]
  },
  {
   "cell_type": "code",
   "execution_count": 39,
   "id": "6c9b0a77-60ff-41a0-a746-a9f5c5cfe3ba",
   "metadata": {},
   "outputs": [
    {
     "data": {
      "text/plain": [
       "Cylinders\n",
       "4     11938\n",
       "6      2691\n",
       "8       675\n",
       "5       220\n",
       "3       125\n",
       "1       111\n",
       "12       86\n",
       "2        46\n",
       "10       17\n",
       "9         8\n",
       "7         7\n",
       "11        2\n",
       "Name: count, dtype: Int64"
      ]
     },
     "execution_count": 39,
     "metadata": {},
     "output_type": "execute_result"
    }
   ],
   "source": [
    "df.Cylinders = df.Cylinders.astype('Int64')\n",
    "df['Cylinders'].value_counts()"
   ]
  },
  {
   "cell_type": "markdown",
   "id": "3de8c5f0-c4f8-4292-bd59-9f3866fbefa2",
   "metadata": {
    "jp-MarkdownHeadingCollapsed": true
   },
   "source": [
    "#### Gear box type"
   ]
  },
  {
   "cell_type": "code",
   "execution_count": 40,
   "id": "6450a609-65d6-4171-87d2-e7736eac39e5",
   "metadata": {},
   "outputs": [
    {
     "data": {
      "text/plain": [
       "array([8, 7], dtype=int64)"
      ]
     },
     "execution_count": 40,
     "metadata": {},
     "output_type": "execute_result"
    }
   ],
   "source": [
    "# Find the index of the set containing the Gear box type name for each row\n",
    "df['Index_of_set'] = df['specifications-1'].apply(lambda x: find_index_of_set_with_spec(x, 'გადაცემათა კოლოფი'))\n",
    "df['Index_of_set'].unique()"
   ]
  },
  {
   "cell_type": "code",
   "execution_count": 41,
   "id": "15229f09-e42c-4949-b6f5-2c4e719a366a",
   "metadata": {},
   "outputs": [
    {
     "data": {
      "text/plain": [
       "Gear box type\n",
       "ავტომატიკა    6669\n",
       "ტიპტრონიკი    6367\n",
       "ვარიატორი     1449\n",
       "მექანიკა      1447\n",
       "Name: count, dtype: int64"
      ]
     },
     "execution_count": 41,
     "metadata": {},
     "output_type": "execute_result"
    }
   ],
   "source": [
    "df['Gear box type'] = df.apply(lambda row: row['specifications-1'][int(row['Index_of_set'])] if pd.notna(row['Index_of_set']) else np.nan, axis=1)\n",
    "df['Gear box type'] = df['Gear box type'].str[1]\n",
    "\n",
    "# Gear box type description table\n",
    "df['Gear box type'].value_counts()"
   ]
  },
  {
   "cell_type": "markdown",
   "id": "32933731-bd99-4a46-aafc-66c64a5d1a1f",
   "metadata": {
    "jp-MarkdownHeadingCollapsed": true
   },
   "source": [
    "#### Drive wheels"
   ]
  },
  {
   "cell_type": "code",
   "execution_count": 42,
   "id": "3c65c625-61eb-4438-a627-2b12fe2319e9",
   "metadata": {},
   "outputs": [
    {
     "data": {
      "text/plain": [
       "array([ 9.,  8., nan])"
      ]
     },
     "execution_count": 42,
     "metadata": {},
     "output_type": "execute_result"
    }
   ],
   "source": [
    "# Find the index of the set containing the Drive wheels name for each row\n",
    "df['Index_of_set'] = df['specifications-1'].apply(lambda x: find_index_of_set_with_spec(x, 'წამყვანი თვლები'))\n",
    "df['Index_of_set'].unique()"
   ]
  },
  {
   "cell_type": "code",
   "execution_count": 43,
   "id": "089bfdda-017f-4332-8892-0e74ec325cb0",
   "metadata": {},
   "outputs": [
    {
     "data": {
      "text/plain": [
       "Drive wheels\n",
       "წინა     8311\n",
       "4x4      5730\n",
       "უკანა    1885\n",
       "Name: count, dtype: int64"
      ]
     },
     "execution_count": 43,
     "metadata": {},
     "output_type": "execute_result"
    }
   ],
   "source": [
    "df['Drive wheels'] = df.apply(lambda row: row['specifications-1'][int(row['Index_of_set'])] if pd.notna(row['Index_of_set']) else np.nan, axis=1)\n",
    "df['Drive wheels'] = df['Drive wheels'].str[1]\n",
    "\n",
    "# Drive wheels description table\n",
    "df['Drive wheels'].value_counts()"
   ]
  },
  {
   "cell_type": "markdown",
   "id": "8de0418d-296a-42f8-861b-d308ea65b46c",
   "metadata": {
    "jp-MarkdownHeadingCollapsed": true
   },
   "source": [
    "#### Doors"
   ]
  },
  {
   "cell_type": "code",
   "execution_count": 44,
   "id": "f7a27bdf-7514-4f8a-a889-aed1a6b0d403",
   "metadata": {},
   "outputs": [
    {
     "data": {
      "text/plain": [
       "array([10.,  9., nan])"
      ]
     },
     "execution_count": 44,
     "metadata": {},
     "output_type": "execute_result"
    }
   ],
   "source": [
    "# Find the index of the set containing the Doors name for each row\n",
    "df['Index_of_set'] = df['specifications-1'].apply(lambda x: find_index_of_set_with_spec(x, 'კარები'))\n",
    "df['Index_of_set'].unique()"
   ]
  },
  {
   "cell_type": "code",
   "execution_count": 45,
   "id": "a15ed4ad-80cf-4c84-ab4d-585e7ead4160",
   "metadata": {},
   "outputs": [
    {
     "data": {
      "text/plain": [
       "Doors\n",
       "4/5    14739\n",
       "2/3      691\n",
       ">5       500\n",
       "Name: count, dtype: int64"
      ]
     },
     "execution_count": 45,
     "metadata": {},
     "output_type": "execute_result"
    }
   ],
   "source": [
    "df['Doors'] = df.apply(lambda row: row['specifications-1'][int(row['Index_of_set'])] if pd.notna(row['Index_of_set']) else np.nan, axis=1)\n",
    "df['Doors'] = df['Doors'].str[1]\n",
    "\n",
    "# Doors description table\n",
    "df.Doors.value_counts()"
   ]
  },
  {
   "cell_type": "markdown",
   "id": "f39930dc-d880-4107-b247-4dde18871bc4",
   "metadata": {
    "jp-MarkdownHeadingCollapsed": true
   },
   "source": [
    "#### Airbags"
   ]
  },
  {
   "cell_type": "code",
   "execution_count": 46,
   "id": "e8073694-e3a6-4cfc-a6f7-ef5e80e866aa",
   "metadata": {},
   "outputs": [
    {
     "data": {
      "text/plain": [
       "array([11., nan, 10.,  9.])"
      ]
     },
     "execution_count": 46,
     "metadata": {},
     "output_type": "execute_result"
    }
   ],
   "source": [
    "# Find the index of the set containing the Airbags name for each row\n",
    "df['Index_of_set'] = df['specifications-1'].apply(lambda x: find_index_of_set_with_spec(x, 'აირბეგი'))\n",
    "df['Index_of_set'].unique()"
   ]
  },
  {
   "cell_type": "code",
   "execution_count": 47,
   "id": "61b3d720-2415-4ecf-b50e-968c4791301d",
   "metadata": {},
   "outputs": [
    {
     "data": {
      "text/plain": [
       "Airbags\n",
       "12    3830\n",
       "9     2961\n",
       "8     2710\n",
       "6     1602\n",
       "4     1514\n",
       "10    1336\n",
       "2      786\n",
       "5      289\n",
       "7      182\n",
       "3       70\n",
       "11      65\n",
       "1       56\n",
       "Name: count, dtype: Int64"
      ]
     },
     "execution_count": 47,
     "metadata": {},
     "output_type": "execute_result"
    }
   ],
   "source": [
    "df['Airbags'] = df.apply(lambda row: row['specifications-1'][int(row['Index_of_set'])] if pd.notna(row['Index_of_set']) else np.nan, axis=1)\n",
    "df['Airbags'] = df['Airbags'].str[1].astype('Int64')\n",
    "\n",
    "# Airbags description table\n",
    "df.Airbags.value_counts()"
   ]
  },
  {
   "cell_type": "markdown",
   "id": "477c11dc-089a-48b3-b6b1-7a8da49edc9d",
   "metadata": {
    "jp-MarkdownHeadingCollapsed": true
   },
   "source": [
    "#### Wheel"
   ]
  },
  {
   "cell_type": "code",
   "execution_count": 48,
   "id": "18370ce8-1398-4059-85c2-eefe8d416e42",
   "metadata": {},
   "outputs": [
    {
     "data": {
      "text/plain": [
       "array([12, 11, 10], dtype=int64)"
      ]
     },
     "execution_count": 48,
     "metadata": {},
     "output_type": "execute_result"
    }
   ],
   "source": [
    "# Find the index of the set containing the Wheel name for each row\n",
    "df['Index_of_set'] = df['specifications-1'].apply(lambda x: find_index_of_set_with_spec(x, 'საჭე'))\n",
    "df['Index_of_set'].unique()"
   ]
  },
  {
   "cell_type": "code",
   "execution_count": 49,
   "id": "a73af9d9-94b2-4f5b-b861-227900d9fa94",
   "metadata": {},
   "outputs": [
    {
     "data": {
      "text/plain": [
       "Wheel\n",
       "მარცხენა    13846\n",
       "მარჯვენა     2086\n",
       "Name: count, dtype: int64"
      ]
     },
     "execution_count": 49,
     "metadata": {},
     "output_type": "execute_result"
    }
   ],
   "source": [
    "df['Wheel'] = df.apply(lambda row: row['specifications-1'][int(row['Index_of_set'])] if pd.notna(row['Index_of_set']) else np.nan, axis=1)\n",
    "df['Wheel'] = df['Wheel'].str[1]\n",
    "\n",
    "# Wheel description table\n",
    "df.Wheel.value_counts()"
   ]
  },
  {
   "cell_type": "markdown",
   "id": "07814ad0-e6fd-40aa-8f61-7432f8bedf01",
   "metadata": {
    "jp-MarkdownHeadingCollapsed": true
   },
   "source": [
    "#### Color"
   ]
  },
  {
   "cell_type": "code",
   "execution_count": 50,
   "id": "b7d21fa7-bdc7-45ed-9ae8-5756c809f094",
   "metadata": {},
   "outputs": [
    {
     "data": {
      "text/plain": [
       "array([13., 12., nan, 11.])"
      ]
     },
     "execution_count": 50,
     "metadata": {},
     "output_type": "execute_result"
    }
   ],
   "source": [
    "# Find the index of the set containing the Color name for each row\n",
    "df['Index_of_set'] = df['specifications-1'].apply(lambda x: find_index_of_set_with_spec(x, 'ფერი'))\n",
    "df['Index_of_set'].unique()"
   ]
  },
  {
   "cell_type": "code",
   "execution_count": 51,
   "id": "37f32e16-0fa2-4d67-aa39-b5cf9aadfe2f",
   "metadata": {},
   "outputs": [
    {
     "data": {
      "text/plain": [
       "Color\n",
       "შავი            4196\n",
       "თეთრი           2991\n",
       "ვერცხლისფერი    2639\n",
       "რუხი            2628\n",
       "ლურჯი           1505\n",
       "წითელი           651\n",
       "შინდისფერი       356\n",
       "მწვანე           214\n",
       "ყავისფერი        204\n",
       "ცისფერი          193\n",
       "ოქროსფერი        129\n",
       "ჩალისფერი         81\n",
       "ნარინჯისფერი      60\n",
       "ყვითელი           38\n",
       "იისფერი           38\n",
       "ვარდისფერი         6\n",
       "Name: count, dtype: int64"
      ]
     },
     "execution_count": 51,
     "metadata": {},
     "output_type": "execute_result"
    }
   ],
   "source": [
    "df['Color'] = df.apply(lambda row: row['specifications-1'][int(row['Index_of_set'])] if pd.notna(row['Index_of_set']) else np.nan, axis=1)\n",
    "df['Color'] = df['Color'].str[1]\n",
    "\n",
    "# Color description table\n",
    "df.Color.value_counts()"
   ]
  },
  {
   "cell_type": "markdown",
   "id": "c7f92303-9c2e-450d-9032-0e45ced50a69",
   "metadata": {
    "jp-MarkdownHeadingCollapsed": true
   },
   "source": [
    "#### Interior color"
   ]
  },
  {
   "cell_type": "code",
   "execution_count": 52,
   "id": "1b739ebe-7893-4d60-a9fe-8a48ae4134c8",
   "metadata": {},
   "outputs": [
    {
     "data": {
      "text/plain": [
       "array([14., 13., 12., nan])"
      ]
     },
     "execution_count": 52,
     "metadata": {},
     "output_type": "execute_result"
    }
   ],
   "source": [
    "# Find the index of the set containing the Interior color name for each row\n",
    "df['Index_of_set'] = df['specifications-1'].apply(lambda x: find_index_of_set_with_spec(x, 'სალონის ფერი'))\n",
    "df['Index_of_set'].unique()"
   ]
  },
  {
   "cell_type": "code",
   "execution_count": 53,
   "id": "d63e3cc7-5947-45d5-a1c1-b1b245d6daa9",
   "metadata": {},
   "outputs": [
    {
     "data": {
      "text/plain": [
       "Interior color\n",
       "შავი            10081\n",
       "რუხი             2711\n",
       "ჩალისფერი        1368\n",
       "თეთრი             730\n",
       "ყავისფერი         378\n",
       "წითელი            213\n",
       "ლურჯი             100\n",
       "ყვითელი            94\n",
       "ოქროსფერი          89\n",
       "ნარინჯისფერი       87\n",
       "შინდისფერი         80\n",
       "Name: count, dtype: int64"
      ]
     },
     "execution_count": 53,
     "metadata": {},
     "output_type": "execute_result"
    }
   ],
   "source": [
    "df['Interior color'] = df.apply(lambda row: row['specifications-1'][int(row['Index_of_set'])] if pd.notna(row['Index_of_set']) else np.nan, axis=1)\n",
    "df['Interior color'] = df['Interior color'].str[1]\n",
    "\n",
    "# Interior color description table\n",
    "df['Interior color'].value_counts()"
   ]
  },
  {
   "cell_type": "markdown",
   "id": "14ddf3a4-071f-45fc-9e3f-af598257a7c2",
   "metadata": {
    "jp-MarkdownHeadingCollapsed": true
   },
   "source": [
    "#### Interior material"
   ]
  },
  {
   "cell_type": "code",
   "execution_count": 54,
   "id": "df37d37c-7fbd-4bc2-bc8e-cec796e6558a",
   "metadata": {},
   "outputs": [
    {
     "data": {
      "text/plain": [
       "array([15., 14., 13., nan])"
      ]
     },
     "execution_count": 54,
     "metadata": {},
     "output_type": "execute_result"
    }
   ],
   "source": [
    "# Find the index of the set containing the Interior material name for each row\n",
    "df['Index_of_set'] = df['specifications-1'].apply(lambda x: find_index_of_set_with_spec(x, 'სალონის მასალა'))\n",
    "df['Index_of_set'].unique()"
   ]
  },
  {
   "cell_type": "code",
   "execution_count": 55,
   "id": "ae5de748-c4fc-4c1d-b6be-05d623a49f23",
   "metadata": {},
   "outputs": [
    {
     "data": {
      "text/plain": [
       "Interior material\n",
       "ტყავი              7259\n",
       "ნაჭერი             7114\n",
       "კომბინირებული      1146\n",
       "ალკანტარა           326\n",
       "ხელოვნური ტყავი      86\n",
       "Name: count, dtype: int64"
      ]
     },
     "execution_count": 55,
     "metadata": {},
     "output_type": "execute_result"
    }
   ],
   "source": [
    "df['Interior material'] = df.apply(lambda row: row['specifications-1'][int(row['Index_of_set'])] if pd.notna(row['Index_of_set']) else np.nan, axis=1)\n",
    "df['Interior material'] = df['Interior material'].str[1]\n",
    "\n",
    "# Interior material description table\n",
    "df['Interior material'].value_counts()"
   ]
  },
  {
   "cell_type": "markdown",
   "id": "8c472dd5-1ef2-4c9e-a6bb-a256d3ba60bc",
   "metadata": {
    "jp-MarkdownHeadingCollapsed": true
   },
   "source": [
    "#### Exchange"
   ]
  },
  {
   "cell_type": "code",
   "execution_count": 56,
   "id": "ac0a3c09-6679-4351-80ae-7619da5876d0",
   "metadata": {},
   "outputs": [
    {
     "data": {
      "text/plain": [
       "array([16, 15, 14], dtype=int64)"
      ]
     },
     "execution_count": 56,
     "metadata": {},
     "output_type": "execute_result"
    }
   ],
   "source": [
    "# Find the index of the set containing the Exchange name for each row\n",
    "df['Index_of_set'] = df['specifications-1'].apply(lambda x: find_index_of_set_with_spec(x, 'გაცვლა'))\n",
    "df['Index_of_set'].unique()"
   ]
  },
  {
   "cell_type": "code",
   "execution_count": 57,
   "id": "5143c118-5507-4981-b83e-c70746e8e463",
   "metadata": {},
   "outputs": [
    {
     "data": {
      "text/plain": [
       "Exchange\n",
       "არა    15420\n",
       "კი       512\n",
       "Name: count, dtype: int64"
      ]
     },
     "execution_count": 57,
     "metadata": {},
     "output_type": "execute_result"
    }
   ],
   "source": [
    "df['Exchange'] = df.apply(lambda row: row['specifications-1'][int(row['Index_of_set'])] if pd.notna(row['Index_of_set']) else np.nan, axis=1)\n",
    "df['Exchange'] = df['Exchange'].str[1]\n",
    "\n",
    "# Exchange description table\n",
    "df.Exchange.value_counts()"
   ]
  },
  {
   "cell_type": "markdown",
   "id": "ab73bf61-db80-455a-896c-8d7c1e8b8d1f",
   "metadata": {
    "jp-MarkdownHeadingCollapsed": true
   },
   "source": [
    "#### Technical inspection"
   ]
  },
  {
   "cell_type": "code",
   "execution_count": 58,
   "id": "9ea95804-f3c4-4cbf-bc8c-67ff3964a1aa",
   "metadata": {},
   "outputs": [
    {
     "data": {
      "text/plain": [
       "array([17, 16, 15], dtype=int64)"
      ]
     },
     "execution_count": 58,
     "metadata": {},
     "output_type": "execute_result"
    }
   ],
   "source": [
    "# Find the index of the set containing the Technical inspection name for each row\n",
    "df['Index_of_set'] = df['specifications-1'].apply(lambda x: find_index_of_set_with_spec(x, 'ტექ. დათვალიერება'))\n",
    "df['Index_of_set'].unique()"
   ]
  },
  {
   "cell_type": "code",
   "execution_count": 59,
   "id": "78d01d7f-585e-4cf9-a402-d9b530782bf1",
   "metadata": {},
   "outputs": [
    {
     "data": {
      "text/plain": [
       "Technical inspection\n",
       "კი     15395\n",
       "არა      537\n",
       "Name: count, dtype: int64"
      ]
     },
     "execution_count": 59,
     "metadata": {},
     "output_type": "execute_result"
    }
   ],
   "source": [
    "df['Technical inspection'] = df.apply(lambda row: row['specifications-1'][int(row['Index_of_set'])] if pd.notna(row['Index_of_set']) else np.nan, axis=1)\n",
    "df['Technical inspection'] = df['Technical inspection'].str[1]\n",
    "\n",
    "# Technical inspection description table\n",
    "df['Technical inspection'].value_counts()"
   ]
  },
  {
   "cell_type": "markdown",
   "id": "146b4753-cc25-4231-bba5-10334f76e831",
   "metadata": {
    "jp-MarkdownHeadingCollapsed": true
   },
   "source": [
    "#### Catalyst"
   ]
  },
  {
   "cell_type": "code",
   "execution_count": 60,
   "id": "39887acd-5f1d-4633-8dea-8811672f0732",
   "metadata": {},
   "outputs": [
    {
     "data": {
      "text/plain": [
       "array([18., nan, 17., 16.])"
      ]
     },
     "execution_count": 60,
     "metadata": {},
     "output_type": "execute_result"
    }
   ],
   "source": [
    "# Find the index of the set containing the Catalyst name for each row\n",
    "df['Index_of_set'] = df['specifications-1'].apply(lambda x: find_index_of_set_with_spec(x, 'კატალიზატორი'))\n",
    "df['Index_of_set'].unique()"
   ]
  },
  {
   "cell_type": "code",
   "execution_count": 61,
   "id": "b2b3c80c-0186-4973-92a6-7796618a0379",
   "metadata": {},
   "outputs": [
    {
     "data": {
      "text/plain": [
       "Catalyst\n",
       "კი     12350\n",
       "არა     1808\n",
       "Name: count, dtype: int64"
      ]
     },
     "execution_count": 61,
     "metadata": {},
     "output_type": "execute_result"
    }
   ],
   "source": [
    "df['Catalyst'] = df.apply(lambda row: row['specifications-1'][int(row['Index_of_set'])] if pd.notna(row['Index_of_set']) else np.nan, axis=1)\n",
    "df['Catalyst'] = df['Catalyst'].str[1]\n",
    "\n",
    "# Catalyst description table\n",
    "df.Catalyst.value_counts()"
   ]
  },
  {
   "cell_type": "markdown",
   "id": "b473eb78-c712-497e-a651-58d7f9de31cb",
   "metadata": {
    "jp-MarkdownHeadingCollapsed": true
   },
   "source": [
    "### specifications-2"
   ]
  },
  {
   "cell_type": "code",
   "execution_count": 62,
   "id": "1385c9d6-af86-4267-b22a-41c34ec20273",
   "metadata": {},
   "outputs": [],
   "source": [
    "# Turn string of list into a python list\n",
    "df['specifications-2'] = df['specifications-2'].apply(lambda x: ast.literal_eval(x))"
   ]
  },
  {
   "cell_type": "code",
   "execution_count": 63,
   "id": "74e4016f-a521-4606-a26c-2ba73ab663aa",
   "metadata": {},
   "outputs": [
    {
     "data": {
      "text/plain": [
       "Id\n",
       "93284442    [[ჰიდრავლიკა, Yes], [ბორტკომპიუტერი, Yes], [კო...\n",
       "94416194    [[ჰიდრავლიკა, Yes], [ბორტკომპიუტერი, Yes], [კო...\n",
       "95335570    [[ჰიდრავლიკა, Yes], [ბორტკომპიუტერი, Yes], [კო...\n",
       "95470114    [[ჰიდრავლიკა, Yes], [ბორტკომპიუტერი, Yes], [კო...\n",
       "85990507    [[ჰიდრავლიკა, Yes], [ბორტკომპიუტერი, Yes], [კო...\n",
       "                                  ...                        \n",
       "95698770    [[ჰიდრავლიკა, Yes], [ბორტკომპიუტერი, Yes], [კო...\n",
       "92268310    [[ჰიდრავლიკა, Yes], [ბორტკომპიუტერი, Yes], [კო...\n",
       "95695366    [[ჰიდრავლიკა, Yes], [ბორტკომპიუტერი, Yes], [კო...\n",
       "95698710    [[ჰიდრავლიკა, Yes], [ბორტკომპიუტერი, Yes], [კო...\n",
       "95699122    [[ჰიდრავლიკა, Yes], [ბორტკომპიუტერი, No], [კონ...\n",
       "Name: specifications-2, Length: 15932, dtype: object"
      ]
     },
     "execution_count": 63,
     "metadata": {},
     "output_type": "execute_result"
    }
   ],
   "source": [
    "df['specifications-2']"
   ]
  },
  {
   "cell_type": "markdown",
   "id": "cdb4b40e-384b-4c13-8a94-0c94f755485d",
   "metadata": {},
   "source": [
    "#### Steering Hydraulics"
   ]
  },
  {
   "cell_type": "code",
   "execution_count": 64,
   "id": "f526d2f6-6556-4f66-9a24-6c1021763bf6",
   "metadata": {},
   "outputs": [
    {
     "data": {
      "text/plain": [
       "array([0], dtype=int64)"
      ]
     },
     "execution_count": 64,
     "metadata": {},
     "output_type": "execute_result"
    }
   ],
   "source": [
    "# Find the index of the set containing the ჰიდრავლიკა name for each row\n",
    "df['Index_of_set'] = df['specifications-2'].apply(lambda x: find_index_of_set_with_spec(x, 'ჰიდრავლიკა'))\n",
    "df['Index_of_set'].unique()"
   ]
  },
  {
   "cell_type": "code",
   "execution_count": 65,
   "id": "0aed610a-c9b5-4f33-97b1-8f6b89fc7b9b",
   "metadata": {},
   "outputs": [
    {
     "data": {
      "text/plain": [
       "Steering Hydraulics\n",
       "Yes    14573\n",
       "No      1359\n",
       "Name: count, dtype: int64"
      ]
     },
     "execution_count": 65,
     "metadata": {},
     "output_type": "execute_result"
    }
   ],
   "source": [
    "df['Steering Hydraulics'] = df.apply(lambda row: row['specifications-2'][int(row['Index_of_set'])] if pd.notna(row['Index_of_set']) else np.nan, axis=1)\n",
    "df['Steering Hydraulics'] = df['Steering Hydraulics'].str[1]\n",
    "\n",
    "# Catalyst description table\n",
    "df['Steering Hydraulics'].value_counts()"
   ]
  },
  {
   "cell_type": "markdown",
   "id": "f52b506a-d717-4047-b133-01395237ca80",
   "metadata": {},
   "source": [
    "#### On-Board Computer"
   ]
  },
  {
   "cell_type": "code",
   "execution_count": 66,
   "id": "a0d87346-da6e-45e5-96bb-6e778c27043a",
   "metadata": {},
   "outputs": [
    {
     "data": {
      "text/plain": [
       "array([1], dtype=int64)"
      ]
     },
     "execution_count": 66,
     "metadata": {},
     "output_type": "execute_result"
    }
   ],
   "source": [
    "# Find the index of the set containing the ბორტკომპიუტერი name for each row\n",
    "df['Index_of_set'] = df['specifications-2'].apply(lambda x: find_index_of_set_with_spec(x, 'ბორტკომპიუტერი'))\n",
    "df['Index_of_set'].unique()"
   ]
  },
  {
   "cell_type": "code",
   "execution_count": 67,
   "id": "6353c956-ec3d-44b6-bed8-6dd78678155c",
   "metadata": {},
   "outputs": [
    {
     "data": {
      "text/plain": [
       "On-Board Computer\n",
       "Yes    12596\n",
       "No      3336\n",
       "Name: count, dtype: int64"
      ]
     },
     "execution_count": 67,
     "metadata": {},
     "output_type": "execute_result"
    }
   ],
   "source": [
    "df['On-Board Computer'] = df.apply(lambda row: row['specifications-2'][int(row['Index_of_set'])] if pd.notna(row['Index_of_set']) else np.nan, axis=1)\n",
    "df['On-Board Computer'] = df['On-Board Computer'].str[1]\n",
    "\n",
    "# ბორტკომპიუტერი description table\n",
    "df['On-Board Computer'].value_counts()"
   ]
  },
  {
   "cell_type": "markdown",
   "id": "840a721b-3bb3-45cc-a396-c88ebe8d6a4f",
   "metadata": {},
   "source": [
    "#### Air Conditioning"
   ]
  },
  {
   "cell_type": "code",
   "execution_count": 68,
   "id": "de1356d1-02c7-4a30-b895-ed6539b7a9f9",
   "metadata": {},
   "outputs": [
    {
     "data": {
      "text/plain": [
       "array([2], dtype=int64)"
      ]
     },
     "execution_count": 68,
     "metadata": {},
     "output_type": "execute_result"
    }
   ],
   "source": [
    "# Find the index of the set containing the კონდიციონერი name for each row\n",
    "df['Index_of_set'] = df['specifications-2'].apply(lambda x: find_index_of_set_with_spec(x, 'კონდიციონერი'))\n",
    "df['Index_of_set'].unique()"
   ]
  },
  {
   "cell_type": "code",
   "execution_count": 69,
   "id": "33950e17-d5aa-46d0-80b0-a4f2576a8d84",
   "metadata": {},
   "outputs": [
    {
     "data": {
      "text/plain": [
       "Air Conditioning\n",
       "Yes    14397\n",
       "No      1535\n",
       "Name: count, dtype: int64"
      ]
     },
     "execution_count": 69,
     "metadata": {},
     "output_type": "execute_result"
    }
   ],
   "source": [
    "df['Air Conditioning'] = df.apply(lambda row: row['specifications-2'][int(row['Index_of_set'])] if pd.notna(row['Index_of_set']) else np.nan, axis=1)\n",
    "df['Air Conditioning'] = df['Air Conditioning'].str[1]\n",
    "\n",
    "# კონდიციონერი description table\n",
    "df['Air Conditioning'].value_counts()"
   ]
  },
  {
   "cell_type": "markdown",
   "id": "6cceb7b0-526e-40db-ae97-6436642daae9",
   "metadata": {},
   "source": [
    "#### Parking Control"
   ]
  },
  {
   "cell_type": "code",
   "execution_count": 70,
   "id": "7fab374e-6663-450e-b548-287ff174b464",
   "metadata": {},
   "outputs": [
    {
     "data": {
      "text/plain": [
       "array([3], dtype=int64)"
      ]
     },
     "execution_count": 70,
     "metadata": {},
     "output_type": "execute_result"
    }
   ],
   "source": [
    "# Find the index of the set containing the პარკინგკონტროლი name for each row\n",
    "df['Index_of_set'] = df['specifications-2'].apply(lambda x: find_index_of_set_with_spec(x, 'პარკინგკონტროლი'))\n",
    "df['Index_of_set'].unique()"
   ]
  },
  {
   "cell_type": "code",
   "execution_count": 71,
   "id": "11b0c429-7328-48f9-ab3e-3890b49474f2",
   "metadata": {},
   "outputs": [
    {
     "data": {
      "text/plain": [
       "Parking Control\n",
       "Yes    9328\n",
       "No     6604\n",
       "Name: count, dtype: int64"
      ]
     },
     "execution_count": 71,
     "metadata": {},
     "output_type": "execute_result"
    }
   ],
   "source": [
    "df['Parking Control'] = df.apply(lambda row: row['specifications-2'][int(row['Index_of_set'])] if pd.notna(row['Index_of_set']) else np.nan, axis=1)\n",
    "df['Parking Control'] = df['Parking Control'].str[1]\n",
    "\n",
    "# პარკინგკონტროლი description table\n",
    "df['Parking Control'].value_counts()"
   ]
  },
  {
   "cell_type": "markdown",
   "id": "7a01a2e4-2531-4b86-a28d-f76841000825",
   "metadata": {},
   "source": [
    "#### Rear View Camera"
   ]
  },
  {
   "cell_type": "code",
   "execution_count": 72,
   "id": "4bcef1cc-291c-404c-bb88-fada76746fc1",
   "metadata": {},
   "outputs": [
    {
     "data": {
      "text/plain": [
       "array([4], dtype=int64)"
      ]
     },
     "execution_count": 72,
     "metadata": {},
     "output_type": "execute_result"
    }
   ],
   "source": [
    "# Find the index of the set containing the უკანა ხედვის კამერა name for each row\n",
    "df['Index_of_set'] = df['specifications-2'].apply(lambda x: find_index_of_set_with_spec(x, 'უკანა ხედვის კამერა'))\n",
    "df['Index_of_set'].unique()"
   ]
  },
  {
   "cell_type": "code",
   "execution_count": 73,
   "id": "b3e0d648-1281-4dec-864f-ba69852507f4",
   "metadata": {},
   "outputs": [
    {
     "data": {
      "text/plain": [
       "Rear View Camera\n",
       "Yes    11204\n",
       "No      4728\n",
       "Name: count, dtype: int64"
      ]
     },
     "execution_count": 73,
     "metadata": {},
     "output_type": "execute_result"
    }
   ],
   "source": [
    "df['Rear View Camera'] = df.apply(lambda row: row['specifications-2'][int(row['Index_of_set'])] if pd.notna(row['Index_of_set']) else np.nan, axis=1)\n",
    "df['Rear View Camera'] = df['Rear View Camera'].str[1]\n",
    "\n",
    "# უკანა ხედვის კამერა description table\n",
    "df['Rear View Camera'].value_counts()"
   ]
  },
  {
   "cell_type": "markdown",
   "id": "798d7d20-b98b-4ab2-bf4d-77a3112ee3ec",
   "metadata": {},
   "source": [
    "#### Electric Side Mirros"
   ]
  },
  {
   "cell_type": "code",
   "execution_count": 74,
   "id": "f2823162-03d1-4258-a018-8163b6359d21",
   "metadata": {},
   "outputs": [
    {
     "data": {
      "text/plain": [
       "array([5], dtype=int64)"
      ]
     },
     "execution_count": 74,
     "metadata": {},
     "output_type": "execute_result"
    }
   ],
   "source": [
    "# Find the index of the set containing the ელექტრო შუშები name for each row\n",
    "df['Index_of_set'] = df['specifications-2'].apply(lambda x: find_index_of_set_with_spec(x, 'ელექტრო შუშები'))\n",
    "df['Index_of_set'].unique()"
   ]
  },
  {
   "cell_type": "code",
   "execution_count": 75,
   "id": "99607df5-1fc7-40fa-a54a-5a00e675dc10",
   "metadata": {},
   "outputs": [
    {
     "data": {
      "text/plain": [
       "Electric Side Mirros\n",
       "Yes    14550\n",
       "No      1382\n",
       "Name: count, dtype: int64"
      ]
     },
     "execution_count": 75,
     "metadata": {},
     "output_type": "execute_result"
    }
   ],
   "source": [
    "df['Electric Side Mirros'] = df.apply(lambda row: row['specifications-2'][int(row['Index_of_set'])] if pd.notna(row['Index_of_set']) else np.nan, axis=1)\n",
    "df['Electric Side Mirros'] = df['Electric Side Mirros'].str[1]\n",
    "\n",
    "# ელექტრო შუშები description table\n",
    "df['Electric Side Mirros'].value_counts()"
   ]
  },
  {
   "cell_type": "markdown",
   "id": "87f5802d-e304-4749-9ca6-acdee0feb050",
   "metadata": {},
   "source": [
    "#### Climate Control"
   ]
  },
  {
   "cell_type": "code",
   "execution_count": 76,
   "id": "43bfd6e6-2b02-48e0-a3bc-6e9faf64fd9b",
   "metadata": {},
   "outputs": [
    {
     "data": {
      "text/plain": [
       "array([6], dtype=int64)"
      ]
     },
     "execution_count": 76,
     "metadata": {},
     "output_type": "execute_result"
    }
   ],
   "source": [
    "# Find the index of the set containing the კლიმატკონტროლი name for each row\n",
    "df['Index_of_set'] = df['specifications-2'].apply(lambda x: find_index_of_set_with_spec(x, 'კლიმატკონტროლი'))\n",
    "df['Index_of_set'].unique()"
   ]
  },
  {
   "cell_type": "code",
   "execution_count": 77,
   "id": "a9d40ab1-3884-426b-9251-61d29c949112",
   "metadata": {},
   "outputs": [
    {
     "data": {
      "text/plain": [
       "Climate Control\n",
       "Yes    12921\n",
       "No      3011\n",
       "Name: count, dtype: int64"
      ]
     },
     "execution_count": 77,
     "metadata": {},
     "output_type": "execute_result"
    }
   ],
   "source": [
    "df['Climate Control'] = df.apply(lambda row: row['specifications-2'][int(row['Index_of_set'])] if pd.notna(row['Index_of_set']) else np.nan, axis=1)\n",
    "df['Climate Control'] = df['Climate Control'].str[1]\n",
    "\n",
    "# კლიმატკონტროლი description table\n",
    "df['Climate Control'].value_counts()"
   ]
  },
  {
   "cell_type": "markdown",
   "id": "38e497bf-0683-4be6-8815-dc7e7e55b778",
   "metadata": {},
   "source": [
    "#### Cruise Control"
   ]
  },
  {
   "cell_type": "code",
   "execution_count": 78,
   "id": "1400b35e-74dc-4e2c-b058-9ea9575cf01b",
   "metadata": {},
   "outputs": [
    {
     "data": {
      "text/plain": [
       "array([7], dtype=int64)"
      ]
     },
     "execution_count": 78,
     "metadata": {},
     "output_type": "execute_result"
    }
   ],
   "source": [
    "# Find the index of the set containing the კრუიზ-კონტროლი name for each row\n",
    "df['Index_of_set'] = df['specifications-2'].apply(lambda x: find_index_of_set_with_spec(x, 'კრუიზ-კონტროლი'))\n",
    "df['Index_of_set'].unique()"
   ]
  },
  {
   "cell_type": "code",
   "execution_count": 79,
   "id": "58b12e4a-4dd8-4af8-afbe-d5b1c503a81a",
   "metadata": {},
   "outputs": [
    {
     "data": {
      "text/plain": [
       "Cruise Control\n",
       "Yes    11700\n",
       "No      4232\n",
       "Name: count, dtype: int64"
      ]
     },
     "execution_count": 79,
     "metadata": {},
     "output_type": "execute_result"
    }
   ],
   "source": [
    "df['Cruise Control'] = df.apply(lambda row: row['specifications-2'][int(row['Index_of_set'])] if pd.notna(row['Index_of_set']) else np.nan, axis=1)\n",
    "df['Cruise Control'] = df['Cruise Control'].str[1]\n",
    "\n",
    "# კრუიზ-კონტროლი description table\n",
    "df['Cruise Control'].value_counts()"
   ]
  },
  {
   "cell_type": "markdown",
   "id": "ed069770-ccc4-432a-88db-3cc1f9a58319",
   "metadata": {},
   "source": [
    "#### Start-Stop System"
   ]
  },
  {
   "cell_type": "code",
   "execution_count": 80,
   "id": "b53839b8-454e-4e87-815e-44eb6f8dac69",
   "metadata": {},
   "outputs": [
    {
     "data": {
      "text/plain": [
       "array([8], dtype=int64)"
      ]
     },
     "execution_count": 80,
     "metadata": {},
     "output_type": "execute_result"
    }
   ],
   "source": [
    "# Find the index of the set containing the Start/Stop სისტემა name for each row\n",
    "df['Index_of_set'] = df['specifications-2'].apply(lambda x: find_index_of_set_with_spec(x, 'Start/Stop სისტემა'))\n",
    "df['Index_of_set'].unique()"
   ]
  },
  {
   "cell_type": "code",
   "execution_count": 81,
   "id": "c28f3955-94df-4d11-b878-9f812c973c96",
   "metadata": {},
   "outputs": [
    {
     "data": {
      "text/plain": [
       "Start-Stop System\n",
       "Yes    8858\n",
       "No     7074\n",
       "Name: count, dtype: int64"
      ]
     },
     "execution_count": 81,
     "metadata": {},
     "output_type": "execute_result"
    }
   ],
   "source": [
    "df['Start-Stop System'] = df.apply(lambda row: row['specifications-2'][int(row['Index_of_set'])] if pd.notna(row['Index_of_set']) else np.nan, axis=1)\n",
    "df['Start-Stop System'] = df['Start-Stop System'].str[1]\n",
    "\n",
    "# Start/Stop სისტემა description table\n",
    "df['Start-Stop System'].value_counts()"
   ]
  },
  {
   "cell_type": "markdown",
   "id": "b4b25c0b-cee5-46b1-9900-966625642350",
   "metadata": {},
   "source": [
    "#### Sunroof"
   ]
  },
  {
   "cell_type": "code",
   "execution_count": 82,
   "id": "88571099-552b-4904-b6cc-e5bae84bf927",
   "metadata": {},
   "outputs": [
    {
     "data": {
      "text/plain": [
       "array([9], dtype=int64)"
      ]
     },
     "execution_count": 82,
     "metadata": {},
     "output_type": "execute_result"
    }
   ],
   "source": [
    "# Find the index of the set containing the ლუქი name for each row\n",
    "df['Index_of_set'] = df['specifications-2'].apply(lambda x: find_index_of_set_with_spec(x, 'ლუქი'))\n",
    "df['Index_of_set'].unique()"
   ]
  },
  {
   "cell_type": "code",
   "execution_count": 83,
   "id": "f9cfde35-086e-4c42-8473-de96a989e405",
   "metadata": {},
   "outputs": [
    {
     "data": {
      "text/plain": [
       "Sunroof\n",
       "No     8817\n",
       "Yes    7115\n",
       "Name: count, dtype: int64"
      ]
     },
     "execution_count": 83,
     "metadata": {},
     "output_type": "execute_result"
    }
   ],
   "source": [
    "df['Sunroof'] = df.apply(lambda row: row['specifications-2'][int(row['Index_of_set'])] if pd.notna(row['Index_of_set']) else np.nan, axis=1)\n",
    "df['Sunroof'] = df['Sunroof'].str[1]\n",
    "\n",
    "# ლუქი description table\n",
    "df['Sunroof'].value_counts()"
   ]
  },
  {
   "cell_type": "markdown",
   "id": "e3084df9-9547-420d-9ce0-351b41a53f33",
   "metadata": {},
   "source": [
    "#### Heated Seats"
   ]
  },
  {
   "cell_type": "code",
   "execution_count": 84,
   "id": "e9c6c63b-89a6-445d-8bcf-799ddf40a1f5",
   "metadata": {},
   "outputs": [
    {
     "data": {
      "text/plain": [
       "array([10], dtype=int64)"
      ]
     },
     "execution_count": 84,
     "metadata": {},
     "output_type": "execute_result"
    }
   ],
   "source": [
    "# Find the index of the set containing the სავარძლის გათბობა name for each row\n",
    "df['Index_of_set'] = df['specifications-2'].apply(lambda x: find_index_of_set_with_spec(x, 'სავარძლის გათბობა'))\n",
    "df['Index_of_set'].unique()"
   ]
  },
  {
   "cell_type": "code",
   "execution_count": 85,
   "id": "794c18c8-2179-4147-84a8-60b96cfecee0",
   "metadata": {},
   "outputs": [
    {
     "data": {
      "text/plain": [
       "Heated Seats\n",
       "Yes    9795\n",
       "No     6137\n",
       "Name: count, dtype: int64"
      ]
     },
     "execution_count": 85,
     "metadata": {},
     "output_type": "execute_result"
    }
   ],
   "source": [
    "df['Heated Seats'] = df.apply(lambda row: row['specifications-2'][int(row['Index_of_set'])] if pd.notna(row['Index_of_set']) else np.nan, axis=1)\n",
    "df['Heated Seats'] = df['Heated Seats'].str[1]\n",
    "\n",
    "# სავარძლის გათბობა description table\n",
    "df['Heated Seats'].value_counts()"
   ]
  },
  {
   "cell_type": "markdown",
   "id": "c5ac0843-75dd-486d-8376-62453995b788",
   "metadata": {},
   "source": [
    "#### Memory Seats"
   ]
  },
  {
   "cell_type": "code",
   "execution_count": 86,
   "id": "e5fc2535-3dbb-47d9-8a10-08b9a04fe60b",
   "metadata": {},
   "outputs": [
    {
     "data": {
      "text/plain": [
       "array([11], dtype=int64)"
      ]
     },
     "execution_count": 86,
     "metadata": {},
     "output_type": "execute_result"
    }
   ],
   "source": [
    "# Find the index of the set containing the სავარძლის მეხსიერება name for each row\n",
    "df['Index_of_set'] = df['specifications-2'].apply(lambda x: find_index_of_set_with_spec(x, 'სავარძლის მეხსიერება'))\n",
    "df['Index_of_set'].unique()"
   ]
  },
  {
   "cell_type": "code",
   "execution_count": 87,
   "id": "7c1164a1-05bf-4f49-84d1-d853a3606aa1",
   "metadata": {},
   "outputs": [
    {
     "data": {
      "text/plain": [
       "Memory Seats\n",
       "Yes    8341\n",
       "No     7591\n",
       "Name: count, dtype: int64"
      ]
     },
     "execution_count": 87,
     "metadata": {},
     "output_type": "execute_result"
    }
   ],
   "source": [
    "df['Memory Seats'] = df.apply(lambda row: row['specifications-2'][int(row['Index_of_set'])] if pd.notna(row['Index_of_set']) else np.nan, axis=1)\n",
    "df['Memory Seats'] = df['Memory Seats'].str[1]\n",
    "\n",
    "# სავარძლის მეხსიერება description table\n",
    "df['Memory Seats'].value_counts()"
   ]
  },
  {
   "cell_type": "markdown",
   "id": "b2767e21-2dea-4db3-8c94-2a7fb5081ffa",
   "metadata": {},
   "source": [
    "#### ABS"
   ]
  },
  {
   "cell_type": "code",
   "execution_count": 88,
   "id": "586bc30f-611b-4b76-9222-1f80ca55f798",
   "metadata": {},
   "outputs": [
    {
     "data": {
      "text/plain": [
       "array([12], dtype=int64)"
      ]
     },
     "execution_count": 88,
     "metadata": {},
     "output_type": "execute_result"
    }
   ],
   "source": [
    "# Find the index of the set containing the ABS name for each row\n",
    "df['Index_of_set'] = df['specifications-2'].apply(lambda x: find_index_of_set_with_spec(x, 'ABS'))\n",
    "df['Index_of_set'].unique()"
   ]
  },
  {
   "cell_type": "code",
   "execution_count": 89,
   "id": "2eee2ef4-99ea-42d6-8c71-0db8d7a80d1c",
   "metadata": {},
   "outputs": [
    {
     "data": {
      "text/plain": [
       "ABS\n",
       "Yes    14122\n",
       "No      1810\n",
       "Name: count, dtype: int64"
      ]
     },
     "execution_count": 89,
     "metadata": {},
     "output_type": "execute_result"
    }
   ],
   "source": [
    "df['ABS'] = df.apply(lambda row: row['specifications-2'][int(row['Index_of_set'])] if pd.notna(row['Index_of_set']) else np.nan, axis=1)\n",
    "df['ABS'] = df['ABS'].str[1]\n",
    "\n",
    "# ABS description table\n",
    "df['ABS'].value_counts()"
   ]
  },
  {
   "cell_type": "markdown",
   "id": "13ac08f1-956b-4804-88e3-de54b775366b",
   "metadata": {},
   "source": [
    "#### ESP"
   ]
  },
  {
   "cell_type": "code",
   "execution_count": 90,
   "id": "134c6736-6c40-4cb1-8335-c5d37d713ed5",
   "metadata": {},
   "outputs": [
    {
     "data": {
      "text/plain": [
       "array([13], dtype=int64)"
      ]
     },
     "execution_count": 90,
     "metadata": {},
     "output_type": "execute_result"
    }
   ],
   "source": [
    "# Find the index of the set containing the მოცურების საწინააღმდეგო სისტემა name for each row\n",
    "df['Index_of_set'] = df['specifications-2'].apply(lambda x: find_index_of_set_with_spec(x, 'მოცურების საწინააღმდეგო სისტემა'))\n",
    "df['Index_of_set'].unique()"
   ]
  },
  {
   "cell_type": "code",
   "execution_count": 91,
   "id": "682ab7be-6a67-4d6d-b7f9-82f5a69616f7",
   "metadata": {},
   "outputs": [
    {
     "data": {
      "text/plain": [
       "ESP\n",
       "Yes    13470\n",
       "No      2462\n",
       "Name: count, dtype: int64"
      ]
     },
     "execution_count": 91,
     "metadata": {},
     "output_type": "execute_result"
    }
   ],
   "source": [
    "df['ESP'] = df.apply(lambda row: row['specifications-2'][int(row['Index_of_set'])] if pd.notna(row['Index_of_set']) else np.nan, axis=1)\n",
    "df['ESP'] = df['ESP'].str[1]\n",
    "\n",
    "# მოცურების საწინააღმდეგო სისტემა description table\n",
    "df['ESP'].value_counts()"
   ]
  },
  {
   "cell_type": "markdown",
   "id": "9042fede-36c5-4ccc-90ae-82ce54146588",
   "metadata": {},
   "source": [
    "#### Central Locking"
   ]
  },
  {
   "cell_type": "code",
   "execution_count": 92,
   "id": "e3ef2b52-3775-4313-a3e6-f3e7c8f8ad5c",
   "metadata": {},
   "outputs": [
    {
     "data": {
      "text/plain": [
       "array([14], dtype=int64)"
      ]
     },
     "execution_count": 92,
     "metadata": {},
     "output_type": "execute_result"
    }
   ],
   "source": [
    "# Find the index of the set containing the ცენტრალური საკეტი name for each row\n",
    "df['Index_of_set'] = df['specifications-2'].apply(lambda x: find_index_of_set_with_spec(x, 'ცენტრალური საკეტი'))\n",
    "df['Index_of_set'].unique()"
   ]
  },
  {
   "cell_type": "code",
   "execution_count": 93,
   "id": "c230bcae-2004-4702-a76b-e2e2cf72953b",
   "metadata": {},
   "outputs": [
    {
     "data": {
      "text/plain": [
       "Central Locking\n",
       "Yes    14494\n",
       "No      1438\n",
       "Name: count, dtype: int64"
      ]
     },
     "execution_count": 93,
     "metadata": {},
     "output_type": "execute_result"
    }
   ],
   "source": [
    "df['Central Locking'] = df.apply(lambda row: row['specifications-2'][int(row['Index_of_set'])] if pd.notna(row['Index_of_set']) else np.nan, axis=1)\n",
    "df['Central Locking'] = df['Central Locking'].str[1]\n",
    "\n",
    "# ცენტრალური საკეტი description table\n",
    "df['Central Locking'].value_counts()"
   ]
  },
  {
   "cell_type": "markdown",
   "id": "951184bb-4edb-4bff-9fd2-334ec8ab40c7",
   "metadata": {},
   "source": [
    "#### Alarm System"
   ]
  },
  {
   "cell_type": "code",
   "execution_count": 94,
   "id": "48fb2f7f-de32-4d21-8960-741db40931ab",
   "metadata": {},
   "outputs": [
    {
     "data": {
      "text/plain": [
       "array([15], dtype=int64)"
      ]
     },
     "execution_count": 94,
     "metadata": {},
     "output_type": "execute_result"
    }
   ],
   "source": [
    "# Find the index of the set containing the სიგნალიზაცია name for each row\n",
    "df['Index_of_set'] = df['specifications-2'].apply(lambda x: find_index_of_set_with_spec(x, 'სიგნალიზაცია'))\n",
    "df['Index_of_set'].unique()"
   ]
  },
  {
   "cell_type": "code",
   "execution_count": 95,
   "id": "6e84009d-b9c6-4168-8b71-6a3ff0dbe479",
   "metadata": {},
   "outputs": [
    {
     "data": {
      "text/plain": [
       "Alarm System\n",
       "Yes    12424\n",
       "No      3508\n",
       "Name: count, dtype: int64"
      ]
     },
     "execution_count": 95,
     "metadata": {},
     "output_type": "execute_result"
    }
   ],
   "source": [
    "df['Alarm System'] = df.apply(lambda row: row['specifications-2'][int(row['Index_of_set'])] if pd.notna(row['Index_of_set']) else np.nan, axis=1)\n",
    "df['Alarm System'] = df['Alarm System'].str[1]\n",
    "\n",
    "# სიგნალიზაცია description table\n",
    "df['Alarm System'].value_counts()"
   ]
  },
  {
   "cell_type": "markdown",
   "id": "1f94c33b-1a29-4bf0-bc33-c8fea1bdab37",
   "metadata": {},
   "source": [
    "#### Fog Lamp"
   ]
  },
  {
   "cell_type": "code",
   "execution_count": 96,
   "id": "71d8c967-bf65-4525-8141-1e5d75125e2b",
   "metadata": {},
   "outputs": [
    {
     "data": {
      "text/plain": [
       "array([16], dtype=int64)"
      ]
     },
     "execution_count": 96,
     "metadata": {},
     "output_type": "execute_result"
    }
   ],
   "source": [
    "# Find the index of the set containing the სანისლე ფარები name for each row\n",
    "df['Index_of_set'] = df['specifications-2'].apply(lambda x: find_index_of_set_with_spec(x, 'სანისლე ფარები'))\n",
    "df['Index_of_set'].unique()"
   ]
  },
  {
   "cell_type": "code",
   "execution_count": 97,
   "id": "bd7c861e-652b-4241-bd96-4399452b23a7",
   "metadata": {},
   "outputs": [
    {
     "data": {
      "text/plain": [
       "Fog Lamp\n",
       "Yes    11996\n",
       "No      3936\n",
       "Name: count, dtype: int64"
      ]
     },
     "execution_count": 97,
     "metadata": {},
     "output_type": "execute_result"
    }
   ],
   "source": [
    "df['Fog Lamp'] = df.apply(lambda row: row['specifications-2'][int(row['Index_of_set'])] if pd.notna(row['Index_of_set']) else np.nan, axis=1)\n",
    "df['Fog Lamp'] = df['Fog Lamp'].str[1]\n",
    "\n",
    "# სანისლე ფარები description table\n",
    "df['Fog Lamp'].value_counts()"
   ]
  },
  {
   "cell_type": "markdown",
   "id": "ad187ccb-95f7-4fc5-baa5-95d6781d3003",
   "metadata": {},
   "source": [
    "#### Central Screen (Navigation)"
   ]
  },
  {
   "cell_type": "code",
   "execution_count": 98,
   "id": "72f2ddc9-457f-4c35-8563-ba51ed397935",
   "metadata": {},
   "outputs": [
    {
     "data": {
      "text/plain": [
       "array([17], dtype=int64)"
      ]
     },
     "execution_count": 98,
     "metadata": {},
     "output_type": "execute_result"
    }
   ],
   "source": [
    "# Find the index of the set containing the მონიტორი (ნავიგაცია) name for each row\n",
    "df['Index_of_set'] = df['specifications-2'].apply(lambda x: find_index_of_set_with_spec(x, 'მონიტორი (ნავიგაცია)'))\n",
    "df['Index_of_set'].unique()"
   ]
  },
  {
   "cell_type": "code",
   "execution_count": 99,
   "id": "1295ccd0-5ecb-46f5-8f24-a5f185425953",
   "metadata": {},
   "outputs": [
    {
     "data": {
      "text/plain": [
       "Central Screen (Navigation)\n",
       "Yes    11811\n",
       "No      4121\n",
       "Name: count, dtype: int64"
      ]
     },
     "execution_count": 99,
     "metadata": {},
     "output_type": "execute_result"
    }
   ],
   "source": [
    "df['Central Screen (Navigation)'] = df.apply(lambda row: row['specifications-2'][int(row['Index_of_set'])] if pd.notna(row['Index_of_set']) else np.nan, axis=1)\n",
    "df['Central Screen (Navigation)'] = df['Central Screen (Navigation)'].str[1]\n",
    "\n",
    "# მონიტორი (ნავიგაცია) description table\n",
    "df['Central Screen (Navigation)'].value_counts()"
   ]
  },
  {
   "cell_type": "markdown",
   "id": "3f0df072-09cc-46fe-a46a-6cea80e7c56c",
   "metadata": {},
   "source": [
    "#### AUX"
   ]
  },
  {
   "cell_type": "code",
   "execution_count": 100,
   "id": "c8655988-1275-4ba6-b740-343b301383e9",
   "metadata": {},
   "outputs": [
    {
     "data": {
      "text/plain": [
       "array([18], dtype=int64)"
      ]
     },
     "execution_count": 100,
     "metadata": {},
     "output_type": "execute_result"
    }
   ],
   "source": [
    "# Find the index of the set containing the AUX name for each row\n",
    "df['Index_of_set'] = df['specifications-2'].apply(lambda x: find_index_of_set_with_spec(x, 'AUX'))\n",
    "df['Index_of_set'].unique()"
   ]
  },
  {
   "cell_type": "code",
   "execution_count": 101,
   "id": "70160fde-2852-4231-b9b1-62c8957daa4f",
   "metadata": {},
   "outputs": [
    {
     "data": {
      "text/plain": [
       "AUX\n",
       "Yes    12911\n",
       "No      3021\n",
       "Name: count, dtype: int64"
      ]
     },
     "execution_count": 101,
     "metadata": {},
     "output_type": "execute_result"
    }
   ],
   "source": [
    "df['AUX'] = df.apply(lambda row: row['specifications-2'][int(row['Index_of_set'])] if pd.notna(row['Index_of_set']) else np.nan, axis=1)\n",
    "df['AUX'] = df['AUX'].str[1]\n",
    "\n",
    "# AUX description table\n",
    "df['AUX'].value_counts()"
   ]
  },
  {
   "cell_type": "markdown",
   "id": "de18f667-1ea7-464a-a3e0-65b6be5f74de",
   "metadata": {},
   "source": [
    "#### Bluetooth"
   ]
  },
  {
   "cell_type": "code",
   "execution_count": 102,
   "id": "cd38574a-8e21-4b0b-89fa-f5a1666d1f14",
   "metadata": {},
   "outputs": [
    {
     "data": {
      "text/plain": [
       "array([19], dtype=int64)"
      ]
     },
     "execution_count": 102,
     "metadata": {},
     "output_type": "execute_result"
    }
   ],
   "source": [
    "# Find the index of the set containing the Bluetooth name for each row\n",
    "df['Index_of_set'] = df['specifications-2'].apply(lambda x: find_index_of_set_with_spec(x, 'Bluetooth'))\n",
    "df['Index_of_set'].unique()"
   ]
  },
  {
   "cell_type": "code",
   "execution_count": 103,
   "id": "c5340da8-775f-494a-b612-5445ccfed75e",
   "metadata": {},
   "outputs": [
    {
     "data": {
      "text/plain": [
       "Bluetooth\n",
       "Yes    12826\n",
       "No      3106\n",
       "Name: count, dtype: int64"
      ]
     },
     "execution_count": 103,
     "metadata": {},
     "output_type": "execute_result"
    }
   ],
   "source": [
    "df['Bluetooth'] = df.apply(lambda row: row['specifications-2'][int(row['Index_of_set'])] if pd.notna(row['Index_of_set']) else np.nan, axis=1)\n",
    "df['Bluetooth'] = df['Bluetooth'].str[1]\n",
    "\n",
    "# Bluetooth description table\n",
    "df['Bluetooth'].value_counts()"
   ]
  },
  {
   "cell_type": "markdown",
   "id": "8d0daa16-3bd5-455c-9938-586577f4f8a3",
   "metadata": {},
   "source": [
    "#### Multifunction Steering Wheel"
   ]
  },
  {
   "cell_type": "code",
   "execution_count": 104,
   "id": "d574ed11-3950-4e52-9042-2490d9e09e54",
   "metadata": {},
   "outputs": [
    {
     "data": {
      "text/plain": [
       "array([20], dtype=int64)"
      ]
     },
     "execution_count": 104,
     "metadata": {},
     "output_type": "execute_result"
    }
   ],
   "source": [
    "# Find the index of the set containing the მულტი საჭე name for each row\n",
    "df['Index_of_set'] = df['specifications-2'].apply(lambda x: find_index_of_set_with_spec(x, 'მულტი საჭე'))\n",
    "df['Index_of_set'].unique()"
   ]
  },
  {
   "cell_type": "code",
   "execution_count": 105,
   "id": "4a1c3a12-72f6-4fde-a15a-e4aa7026a006",
   "metadata": {},
   "outputs": [
    {
     "data": {
      "text/plain": [
       "Multifunction Steering Wheel\n",
       "Yes    12271\n",
       "No      3661\n",
       "Name: count, dtype: int64"
      ]
     },
     "execution_count": 105,
     "metadata": {},
     "output_type": "execute_result"
    }
   ],
   "source": [
    "df['Multifunction Steering Wheel'] = df.apply(lambda row: row['specifications-2'][int(row['Index_of_set'])] if pd.notna(row['Index_of_set']) else np.nan, axis=1)\n",
    "df['Multifunction Steering Wheel'] = df['Multifunction Steering Wheel'].str[1]\n",
    "\n",
    "# მულტი საჭე description table\n",
    "df['Multifunction Steering Wheel'].value_counts()"
   ]
  },
  {
   "cell_type": "markdown",
   "id": "89f8fd54-c094-4f23-a38e-60c381c3a850",
   "metadata": {},
   "source": [
    "#### Rims"
   ]
  },
  {
   "cell_type": "code",
   "execution_count": 106,
   "id": "95da3479-acfb-409d-8591-f81df351de88",
   "metadata": {},
   "outputs": [
    {
     "data": {
      "text/plain": [
       "array([21], dtype=int64)"
      ]
     },
     "execution_count": 106,
     "metadata": {},
     "output_type": "execute_result"
    }
   ],
   "source": [
    "# Find the index of the set containing the დისკები name for each row\n",
    "df['Index_of_set'] = df['specifications-2'].apply(lambda x: find_index_of_set_with_spec(x, 'დისკები'))\n",
    "df['Index_of_set'].unique()"
   ]
  },
  {
   "cell_type": "code",
   "execution_count": 107,
   "id": "15cacf2b-67b7-4148-884e-ed8dfb5947f1",
   "metadata": {},
   "outputs": [
    {
     "data": {
      "text/plain": [
       "Rims\n",
       "Yes    13558\n",
       "No      2374\n",
       "Name: count, dtype: int64"
      ]
     },
     "execution_count": 107,
     "metadata": {},
     "output_type": "execute_result"
    }
   ],
   "source": [
    "df['Rims'] = df.apply(lambda row: row['specifications-2'][int(row['Index_of_set'])] if pd.notna(row['Index_of_set']) else np.nan, axis=1)\n",
    "df['Rims'] = df['Rims'].str[1]\n",
    "\n",
    "# დისკები description table\n",
    "df['Rims'].value_counts()"
   ]
  },
  {
   "cell_type": "markdown",
   "id": "9d03bbca-6834-4d62-bae4-0aa8faf4633d",
   "metadata": {},
   "source": [
    "#### Spare Tyre"
   ]
  },
  {
   "cell_type": "code",
   "execution_count": 108,
   "id": "221efae8-32ab-49bb-b861-dddbf70c561b",
   "metadata": {},
   "outputs": [
    {
     "data": {
      "text/plain": [
       "array([22], dtype=int64)"
      ]
     },
     "execution_count": 108,
     "metadata": {},
     "output_type": "execute_result"
    }
   ],
   "source": [
    "# Find the index of the set containing the სათადარიგო საბურავი name for each row\n",
    "df['Index_of_set'] = df['specifications-2'].apply(lambda x: find_index_of_set_with_spec(x, 'სათადარიგო საბურავი'))\n",
    "df['Index_of_set'].unique()"
   ]
  },
  {
   "cell_type": "code",
   "execution_count": 109,
   "id": "fc41c91d-81ba-46a0-a9fe-f077a6dc46a9",
   "metadata": {},
   "outputs": [
    {
     "data": {
      "text/plain": [
       "Spare Tyre\n",
       "Yes    12410\n",
       "No      3522\n",
       "Name: count, dtype: int64"
      ]
     },
     "execution_count": 109,
     "metadata": {},
     "output_type": "execute_result"
    }
   ],
   "source": [
    "df['Spare Tyre'] = df.apply(lambda row: row['specifications-2'][int(row['Index_of_set'])] if pd.notna(row['Index_of_set']) else np.nan, axis=1)\n",
    "df['Spare Tyre'] = df['Spare Tyre'].str[1]\n",
    "\n",
    "# სათადარიგო საბურავი description table\n",
    "df['Spare Tyre'].value_counts()"
   ]
  },
  {
   "cell_type": "markdown",
   "id": "30e7c72a-599b-46ec-bc59-8eeefcc53161",
   "metadata": {},
   "source": [
    "#### Didabled Accessible"
   ]
  },
  {
   "cell_type": "code",
   "execution_count": 110,
   "id": "be68f405-a603-4e22-80a0-3b49a9942f06",
   "metadata": {},
   "outputs": [
    {
     "data": {
      "text/plain": [
       "array([23], dtype=int64)"
      ]
     },
     "execution_count": 110,
     "metadata": {},
     "output_type": "execute_result"
    }
   ],
   "source": [
    "# Find the index of the set containing the სსმპ ადაპტირებული name for each row\n",
    "df['Index_of_set'] = df['specifications-2'].apply(lambda x: find_index_of_set_with_spec(x, 'სსმპ ადაპტირებული'))\n",
    "df['Index_of_set'].unique()"
   ]
  },
  {
   "cell_type": "code",
   "execution_count": 111,
   "id": "43e8f7b9-5ee2-4b8e-bf68-ddbaa8391f38",
   "metadata": {},
   "outputs": [
    {
     "data": {
      "text/plain": [
       "Didabled Accessible\n",
       "No     12914\n",
       "Yes     3018\n",
       "Name: count, dtype: int64"
      ]
     },
     "execution_count": 111,
     "metadata": {},
     "output_type": "execute_result"
    }
   ],
   "source": [
    "df['Didabled Accessible'] = df.apply(lambda row: row['specifications-2'][int(row['Index_of_set'])] if pd.notna(row['Index_of_set']) else np.nan, axis=1)\n",
    "df['Didabled Accessible'] = df['Didabled Accessible'].str[1]\n",
    "\n",
    "# სსმპ ადაპტირებული description table\n",
    "df['Didabled Accessible'].value_counts()"
   ]
  },
  {
   "cell_type": "markdown",
   "id": "dcff59f4-2860-4fbc-b6c8-a612b2336f0e",
   "metadata": {
    "jp-MarkdownHeadingCollapsed": true
   },
   "source": [
    "### Stcikers"
   ]
  },
  {
   "cell_type": "code",
   "execution_count": 112,
   "id": "0f723726-64c6-48c6-8ef7-7e6568ffa144",
   "metadata": {},
   "outputs": [],
   "source": [
    "def extract_stickers(stickers, where_to_look, df):\n",
    "    for sticker in stickers:\n",
    "        column = df.stickers.str.contains('დაურტყმელი').astype(int).replace({0: 'No', 1: 'Yes'})\n",
    "        df[sticker] = column\n",
    "\n",
    "stickers = [\n",
    "    'დაურტყმელი', 'სუფთა ისტორია', 'ახალი ჩამოყვანილი', 'ეკონომიური', \n",
    "    'ლიმიტირებული', 'შეუღებავი', 'ერთი მფლობელი', 'სასწრაფოდ', 'ევროპული', \n",
    "    'იდეალურ მდგომარეობაში', 'ოჯახისთვის', 'ლომბარდის გადაბარებით', 'მესამე რიგი'\n",
    "]\n",
    "\n",
    "extract_stickers(stickers, df.stickers, df)"
   ]
  },
  {
   "cell_type": "code",
   "execution_count": 113,
   "id": "2a3e8d26-bc4b-4c35-ac65-b7225e47382f",
   "metadata": {},
   "outputs": [],
   "source": [
    "#### drop unnecessary columns\n",
    "df.drop(['specifications-1', 'specifications-2', 'stickers', 'Index_of_set'], axis=1, inplace=True)"
   ]
  },
  {
   "cell_type": "markdown",
   "id": "729b89ab-fb51-47ab-bd0c-e855eff6215c",
   "metadata": {},
   "source": [
    "## Translate from Georgian to English"
   ]
  },
  {
   "cell_type": "markdown",
   "id": "14ae54f0",
   "metadata": {},
   "source": [
    "### Column Names"
   ]
  },
  {
   "cell_type": "code",
   "execution_count": 115,
   "id": "78c3a7d0-7364-4870-bdd5-106c17347283",
   "metadata": {},
   "outputs": [
    {
     "data": {
      "text/plain": [
       "Index(['Location', 'Price', 'Manufacturer', 'Model', 'Year', 'Category',\n",
       "       'Mileage', 'Fuel type', 'Engine Volume', 'Cylinders', 'Gear box type',\n",
       "       'Drive wheels', 'Doors', 'Airbags', 'Wheel', 'Color', 'Interior color',\n",
       "       'Interior material', 'Exchange', 'Technical inspection', 'Catalyst',\n",
       "       'Steering Hydraulics', 'On-Board Computer', 'Air Conditioning',\n",
       "       'Parking Control', 'Rear View Camera', 'Electric Side Mirros',\n",
       "       'Climate Control', 'Cruise Control', 'Start-Stop System', 'Sunroof',\n",
       "       'Heated Seats', 'Memory Seats', 'ABS', 'ESP', 'Central Locking',\n",
       "       'Alarm System', 'Fog Lamp', 'Central Screen (Navigation)', 'AUX',\n",
       "       'Bluetooth', 'Multifunction Steering Wheel', 'Rims', 'Spare Tyre',\n",
       "       'Didabled Accessible', 'დაურტყმელი', 'სუფთა ისტორია',\n",
       "       'ახალი ჩამოყვანილი', 'ეკონომიური', 'ლიმიტირებული', 'შეუღებავი',\n",
       "       'ერთი მფლობელი', 'სასწრაფოდ', 'ევროპული', 'იდეალურ მდგომარეობაში',\n",
       "       'ოჯახისთვის', 'ლომბარდის გადაბარებით', 'მესამე რიგი'],\n",
       "      dtype='object')"
      ]
     },
     "execution_count": 115,
     "metadata": {},
     "output_type": "execute_result"
    }
   ],
   "source": [
    "df.columns"
   ]
  },
  {
   "cell_type": "code",
   "execution_count": 116,
   "id": "8ddf928e",
   "metadata": {},
   "outputs": [],
   "source": [
    "df.columns = [\n",
    "    'Location', 'Price', 'Manufacturer', 'Model', 'Year', 'Category',\n",
    "    'Mileage', 'Fuel type', 'Engine Volume', 'Cylinders', 'Gear box type',\n",
    "    'Drive wheels', 'Doors', 'Airbags', 'Wheel', 'Color', 'Interior color',\n",
    "    'Interior material', 'Exchange', 'Technical inspection', 'Catalyst',\n",
    "    'Steering Hydraulics', 'On-Board Computer', 'Air Conditioning',\n",
    "    'Parking Control', 'Rear View Camera', 'Electric Side Mirros',\n",
    "    'Climate Control', 'Cruise Control', 'Start-Stop System', 'Sunroof',\n",
    "    'Heated Seats', 'Memory Seats', 'ABS', 'ESP', 'Central Locking',\n",
    "    'Alarm System', 'Fog Lamp', 'Central Screen (Navigation)', 'AUX',\n",
    "    'Bluetooth', 'Multifunction Steering Wheel', 'Rims', 'Spare Tyre',\n",
    "    'Didabled Accessible', 'Undamaged', 'Clean History',\n",
    "    'Newly Imported', 'Low Consumption', 'Limited edition', 'Unpainted',\n",
    "    'One owner', 'Urgently', 'European', 'Perfect condition',\n",
    "    'For family', 'Pawnshop', 'Third row'\n",
    "    ]"
   ]
  },
  {
   "cell_type": "code",
   "execution_count": 117,
   "id": "9f429ed0",
   "metadata": {},
   "outputs": [
    {
     "data": {
      "text/plain": [
       "Index(['Location', 'Price', 'Manufacturer', 'Model', 'Year', 'Category',\n",
       "       'Mileage', 'Fuel type', 'Engine Volume', 'Cylinders', 'Gear box type',\n",
       "       'Drive wheels', 'Doors', 'Airbags', 'Wheel', 'Color', 'Interior color',\n",
       "       'Interior material', 'Exchange', 'Technical inspection', 'Catalyst',\n",
       "       'Steering Hydraulics', 'On-Board Computer', 'Air Conditioning',\n",
       "       'Parking Control', 'Rear View Camera', 'Electric Side Mirros',\n",
       "       'Climate Control', 'Cruise Control', 'Start-Stop System', 'Sunroof',\n",
       "       'Heated Seats', 'Memory Seats', 'ABS', 'ESP', 'Central Locking',\n",
       "       'Alarm System', 'Fog Lamp', 'Central Screen (Navigation)', 'AUX',\n",
       "       'Bluetooth', 'Multifunction Steering Wheel', 'Rims', 'Spare Tyre',\n",
       "       'Didabled Accessible', 'Undamaged', 'Clean History', 'Newly Imported',\n",
       "       'Low Consumption', 'Limited edition', 'Unpainted', 'One owner',\n",
       "       'Urgently', 'European', 'Perfect condition', 'For family', 'Pawnshop',\n",
       "       'Third row'],\n",
       "      dtype='object')"
      ]
     },
     "execution_count": 117,
     "metadata": {},
     "output_type": "execute_result"
    }
   ],
   "source": [
    "df.columns"
   ]
  },
  {
   "cell_type": "markdown",
   "id": "29f71e6f",
   "metadata": {},
   "source": [
    "### Location"
   ]
  },
  {
   "cell_type": "code",
   "execution_count": 120,
   "id": "bba18d92",
   "metadata": {},
   "outputs": [
    {
     "data": {
      "text/plain": [
       "array(['თბილისი', 'რუსთავის ავტობაზრობა', 'რუსთავი', 'ქუთაისი', 'გორი',\n",
       "       'კავკასიის ავტომარკეტი', 'ბათუმი', 'ფოთი', 'სენაკი', 'ახალციხე',\n",
       "       'მარნეული', 'ზუგდიდი', 'საგარეჯო', 'სამტრედია', 'ჭიათურა',\n",
       "       'ხაშური', 'ქობულეთი', 'ახალქალაქი', 'მცხეთა', 'თელავი',\n",
       "       'ზესტაფონი', 'ფოთის \"გეზ\"-ი', 'ლაგოდეხი', 'საჩხერე', 'გურჯაანი',\n",
       "       'კასპი', 'ოზურგეთი', 'ქარელი', 'ტყიბული', 'ყვარელი', 'წალენჯიხა',\n",
       "       'დედოფლისწყარო', 'სიღნაღი', 'ბოლნისი', 'ახმეტა', 'ბორჯომი',\n",
       "       'წალკა', 'ჩხოროწყუ', 'აბაშა', 'ხობი', 'ონი', 'ხონი', 'დუშეთი',\n",
       "       'ასპინძა', 'თეთრიწყარო', 'გარდაბანი', 'ხარაგაული', 'ცაგერი',\n",
       "       'მარტვილი', 'სართიჭალა', 'მესტია', 'ლანჩხუთი', 'ნინოწმინდა',\n",
       "       'წყალტუბო', 'ამბროლაური', 'თიანეთი', 'წეროვანი'], dtype=object)"
      ]
     },
     "execution_count": 120,
     "metadata": {},
     "output_type": "execute_result"
    }
   ],
   "source": [
    "df.Location.unique()"
   ]
  },
  {
   "cell_type": "code",
   "execution_count": 125,
   "id": "a0ef7523",
   "metadata": {},
   "outputs": [],
   "source": [
    "mapper = {\n",
    "    'თბილისი': 'Tbilisi', 'რუსთავის ავტობაზრობა': 'Rustavi Car Market', \n",
    "    'რუსთავი': 'Rustavi', 'ქუთაისი': 'Kutaisi', 'გორი': 'Gori',\n",
    "    'კავკასიის ავტომარკეტი': 'Caucasus Auto Market', 'ბათუმი': 'Batumi', \n",
    "    'ფოთი': 'Poti', 'სენაკი': 'Senaki', 'ახალციხე': 'Akhaltsikhe',\n",
    "    'მარნეული': 'Marneuli', 'ზუგდიდი': 'Zugdidi', 'საგარეჯო': 'Sagarejo', \n",
    "    'სამტრედია': 'Samtredia', 'ჭიათურა': 'Chiatura', 'ხაშური': 'Khashuri', \n",
    "    'ქობულეთი': 'Kobuleti', 'ახალქალაქი': 'Akhalkalaki', 'მცხეთა': 'Mtskheta', \n",
    "    'თელავი': 'Telavi', 'ზესტაფონი': 'Zestaphoni', 'ფოთის \"გეზ\"-ი': 'POTI \"ECZ\"', \n",
    "    'ლაგოდეხი': 'Lagodekhi', 'საჩხერე': 'Sachkhere', 'გურჯაანი': 'Gurjaani',\n",
    "    'კასპი': 'Kaspi', 'ოზურგეთი': 'Ozurgeti', 'ქარელი': 'Kareli', 'ტყიბული': 'Tkibuli', \n",
    "    'ყვარელი': 'kvareli', 'წალენჯიხა': 'Tsalenjikha', 'დედოფლისწყარო': 'Dedoplistskaro', \n",
    "    'სიღნაღი': 'Sighnagh', 'ბოლნისი': 'Bolnisi', 'ახმეტა': 'Akhmeta', 'ბორჯომი': 'Borjomi',\n",
    "    'წალკა': 'Tsalka', 'ჩხოროწყუ': 'Chkhorotsku', 'აბაშა': 'Abasha', 'ხობი': 'Khobi', \n",
    "    'ონი': 'Oni', 'ხონი': 'Khoni', 'დუშეთი': 'Dusheti', 'ასპინძა': 'Aspindza', \n",
    "    'თეთრიწყარო': 'Tetritskaro', 'გარდაბანი': 'Gardabani', 'ხარაგაული': 'Kharagauli', \n",
    "    'ცაგერი': 'Tsageri', 'მარტვილი': 'Martvili', 'სართიჭალა': 'Sartichala', 'მესტია': 'Mestia', \n",
    "    'ლანჩხუთი': 'Lanchkhuti', 'ნინოწმინდა': 'Ninotsminda', 'წყალტუბო': 'Tskaltubo', \n",
    "    'ამბროლაური': 'Ambrolauri', 'თიანეთი': 'Tianeti', 'წეროვანი': 'Tserovani'}\n",
    "\n",
    "df.Location = df.Location.map(mapper)"
   ]
  },
  {
   "cell_type": "markdown",
   "id": "4e4caf29",
   "metadata": {},
   "source": [
    "### Category"
   ]
  },
  {
   "cell_type": "code",
   "execution_count": 127,
   "id": "da59ee67",
   "metadata": {},
   "outputs": [
    {
     "data": {
      "text/plain": [
       "array(['ჯიპი', 'სედანი', 'ფურგონი', 'მინივენი', 'კუპე', 'კროსოვერი',\n",
       "       'კაბრიოლეტი', 'ჰეტჩბექი', 'პიკაპი', 'უნივერსალი'], dtype=object)"
      ]
     },
     "execution_count": 127,
     "metadata": {},
     "output_type": "execute_result"
    }
   ],
   "source": [
    "df.Category.unique()"
   ]
  },
  {
   "cell_type": "code",
   "execution_count": 128,
   "id": "5e739c47",
   "metadata": {},
   "outputs": [],
   "source": [
    "mapper = {\n",
    "    'ჯიპი': 'Jeep', 'სედანი': 'Sedan', 'ფურგონი': 'Goods wagon', 'მინივენი': 'Minivan', \n",
    "    'კუპე': 'Coupe', 'კროსოვერი': 'Crossover', 'კაბრიოლეტი': 'Cabriolet', \n",
    "    'ჰეტჩბექი': 'Hetchback', 'პიკაპი': 'Pickup', 'უნივერსალი': 'Universal'\n",
    "}\n",
    "\n",
    "df.Category = df.Category.map(mapper)"
   ]
  },
  {
   "cell_type": "markdown",
   "id": "bc9f4f03",
   "metadata": {},
   "source": [
    "### Fuel type"
   ]
  },
  {
   "cell_type": "code",
   "execution_count": 133,
   "id": "4a12ae2e",
   "metadata": {},
   "outputs": [
    {
     "data": {
      "text/plain": [
       "array(['ბენზინი', 'ჰიბრიდი', 'დიზელი', 'დატენვადი ჰიბრიდი', 'ელექტრო',\n",
       "       'ბუნებრივი გაზი', 'თხევადი გაზი'], dtype=object)"
      ]
     },
     "execution_count": 133,
     "metadata": {},
     "output_type": "execute_result"
    }
   ],
   "source": [
    "df['Fuel type'].unique()"
   ]
  },
  {
   "cell_type": "code",
   "execution_count": 134,
   "id": "47bc7a12",
   "metadata": {},
   "outputs": [],
   "source": [
    "mapper = {\n",
    "    'ბენზინი': 'Petrol', 'ჰიბრიდი': 'Hybrid', 'დიზელი': 'Diesel', 'დატენვადი ჰიბრიდი': 'Plug-in Hybrid', \n",
    "    'ელექტრო': 'Electric', 'ბუნებრივი გაზი': 'CNG', 'თხევადი გაზი': 'LPG'\n",
    "}\n",
    "\n",
    "df['Fuel type'] = df['Fuel type'].map(mapper)"
   ]
  },
  {
   "cell_type": "markdown",
   "id": "bb4c4e94",
   "metadata": {},
   "source": [
    "### Gear box type"
   ]
  },
  {
   "cell_type": "code",
   "execution_count": 136,
   "id": "e6aad97b",
   "metadata": {},
   "outputs": [
    {
     "data": {
      "text/plain": [
       "array(['ტიპტრონიკი', 'ავტომატიკა', 'ვარიატორი', 'მექანიკა'], dtype=object)"
      ]
     },
     "execution_count": 136,
     "metadata": {},
     "output_type": "execute_result"
    }
   ],
   "source": [
    "df['Gear box type'].unique()"
   ]
  },
  {
   "cell_type": "code",
   "execution_count": 137,
   "id": "213c533e",
   "metadata": {},
   "outputs": [],
   "source": [
    "mapper = {\n",
    "    'ტიპტრონიკი': 'Tiptronic', 'ავტომატიკა': 'Automatic', 'ვარიატორი': 'Variator', 'მექანიკა': 'Manual'\n",
    "}\n",
    "\n",
    "df['Gear box type'] = df['Gear box type'].map(mapper)"
   ]
  },
  {
   "cell_type": "markdown",
   "id": "22d3056d",
   "metadata": {},
   "source": [
    "### Drive wheels"
   ]
  },
  {
   "cell_type": "code",
   "execution_count": 140,
   "id": "be6763b0",
   "metadata": {},
   "outputs": [
    {
     "data": {
      "text/plain": [
       "array(['4x4', 'უკანა', 'წინა', nan], dtype=object)"
      ]
     },
     "execution_count": 140,
     "metadata": {},
     "output_type": "execute_result"
    }
   ],
   "source": [
    "df['Drive wheels'].unique()"
   ]
  },
  {
   "cell_type": "code",
   "execution_count": 146,
   "id": "86c46766",
   "metadata": {},
   "outputs": [],
   "source": [
    "mapper = {\n",
    "    '4x4': '4x4', 'უკანა': 'Rear', 'წინა': 'Front'\n",
    "}\n",
    "\n",
    "df['Drive wheels'] = df['Drive wheels'].map(mapper)"
   ]
  },
  {
   "cell_type": "markdown",
   "id": "73c08277",
   "metadata": {},
   "source": [
    "### Wheel"
   ]
  },
  {
   "cell_type": "code",
   "execution_count": 147,
   "id": "d15b9248",
   "metadata": {},
   "outputs": [
    {
     "data": {
      "text/plain": [
       "array(['მარცხენა', 'მარჯვენა'], dtype=object)"
      ]
     },
     "execution_count": 147,
     "metadata": {},
     "output_type": "execute_result"
    }
   ],
   "source": [
    "df['Wheel'].unique()"
   ]
  },
  {
   "cell_type": "code",
   "execution_count": 148,
   "id": "ff449adf",
   "metadata": {},
   "outputs": [],
   "source": [
    "mapper = {\n",
    "    'მარცხენა': 'Left', 'მარჯვენა': 'Right'\n",
    "}\n",
    "\n",
    "df['Wheel'] = df['Wheel'].map(mapper)"
   ]
  },
  {
   "cell_type": "markdown",
   "id": "fa89e9ee",
   "metadata": {},
   "source": [
    "### Color"
   ]
  },
  {
   "cell_type": "code",
   "execution_count": 152,
   "id": "fd73f2dc",
   "metadata": {},
   "outputs": [
    {
     "data": {
      "text/plain": [
       "array(['შავი', 'თეთრი', 'ლურჯი', 'წითელი', 'რუხი', 'ვერცხლისფერი',\n",
       "       'ოქროსფერი', 'ყვითელი', 'ყავისფერი', 'ნარინჯისფერი', 'ცისფერი',\n",
       "       'შინდისფერი', 'მწვანე', 'ჩალისფერი', 'იისფერი', 'ვარდისფერი', nan],\n",
       "      dtype=object)"
      ]
     },
     "execution_count": 152,
     "metadata": {},
     "output_type": "execute_result"
    }
   ],
   "source": [
    "df['Color'].unique()"
   ]
  },
  {
   "cell_type": "code",
   "execution_count": 153,
   "id": "328d95e9",
   "metadata": {},
   "outputs": [],
   "source": [
    "mapper = {\n",
    "    'შავი': 'Black', 'თეთრი': 'White', 'ლურჯი': 'Blue', 'წითელი': 'Red', 'რუხი': 'Grey', \n",
    "    'ვერცხლისფერი': 'Silver', 'ოქროსფერი': 'Golden', 'ყვითელი':' Yellow', 'ყავისფერი': 'Brown',\n",
    "    'ნარინჯისფერი': 'Orange', 'ცისფერი': 'Sky Blue', 'შინდისფერი': 'Carnelian red', \n",
    "    'მწვანე': 'Green', 'ჩალისფერი': 'Beige', 'იისფერი': 'Violet', 'ვარდისფერი': 'Pink'\n",
    "}\n",
    "\n",
    "df['Color'] = df['Color'].map(mapper)"
   ]
  },
  {
   "cell_type": "markdown",
   "id": "8ae1736a",
   "metadata": {},
   "source": [
    "### Interior color"
   ]
  },
  {
   "cell_type": "code",
   "execution_count": 155,
   "id": "c47ce1b0",
   "metadata": {},
   "outputs": [
    {
     "data": {
      "text/plain": [
       "array(['შავი', 'წითელი', 'რუხი', 'ყავისფერი', 'თეთრი', 'ჩალისფერი',\n",
       "       'ნარინჯისფერი', 'შინდისფერი', 'ოქროსფერი', 'ლურჯი', 'ყვითელი', nan],\n",
       "      dtype=object)"
      ]
     },
     "execution_count": 155,
     "metadata": {},
     "output_type": "execute_result"
    }
   ],
   "source": [
    "df['Interior color'].unique()"
   ]
  },
  {
   "cell_type": "code",
   "execution_count": 156,
   "id": "40814e34",
   "metadata": {},
   "outputs": [],
   "source": [
    "mapper = {\n",
    "    'შავი': 'Black', 'წითელი': 'Red', 'რუხი': 'Grey', 'ყავისფერი': 'Brown', 'თეთრი': 'White', \n",
    "    'ჩალისფერი': 'Beige','ნარინჯისფერი': 'Orange', 'შინდისფერი': 'Carnelian red', \n",
    "    'ოქროსფერი': 'Golden', 'ლურჯი': 'Blue', 'ყვითელი': 'Yellow'\n",
    "}\n",
    "\n",
    "df['Interior color'] = df['Interior color'].map(mapper)"
   ]
  },
  {
   "cell_type": "markdown",
   "id": "eaa25e60",
   "metadata": {},
   "source": [
    "### Interior material"
   ]
  },
  {
   "cell_type": "code",
   "execution_count": 158,
   "id": "03082050",
   "metadata": {},
   "outputs": [
    {
     "data": {
      "text/plain": [
       "array(['ტყავი', 'კომბინირებული', 'ნაჭერი', 'ალკანტარა', 'ხელოვნური ტყავი',\n",
       "       nan], dtype=object)"
      ]
     },
     "execution_count": 158,
     "metadata": {},
     "output_type": "execute_result"
    }
   ],
   "source": [
    "df['Interior material'].unique()"
   ]
  },
  {
   "cell_type": "code",
   "execution_count": 159,
   "id": "5bf7cbfd",
   "metadata": {},
   "outputs": [],
   "source": [
    "mapper = {\n",
    "    'ტყავი': 'Leather', 'კომბინირებული': 'Combined', 'ნაჭერი': 'Fabric', \n",
    "    'ალკანტარა': 'Alcantara', 'ხელოვნური ტყავი': 'Artificial leather'\n",
    "}\n",
    "\n",
    "df['Interior material'] = df['Interior material'].map(mapper)"
   ]
  },
  {
   "cell_type": "markdown",
   "id": "d7f1478f",
   "metadata": {},
   "source": [
    "### Exchange, Technical inspection, Catalyst"
   ]
  },
  {
   "cell_type": "code",
   "execution_count": 165,
   "id": "44f089ad",
   "metadata": {},
   "outputs": [
    {
     "name": "stdout",
     "output_type": "stream",
     "text": [
      "Exchange  -  ['კი' 'არა']\n",
      "Technical inspection  -  ['კი' 'არა']\n",
      "Catalyst  -  ['კი' 'არა' nan]\n"
     ]
    }
   ],
   "source": [
    "print('Exchange', ' - ', df['Exchange'].unique())\n",
    "print('Technical inspection', ' - ', df['Technical inspection'].unique())\n",
    "print('Catalyst', ' - ', df['Catalyst'].unique())"
   ]
  },
  {
   "cell_type": "code",
   "execution_count": 166,
   "id": "999f085d",
   "metadata": {},
   "outputs": [],
   "source": [
    "mapper = {\n",
    "    'კი': 'Yes', 'არა': 'No'\n",
    "}\n",
    "\n",
    "df['Exchange'] = df['Exchange'].map(mapper)\n",
    "df['Technical inspection'] = df['Technical inspection'].map(mapper)\n",
    "df['Catalyst'] = df['Catalyst'].map(mapper)"
   ]
  },
  {
   "cell_type": "code",
   "execution_count": 172,
   "id": "577142f8",
   "metadata": {},
   "outputs": [],
   "source": [
    "df.to_csv('cars-eng.csv')"
   ]
  }
 ],
 "metadata": {
  "kernelspec": {
   "display_name": "Python 3 (ipykernel)",
   "language": "python",
   "name": "python3"
  },
  "language_info": {
   "codemirror_mode": {
    "name": "ipython",
    "version": 3
   },
   "file_extension": ".py",
   "mimetype": "text/x-python",
   "name": "python",
   "nbconvert_exporter": "python",
   "pygments_lexer": "ipython3",
   "version": "3.11.4"
  }
 },
 "nbformat": 4,
 "nbformat_minor": 5
}
