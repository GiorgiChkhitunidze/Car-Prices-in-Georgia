{
 "cells": [
  {
   "cell_type": "markdown",
   "id": "38a2ddef-0775-45f1-8810-5d51a4558dcf",
   "metadata": {},
   "source": [
    "# Imports"
   ]
  },
  {
   "cell_type": "code",
   "execution_count": 21,
   "id": "7ae64a82-f98f-4151-84fe-b386b1812823",
   "metadata": {},
   "outputs": [],
   "source": [
    "# Import necessary libraries\n",
    "import pandas as pd\n",
    "import numpy as np\n",
    "import ast\n",
    "\n",
    "# Ignore all warnings\n",
    "import warnings\n",
    "warnings.filterwarnings(\"ignore\")"
   ]
  },
  {
   "cell_type": "markdown",
   "id": "f686d0ba-9e85-4dc9-833a-b43485186b3c",
   "metadata": {},
   "source": [
    "# Load Data"
   ]
  },
  {
   "cell_type": "code",
   "execution_count": 22,
   "id": "e1c63331-a433-436f-8291-2799a3750b5a",
   "metadata": {},
   "outputs": [],
   "source": [
    "df = pd.read_csv(\"Data/cars.csv\")"
   ]
  },
  {
   "cell_type": "markdown",
   "id": "606b109e-f78e-4687-b581-f2b6d62f443b",
   "metadata": {},
   "source": [
    "# Organize Columns"
   ]
  },
  {
   "cell_type": "markdown",
   "id": "7166b33e-e7ed-415f-a926-41a4e7bd2232",
   "metadata": {},
   "source": [
    "## Id"
   ]
  },
  {
   "cell_type": "code",
   "execution_count": 23,
   "id": "df6e0730-dee0-4f2c-8e52-72632a7aff2a",
   "metadata": {},
   "outputs": [],
   "source": [
    "df['id'] = df['id'].str[4:-2].astype(int)\n",
    "df.rename(columns={'id': 'Id'}, inplace=True)\n",
    "df.set_index('Id', inplace=True)"
   ]
  },
  {
   "cell_type": "code",
   "execution_count": 24,
   "id": "9cbc44b6-6e16-4273-ad91-719b75198dc2",
   "metadata": {},
   "outputs": [
    {
     "data": {
      "text/html": [
       "<div>\n",
       "<style scoped>\n",
       "    .dataframe tbody tr th:only-of-type {\n",
       "        vertical-align: middle;\n",
       "    }\n",
       "\n",
       "    .dataframe tbody tr th {\n",
       "        vertical-align: top;\n",
       "    }\n",
       "\n",
       "    .dataframe thead th {\n",
       "        text-align: right;\n",
       "    }\n",
       "</style>\n",
       "<table border=\"1\" class=\"dataframe\">\n",
       "  <thead>\n",
       "    <tr style=\"text-align: right;\">\n",
       "      <th></th>\n",
       "      <th>location</th>\n",
       "      <th>price</th>\n",
       "      <th>specifications-1</th>\n",
       "      <th>specifications-2</th>\n",
       "      <th>stickers</th>\n",
       "    </tr>\n",
       "    <tr>\n",
       "      <th>Id</th>\n",
       "      <th></th>\n",
       "      <th></th>\n",
       "      <th></th>\n",
       "      <th></th>\n",
       "      <th></th>\n",
       "    </tr>\n",
       "  </thead>\n",
       "  <tbody>\n",
       "    <tr>\n",
       "      <th>95484594</th>\n",
       "      <td>['დუშეთი', '154ნახვა2 დღე']</td>\n",
       "      <td>['20,893']</td>\n",
       "      <td>[['მწარმოებელი', 'Mitsubishi'], ['მოდელი', 'L ...</td>\n",
       "      <td>[['ჰიდრავლიკა', 'Yes'], ['ბორტკომპიუტერი', 'No...</td>\n",
       "      <td>['']</td>\n",
       "    </tr>\n",
       "    <tr>\n",
       "      <th>94232150</th>\n",
       "      <td>['გორი', '145ნახვა22 დღე']</td>\n",
       "      <td>['30,056']</td>\n",
       "      <td>[['მწარმოებელი', 'Mitsubishi'], ['მოდელი', 'Ec...</td>\n",
       "      <td>[['ჰიდრავლიკა', 'Yes'], ['ბორტკომპიუტერი', 'Ye...</td>\n",
       "      <td>[]</td>\n",
       "    </tr>\n",
       "  </tbody>\n",
       "</table>\n",
       "</div>"
      ],
      "text/plain": [
       "                             location       price  \\\n",
       "Id                                                  \n",
       "95484594  ['დუშეთი', '154ნახვა2 დღე']  ['20,893']   \n",
       "94232150   ['გორი', '145ნახვა22 დღე']  ['30,056']   \n",
       "\n",
       "                                           specifications-1  \\\n",
       "Id                                                            \n",
       "95484594  [['მწარმოებელი', 'Mitsubishi'], ['მოდელი', 'L ...   \n",
       "94232150  [['მწარმოებელი', 'Mitsubishi'], ['მოდელი', 'Ec...   \n",
       "\n",
       "                                           specifications-2 stickers  \n",
       "Id                                                                    \n",
       "95484594  [['ჰიდრავლიკა', 'Yes'], ['ბორტკომპიუტერი', 'No...     ['']  \n",
       "94232150  [['ჰიდრავლიკა', 'Yes'], ['ბორტკომპიუტერი', 'Ye...       []  "
      ]
     },
     "execution_count": 24,
     "metadata": {},
     "output_type": "execute_result"
    }
   ],
   "source": [
    "df.sample(2)"
   ]
  },
  {
   "cell_type": "markdown",
   "id": "65297136-357e-4d4a-97d1-95cb2c3d019d",
   "metadata": {},
   "source": [
    "## Location"
   ]
  },
  {
   "cell_type": "code",
   "execution_count": 25,
   "id": "9afbe74f-a32a-4de3-8503-2f4657b18879",
   "metadata": {},
   "outputs": [],
   "source": [
    "df['location'] = df['location'].apply(ast.literal_eval).str[0]\n",
    "df.rename(columns={'location': 'Location'}, inplace=True)"
   ]
  },
  {
   "cell_type": "code",
   "execution_count": 26,
   "id": "42546113-cf06-4f84-9002-8f033e013288",
   "metadata": {
    "scrolled": true
   },
   "outputs": [
    {
     "data": {
      "text/plain": [
       "თბილისი                  10989\n",
       "რუსთავის ავტობაზრობა      1730\n",
       "რუსთავი                   1308\n",
       "ბათუმი                    1270\n",
       "კავკასიის ავტომარკეტი      804\n",
       "ქუთაისი                    721\n",
       "გორი                       709\n",
       "ფოთი                       191\n",
       "ზესტაფონი                  159\n",
       "ზუგდიდი                    154\n",
       "თელავი                     138\n",
       "მარნეული                   133\n",
       "ახალციხე                   119\n",
       "ხაშური                     115\n",
       "კასპი                       90\n",
       "მცხეთა                      83\n",
       "გურჯაანი                    64\n",
       "ახალქალაქი                  56\n",
       "ქარელი                      53\n",
       "ქობულეთი                    50\n",
       "ბორჯომი                     45\n",
       "ოზურგეთი                    44\n",
       "სენაკი                      43\n",
       "საგარეჯო                    43\n",
       "ფოთის \"გეზ\"-ი               41\n",
       "სამტრედია                   35\n",
       "სიღნაღი                     34\n",
       "ლაგოდეხი                    32\n",
       "ჭიათურა                     30\n",
       "საჩხერე                     29\n",
       "ყვარელი                     27\n",
       "ბოლნისი                     21\n",
       "ახმეტა                      21\n",
       "დუშეთი                      18\n",
       "დედოფლისწყარო               16\n",
       "გარდაბანი                   16\n",
       "ნინოწმინდა                  16\n",
       "ჩხოროწყუ                    13\n",
       "წალკა                       11\n",
       "წალენჯიხა                   10\n",
       "ლანჩხუთი                     9\n",
       "მარტვილი                     8\n",
       "ხობი                         8\n",
       "ხონი                         7\n",
       "აბაშა                        7\n",
       "სართიჭალა                    7\n",
       "მესტია                       5\n",
       "თიანეთი                      4\n",
       "ტყიბული                      4\n",
       "ცაგერი                       4\n",
       "თეთრიწყარო                   4\n",
       "ხარაგაული                    2\n",
       "ასპინძა                      2\n",
       "ამბროლაური                   2\n",
       "წყალტუბო                     1\n",
       "ონი                          1\n",
       "წეროვანი                     1\n",
       "Name: Location, dtype: int64"
      ]
     },
     "execution_count": 26,
     "metadata": {},
     "output_type": "execute_result"
    }
   ],
   "source": [
    "df['Location'].value_counts()"
   ]
  },
  {
   "cell_type": "markdown",
   "id": "d7885320-2bb0-48c7-9f54-c836680980e9",
   "metadata": {},
   "source": [
    "## Price"
   ]
  },
  {
   "cell_type": "code",
   "execution_count": 27,
   "id": "da5c7a9e-9d75-4074-bb7e-9038d7133688",
   "metadata": {},
   "outputs": [],
   "source": [
    "df['price'] = df['price'].str[2:-2].str.replace(',', '').astype(int)\n",
    "df.rename(columns={'price': 'Price'}, inplace=True)"
   ]
  },
  {
   "cell_type": "code",
   "execution_count": 28,
   "id": "dffb8dcf-3039-4753-b947-3d9abfa86b42",
   "metadata": {},
   "outputs": [
    {
     "data": {
      "text/plain": [
       "count     19557.00000\n",
       "mean      33448.02889\n",
       "std       65611.96403\n",
       "min           1.00000\n",
       "25%       13058.00000\n",
       "50%       24811.00000\n",
       "75%       41787.00000\n",
       "max     7777780.00000\n",
       "Name: Price, dtype: float64"
      ]
     },
     "execution_count": 28,
     "metadata": {},
     "output_type": "execute_result"
    }
   ],
   "source": [
    "# Set pandas display option to show floats without scientific notation\n",
    "pd.set_option('display.float_format', lambda x: '{:.5f}'.format(x))\n",
    "\n",
    "df['Price'].describe()"
   ]
  },
  {
   "cell_type": "markdown",
   "id": "ccd8f89a-856e-447d-829f-642b572a1c43",
   "metadata": {},
   "source": [
    "## specifications-1"
   ]
  },
  {
   "cell_type": "code",
   "execution_count": 29,
   "id": "c526acdd-e14f-4cca-8c2a-56ec040befe0",
   "metadata": {},
   "outputs": [
    {
     "data": {
      "text/plain": [
       "Id\n",
       "93284442    [['მწარმოებელი', 'Mercedes-Benz'], ['მოდელი', ...\n",
       "94416194    [['მწარმოებელი', 'BMW'], ['მოდელი', '428'], ['...\n",
       "95335570    [['მწარმოებელი', 'Toyota'], ['მოდელი', 'RAV 4'...\n",
       "95470114    [['მწარმოებელი', 'Mercedes-Benz'], ['მოდელი', ...\n",
       "85990507    [['მწარმოებელი', 'Toyota'], ['მოდელი', 'Prius'...\n",
       "                                  ...                        \n",
       "95698770    [['მწარმოებელი', 'Volkswagen'], ['მოდელი', 'Ti...\n",
       "92268310    [['მწარმოებელი', 'Volkswagen'], ['მოდელი', 'Pa...\n",
       "95695366    [['მწარმოებელი', 'Volkswagen'], ['მოდელი', 'CC...\n",
       "95698710    [['მწარმოებელი', 'Volkswagen'], ['მოდელი', 'CC...\n",
       "95699122    [['მწარმოებელი', 'Volkswagen'], ['მოდელი', 'Je...\n",
       "Name: specifications-1, Length: 19557, dtype: object"
      ]
     },
     "execution_count": 29,
     "metadata": {},
     "output_type": "execute_result"
    }
   ],
   "source": [
    "df['specifications-1']"
   ]
  },
  {
   "cell_type": "code",
   "execution_count": 30,
   "id": "1b7e5fb3-aafe-4de3-935c-91f7463f589d",
   "metadata": {},
   "outputs": [],
   "source": [
    "# Turn string of list into a python list\n",
    "df['specifications-1'] = df['specifications-1'].apply(lambda x: ast.literal_eval(x))"
   ]
  },
  {
   "cell_type": "code",
   "execution_count": 31,
   "id": "abd781b6-a48f-4214-9e8c-8aacc4cf4ecd",
   "metadata": {},
   "outputs": [],
   "source": [
    "# Function to find the index of the set containing the specification\n",
    "def find_index_of_set_with_spec(set_list, spec):\n",
    "    for i, s in enumerate(set_list):\n",
    "        if spec in s:\n",
    "            return round(i)\n",
    "    return None"
   ]
  },
  {
   "cell_type": "code",
   "execution_count": 32,
   "id": "b05b1c1f-af12-4ea4-a8ff-c767652a0351",
   "metadata": {},
   "outputs": [],
   "source": [
    "# Extract Specs from each set\n",
    "def extract_specs(s, spec_name):\n",
    "    if pd.notna(s):\n",
    "        return [spec for spec in s if not spec.startswith(spec_name)][0]\n",
    "    else:\n",
    "        return pd.NA"
   ]
  },
  {
   "cell_type": "markdown",
   "id": "46012927-6303-4a2d-95f2-5666e1bb17ee",
   "metadata": {},
   "source": [
    "### Manufacturer"
   ]
  },
  {
   "cell_type": "code",
   "execution_count": 33,
   "id": "301f354b-b81f-409c-9d6b-e2157664237c",
   "metadata": {},
   "outputs": [
    {
     "data": {
      "text/plain": [
       "array([0])"
      ]
     },
     "execution_count": 33,
     "metadata": {},
     "output_type": "execute_result"
    }
   ],
   "source": [
    "# Find the index of the set containing the Manufacturer name for each row\n",
    "df['Index_of_set'] = df['specifications-1'].apply(lambda x: find_index_of_set_with_spec(x, 'მწარმოებელი'))\n",
    "df['Index_of_set'].unique()"
   ]
  },
  {
   "cell_type": "code",
   "execution_count": 34,
   "id": "366d50a9-5cc0-41f4-b965-271ba8fe561e",
   "metadata": {},
   "outputs": [
    {
     "data": {
      "text/plain": [
       "Toyota           3183\n",
       "Mercedes-Benz    2130\n",
       "Nissan           1379\n",
       "BMW              1337\n",
       "Hyundai          1289\n",
       "Subaru           1282\n",
       "Honda            1213\n",
       "Mazda            1179\n",
       "Mitsubishi       1177\n",
       "Volkswagen       1133\n",
       "Ford             1115\n",
       "Lexus            1094\n",
       "Kia              1037\n",
       "Chevrolet        1009\n",
       "Name: Manufacturer, dtype: int64"
      ]
     },
     "execution_count": 34,
     "metadata": {},
     "output_type": "execute_result"
    }
   ],
   "source": [
    "df['Manufacturer'] = df.apply(lambda row: row['specifications-1'][int(row['Index_of_set'])] if pd.notna(row['Index_of_set']) else np.nan, axis=1)\n",
    "df['Manufacturer'] = df['Manufacturer'].str[1]\n",
    "\n",
    "# Manufacturer description table\n",
    "df['Manufacturer'].value_counts()"
   ]
  },
  {
   "cell_type": "markdown",
   "id": "cf44c659-7790-4d57-91f1-bd990a4923ac",
   "metadata": {},
   "source": [
    "### Model"
   ]
  },
  {
   "cell_type": "code",
   "execution_count": 35,
   "id": "938b54f5-edb2-46e6-ad16-ce40567becc7",
   "metadata": {},
   "outputs": [
    {
     "data": {
      "text/plain": [
       "array([1])"
      ]
     },
     "execution_count": 35,
     "metadata": {},
     "output_type": "execute_result"
    }
   ],
   "source": [
    "# Find the index of the set containing the Model name for each row\n",
    "df['Index_of_set'] = df['specifications-1'].apply(lambda x: find_index_of_set_with_spec(x, 'მოდელი'))\n",
    "df['Index_of_set'].unique()"
   ]
  },
  {
   "cell_type": "code",
   "execution_count": 36,
   "id": "d2b25131-c74e-41f4-bf53-55db79f95cdf",
   "metadata": {},
   "outputs": [
    {
     "data": {
      "text/plain": [
       "Camry         888\n",
       "FIT           648\n",
       "Forester      601\n",
       "RAV 4         545\n",
       "Prius         528\n",
       "             ... \n",
       "Freestar        1\n",
       "CLK 500         1\n",
       "FTO             1\n",
       "GLC 63 AMG      1\n",
       "Scirocco        1\n",
       "Name: Model, Length: 588, dtype: int64"
      ]
     },
     "execution_count": 36,
     "metadata": {},
     "output_type": "execute_result"
    }
   ],
   "source": [
    "df['Model'] = df.apply(lambda row: row['specifications-1'][int(row['Index_of_set'])] if pd.notna(row['Index_of_set']) else np.nan, axis=1)\n",
    "df['Model'] = df['Model'].str[1]\n",
    "\n",
    "# Model description table\n",
    "df['Model'].value_counts()"
   ]
  },
  {
   "cell_type": "markdown",
   "id": "e030e0a3-1871-42b1-9073-b9424157d4f1",
   "metadata": {
    "jp-MarkdownHeadingCollapsed": true
   },
   "source": [
    "### Year"
   ]
  },
  {
   "cell_type": "code",
   "execution_count": 37,
   "id": "b65b8cdf-750a-4d60-984e-65291aab0112",
   "metadata": {},
   "outputs": [
    {
     "data": {
      "text/plain": [
       "array([2])"
      ]
     },
     "execution_count": 37,
     "metadata": {},
     "output_type": "execute_result"
    }
   ],
   "source": [
    "# Find the index of the set containing the Year name for each row\n",
    "df['Index_of_set'] = df['specifications-1'].apply(lambda x: find_index_of_set_with_spec(x, 'წელი'))\n",
    "df['Index_of_set'].unique()"
   ]
  },
  {
   "cell_type": "code",
   "execution_count": 38,
   "id": "27cf2999-83ab-4ae4-9d91-9cee113f576e",
   "metadata": {
    "scrolled": true
   },
   "outputs": [
    {
     "data": {
      "text/plain": [
       "2019    1580\n",
       "2017    1546\n",
       "2018    1516\n",
       "2015    1361\n",
       "2014    1334\n",
       "2013    1327\n",
       "2016    1312\n",
       "2012    1137\n",
       "2020    1130\n",
       "2021     779\n",
       "2005     705\n",
       "2011     671\n",
       "2022     638\n",
       "2004     471\n",
       "2003     465\n",
       "2006     428\n",
       "2010     425\n",
       "2007     405\n",
       "2008     376\n",
       "2002     353\n",
       "2001     259\n",
       "2009     238\n",
       "2000     238\n",
       "1999     180\n",
       "2023     159\n",
       "1998     145\n",
       "1997     118\n",
       "1996      93\n",
       "1995      54\n",
       "1994      45\n",
       "1992      16\n",
       "1991      14\n",
       "1993      13\n",
       "1989       6\n",
       "1984       5\n",
       "1990       4\n",
       "1979       2\n",
       "1986       2\n",
       "1988       2\n",
       "1974       1\n",
       "1985       1\n",
       "1971       1\n",
       "1983       1\n",
       "1943       1\n",
       "Name: Year, dtype: int64"
      ]
     },
     "execution_count": 38,
     "metadata": {},
     "output_type": "execute_result"
    }
   ],
   "source": [
    "df['Year'] = df.apply(lambda row: row['specifications-1'][int(row['Index_of_set'])] if pd.notna(row['Index_of_set']) else np.nan, axis=1)\n",
    "df['Year'] = df['Year'].str[1]\n",
    "\n",
    "# Year description table\n",
    "df['Year'].value_counts()"
   ]
  },
  {
   "cell_type": "markdown",
   "id": "c0035440-cc0b-4986-aee5-7eaa87d457f7",
   "metadata": {},
   "source": [
    "### Category"
   ]
  },
  {
   "cell_type": "code",
   "execution_count": 39,
   "id": "0ae18574-2436-4931-b796-be3175f57621",
   "metadata": {},
   "outputs": [
    {
     "data": {
      "text/plain": [
       "array([3])"
      ]
     },
     "execution_count": 39,
     "metadata": {},
     "output_type": "execute_result"
    }
   ],
   "source": [
    "# Find the index of the set containing the Category name for each row\n",
    "df['Index_of_set'] = df['specifications-1'].apply(lambda x: find_index_of_set_with_spec(x, 'კატეგორია'))\n",
    "df['Index_of_set'].unique()"
   ]
  },
  {
   "cell_type": "code",
   "execution_count": 40,
   "id": "e33d519d-df5e-40d0-a383-ea949a893059",
   "metadata": {},
   "outputs": [
    {
     "data": {
      "text/plain": [
       "სედანი        7825\n",
       "ჯიპი          7103\n",
       "ჰეტჩბექი      2733\n",
       "მინივენი       578\n",
       "კუპე           422\n",
       "ფურგონი        331\n",
       "უნივერსალი     300\n",
       "პიკაპი         117\n",
       "კაბრიოლეტი      75\n",
       "კროსოვერი       73\n",
       "Name: Category, dtype: int64"
      ]
     },
     "execution_count": 40,
     "metadata": {},
     "output_type": "execute_result"
    }
   ],
   "source": [
    "df['Category'] = df.apply(lambda row: row['specifications-1'][int(row['Index_of_set'])] if pd.notna(row['Index_of_set']) else np.nan, axis=1)\n",
    "df['Category'] = df['Category'].str[1]\n",
    "\n",
    "# Category description table\n",
    "df['Category'].value_counts()"
   ]
  },
  {
   "cell_type": "markdown",
   "id": "0e482d39-4303-4e2e-8909-e1ea5cbf4950",
   "metadata": {
    "jp-MarkdownHeadingCollapsed": true
   },
   "source": [
    "### Mileage"
   ]
  },
  {
   "cell_type": "code",
   "execution_count": 41,
   "id": "7a31ccc8-893c-4614-8323-27d2149a6668",
   "metadata": {},
   "outputs": [
    {
     "data": {
      "text/plain": [
       "array([4])"
      ]
     },
     "execution_count": 41,
     "metadata": {},
     "output_type": "execute_result"
    }
   ],
   "source": [
    "# Find the index of the set containing the Mileage name for each row\n",
    "df['Index_of_set'] = df['specifications-1'].apply(lambda x: find_index_of_set_with_spec(x, 'გარბენი'))\n",
    "df['Index_of_set'].unique()"
   ]
  },
  {
   "cell_type": "code",
   "execution_count": 42,
   "id": "d61c1f58-a78d-4d57-839d-cd175d0d1423",
   "metadata": {},
   "outputs": [
    {
     "data": {
      "text/plain": [
       "count     19557.00000\n",
       "mean     126416.12880\n",
       "std       97356.80621\n",
       "min           0.00000\n",
       "25%       53000.00000\n",
       "50%      115000.00000\n",
       "75%      180000.00000\n",
       "max     1554008.00000\n",
       "Name: Mileage, dtype: float64"
      ]
     },
     "execution_count": 42,
     "metadata": {},
     "output_type": "execute_result"
    }
   ],
   "source": [
    "df['Mileage'] = df.apply(lambda row: row['specifications-1'][int(row['Index_of_set'])] if pd.notna(row['Index_of_set']) else np.nan, axis=1)\n",
    "df['Mileage'] = df['Mileage'].str[1].str[:-3].astype(int)\n",
    "\n",
    "# Set the float_format option to display one decimal point\n",
    "pd.options.display.float_format = '{:.5f}'.format\n",
    "\n",
    "df['Mileage'].describe()"
   ]
  },
  {
   "cell_type": "markdown",
   "id": "9a57aae7-33e1-4a27-bbe4-cfbcf15f6e80",
   "metadata": {
    "jp-MarkdownHeadingCollapsed": true
   },
   "source": [
    "### Fuel type"
   ]
  },
  {
   "cell_type": "code",
   "execution_count": 43,
   "id": "31c46478-f573-4b84-a3be-6ddc0b2671cf",
   "metadata": {},
   "outputs": [
    {
     "data": {
      "text/plain": [
       "array([5])"
      ]
     },
     "execution_count": 43,
     "metadata": {},
     "output_type": "execute_result"
    }
   ],
   "source": [
    "# Find the index of the set containing the Fuel type name for each row\n",
    "df['Index_of_set'] = df['specifications-1'].apply(lambda x: find_index_of_set_with_spec(x, 'საწვავის ტიპი'))\n",
    "df['Index_of_set'].unique()"
   ]
  },
  {
   "cell_type": "code",
   "execution_count": 44,
   "id": "a545c06f-e781-4cae-bab9-ba46d7e42ca8",
   "metadata": {},
   "outputs": [
    {
     "data": {
      "text/plain": [
       "ბენზინი              14289\n",
       "ჰიბრიდი               2299\n",
       "დიზელი                1519\n",
       "ბუნებრივი გაზი         657\n",
       "თხევადი გაზი           365\n",
       "დატენვადი ჰიბრიდი      264\n",
       "ელექტრო                164\n",
       "Name: Fuel type, dtype: int64"
      ]
     },
     "execution_count": 44,
     "metadata": {},
     "output_type": "execute_result"
    }
   ],
   "source": [
    "df['Fuel type'] = df.apply(lambda row: row['specifications-1'][int(row['Index_of_set'])] if pd.notna(row['Index_of_set']) else np.nan, axis=1)\n",
    "df['Fuel type'] = df['Fuel type'].str[1]\n",
    "\n",
    "# Fuel type description table\n",
    "df['Fuel type'].value_counts()"
   ]
  },
  {
   "cell_type": "markdown",
   "id": "007aa75b-64df-473c-9687-73918af479eb",
   "metadata": {
    "jp-MarkdownHeadingCollapsed": true
   },
   "source": [
    "### Engine Volume"
   ]
  },
  {
   "cell_type": "code",
   "execution_count": 45,
   "id": "8cc0937a-fefb-4959-90ab-4ae1de898f49",
   "metadata": {},
   "outputs": [
    {
     "data": {
      "text/plain": [
       "array([6])"
      ]
     },
     "execution_count": 45,
     "metadata": {},
     "output_type": "execute_result"
    }
   ],
   "source": [
    "# Find the index of the set containing the Engine Volume name for each row\n",
    "df['Index_of_set'] = df['specifications-1'].apply(lambda x: find_index_of_set_with_spec(x, 'ძრავის მოცულობა'))\n",
    "df['Index_of_set'].unique()"
   ]
  },
  {
   "cell_type": "code",
   "execution_count": 46,
   "id": "444b5133-b398-491b-b8ce-4d7a72ea9af2",
   "metadata": {},
   "outputs": [
    {
     "data": {
      "text/plain": [
       "2.5          3607\n",
       "2.0          2998\n",
       "2.4          1365\n",
       "1.5          1328\n",
       "1.8          1196\n",
       "             ... \n",
       "5.2             1\n",
       "13.0            1\n",
       "6.3 turbo       1\n",
       "2.1 turbo       1\n",
       "5.6             1\n",
       "Name: Engine Volume, Length: 99, dtype: int64"
      ]
     },
     "execution_count": 46,
     "metadata": {},
     "output_type": "execute_result"
    }
   ],
   "source": [
    "df['Engine Volume'] = df.apply(lambda row: row['specifications-1'][int(row['Index_of_set'])] if pd.notna(row['Index_of_set']) else np.nan, axis=1)\n",
    "df['Engine Volume'] = df['Engine Volume'].str[1]\n",
    "\n",
    "# Engine Volume description table\n",
    "df['Engine Volume'].value_counts()"
   ]
  },
  {
   "cell_type": "markdown",
   "id": "9b135bc4-886f-4a25-a0c1-8c4faa9e9194",
   "metadata": {
    "jp-MarkdownHeadingCollapsed": true
   },
   "source": [
    "### Cylinders"
   ]
  },
  {
   "cell_type": "code",
   "execution_count": 47,
   "id": "cbeef5ac-2a5b-455a-885d-f2044f35c974",
   "metadata": {},
   "outputs": [
    {
     "data": {
      "text/plain": [
       "4             14587\n",
       "6              3347\n",
       "8               832\n",
       "5               276\n",
       "3               147\n",
       "1               146\n",
       "12              112\n",
       "2                57\n",
       "10               23\n",
       "9                10\n",
       "7                 8\n",
       "ვარიატორი         7\n",
       "11                3\n",
       "ავტომატიკა        2\n",
       "Name: Cylinders, dtype: int64"
      ]
     },
     "execution_count": 47,
     "metadata": {},
     "output_type": "execute_result"
    }
   ],
   "source": [
    "df['Cylinders'] = df['specifications-1'].str[7].str[1]\n",
    "df['Cylinders'].value_counts()"
   ]
  },
  {
   "cell_type": "code",
   "execution_count": 48,
   "id": "35dc708b-e275-4cc1-9d0e-53fe11e8a0c9",
   "metadata": {},
   "outputs": [
    {
     "data": {
      "text/html": [
       "<div>\n",
       "<style scoped>\n",
       "    .dataframe tbody tr th:only-of-type {\n",
       "        vertical-align: middle;\n",
       "    }\n",
       "\n",
       "    .dataframe tbody tr th {\n",
       "        vertical-align: top;\n",
       "    }\n",
       "\n",
       "    .dataframe thead th {\n",
       "        text-align: right;\n",
       "    }\n",
       "</style>\n",
       "<table border=\"1\" class=\"dataframe\">\n",
       "  <thead>\n",
       "    <tr style=\"text-align: right;\">\n",
       "      <th></th>\n",
       "      <th>Location</th>\n",
       "      <th>Price</th>\n",
       "      <th>specifications-1</th>\n",
       "      <th>specifications-2</th>\n",
       "      <th>stickers</th>\n",
       "      <th>Index_of_set</th>\n",
       "      <th>Manufacturer</th>\n",
       "      <th>Model</th>\n",
       "      <th>Year</th>\n",
       "      <th>Category</th>\n",
       "      <th>Mileage</th>\n",
       "      <th>Fuel type</th>\n",
       "      <th>Engine Volume</th>\n",
       "      <th>Cylinders</th>\n",
       "    </tr>\n",
       "    <tr>\n",
       "      <th>Id</th>\n",
       "      <th></th>\n",
       "      <th></th>\n",
       "      <th></th>\n",
       "      <th></th>\n",
       "      <th></th>\n",
       "      <th></th>\n",
       "      <th></th>\n",
       "      <th></th>\n",
       "      <th></th>\n",
       "      <th></th>\n",
       "      <th></th>\n",
       "      <th></th>\n",
       "      <th></th>\n",
       "      <th></th>\n",
       "    </tr>\n",
       "  </thead>\n",
       "  <tbody>\n",
       "    <tr>\n",
       "      <th>77714573</th>\n",
       "      <td>რუსთავის ავტობაზრობა</td>\n",
       "      <td>35257</td>\n",
       "      <td>[[მწარმოებელი, BMW], [მოდელი, I3], [წელი, 2014...</td>\n",
       "      <td>[['ჰიდრავლიკა', 'Yes'], ['ბორტკომპიუტერი', 'Ye...</td>\n",
       "      <td>['']</td>\n",
       "      <td>6</td>\n",
       "      <td>BMW</td>\n",
       "      <td>I3</td>\n",
       "      <td>2014</td>\n",
       "      <td>ჰეტჩბექი</td>\n",
       "      <td>22257</td>\n",
       "      <td>ელექტრო</td>\n",
       "      <td>0.0</td>\n",
       "      <td>ვარიატორი</td>\n",
       "    </tr>\n",
       "    <tr>\n",
       "      <th>79780065</th>\n",
       "      <td>რუსთავის ავტობაზრობა</td>\n",
       "      <td>39959</td>\n",
       "      <td>[[მწარმოებელი, Nissan], [მოდელი, Leaf], [წელი,...</td>\n",
       "      <td>[['ჰიდრავლიკა', 'Yes'], ['ბორტკომპიუტერი', 'Ye...</td>\n",
       "      <td>['']</td>\n",
       "      <td>6</td>\n",
       "      <td>Nissan</td>\n",
       "      <td>Leaf</td>\n",
       "      <td>2018</td>\n",
       "      <td>ჰეტჩბექი</td>\n",
       "      <td>40847</td>\n",
       "      <td>ელექტრო</td>\n",
       "      <td>0.0</td>\n",
       "      <td>ავტომატიკა</td>\n",
       "    </tr>\n",
       "    <tr>\n",
       "      <th>77714573</th>\n",
       "      <td>რუსთავის ავტობაზრობა</td>\n",
       "      <td>35257</td>\n",
       "      <td>[[მწარმოებელი, BMW], [მოდელი, I3], [წელი, 2014...</td>\n",
       "      <td>[['ჰიდრავლიკა', 'Yes'], ['ბორტკომპიუტერი', 'Ye...</td>\n",
       "      <td>['']</td>\n",
       "      <td>6</td>\n",
       "      <td>BMW</td>\n",
       "      <td>I3</td>\n",
       "      <td>2014</td>\n",
       "      <td>ჰეტჩბექი</td>\n",
       "      <td>22257</td>\n",
       "      <td>ელექტრო</td>\n",
       "      <td>0.0</td>\n",
       "      <td>ვარიატორი</td>\n",
       "    </tr>\n",
       "    <tr>\n",
       "      <th>79780065</th>\n",
       "      <td>რუსთავის ავტობაზრობა</td>\n",
       "      <td>39959</td>\n",
       "      <td>[[მწარმოებელი, Nissan], [მოდელი, Leaf], [წელი,...</td>\n",
       "      <td>[['ჰიდრავლიკა', 'Yes'], ['ბორტკომპიუტერი', 'Ye...</td>\n",
       "      <td>['']</td>\n",
       "      <td>6</td>\n",
       "      <td>Nissan</td>\n",
       "      <td>Leaf</td>\n",
       "      <td>2018</td>\n",
       "      <td>ჰეტჩბექი</td>\n",
       "      <td>40847</td>\n",
       "      <td>ელექტრო</td>\n",
       "      <td>0.0</td>\n",
       "      <td>ავტომატიკა</td>\n",
       "    </tr>\n",
       "    <tr>\n",
       "      <th>82848299</th>\n",
       "      <td>რუსთავი</td>\n",
       "      <td>14364</td>\n",
       "      <td>[[მწარმოებელი, Mitsubishi], [მოდელი, i-Miev], ...</td>\n",
       "      <td>[['ჰიდრავლიკა', 'No'], ['ბორტკომპიუტერი', 'Yes...</td>\n",
       "      <td>['']</td>\n",
       "      <td>6</td>\n",
       "      <td>Mitsubishi</td>\n",
       "      <td>i-Miev</td>\n",
       "      <td>2013</td>\n",
       "      <td>ჰეტჩბექი</td>\n",
       "      <td>120000</td>\n",
       "      <td>ელექტრო</td>\n",
       "      <td>0.0</td>\n",
       "      <td>ვარიატორი</td>\n",
       "    </tr>\n",
       "    <tr>\n",
       "      <th>82839947</th>\n",
       "      <td>რუსთავი</td>\n",
       "      <td>40481</td>\n",
       "      <td>[[მწარმოებელი, Nissan], [მოდელი, Leaf], [წელი,...</td>\n",
       "      <td>[['ჰიდრავლიკა', 'Yes'], ['ბორტკომპიუტერი', 'Ye...</td>\n",
       "      <td>['']</td>\n",
       "      <td>6</td>\n",
       "      <td>Nissan</td>\n",
       "      <td>Leaf</td>\n",
       "      <td>2017</td>\n",
       "      <td>სედანი</td>\n",
       "      <td>120000</td>\n",
       "      <td>ელექტრო</td>\n",
       "      <td>0.0</td>\n",
       "      <td>ვარიატორი</td>\n",
       "    </tr>\n",
       "    <tr>\n",
       "      <th>77715793</th>\n",
       "      <td>რუსთავის ავტობაზრობა</td>\n",
       "      <td>39436</td>\n",
       "      <td>[[მწარმოებელი, BMW], [მოდელი, I3], [წელი, 2016...</td>\n",
       "      <td>[['ჰიდრავლიკა', 'Yes'], ['ბორტკომპიუტერი', 'Ye...</td>\n",
       "      <td>['']</td>\n",
       "      <td>6</td>\n",
       "      <td>BMW</td>\n",
       "      <td>I3</td>\n",
       "      <td>2016</td>\n",
       "      <td>ჰეტჩბექი</td>\n",
       "      <td>56536</td>\n",
       "      <td>ელექტრო</td>\n",
       "      <td>0.0</td>\n",
       "      <td>ვარიატორი</td>\n",
       "    </tr>\n",
       "    <tr>\n",
       "      <th>77715793</th>\n",
       "      <td>რუსთავის ავტობაზრობა</td>\n",
       "      <td>39420</td>\n",
       "      <td>[[მწარმოებელი, BMW], [მოდელი, I3], [წელი, 2016...</td>\n",
       "      <td>[['ჰიდრავლიკა', 'Yes'], ['ბორტკომპიუტერი', 'Ye...</td>\n",
       "      <td>['']</td>\n",
       "      <td>6</td>\n",
       "      <td>BMW</td>\n",
       "      <td>I3</td>\n",
       "      <td>2016</td>\n",
       "      <td>ჰეტჩბექი</td>\n",
       "      <td>56536</td>\n",
       "      <td>ელექტრო</td>\n",
       "      <td>0.0</td>\n",
       "      <td>ვარიატორი</td>\n",
       "    </tr>\n",
       "    <tr>\n",
       "      <th>77777357</th>\n",
       "      <td>რუსთავის ავტობაზრობა</td>\n",
       "      <td>24288</td>\n",
       "      <td>[[მწარმოებელი, BMW], [მოდელი, I3], [წელი, 2014...</td>\n",
       "      <td>[['ჰიდრავლიკა', 'Yes'], ['ბორტკომპიუტერი', 'Ye...</td>\n",
       "      <td>['']</td>\n",
       "      <td>6</td>\n",
       "      <td>BMW</td>\n",
       "      <td>I3</td>\n",
       "      <td>2014</td>\n",
       "      <td>ჰეტჩბექი</td>\n",
       "      <td>58328</td>\n",
       "      <td>ელექტრო</td>\n",
       "      <td>0.0</td>\n",
       "      <td>ვარიატორი</td>\n",
       "    </tr>\n",
       "  </tbody>\n",
       "</table>\n",
       "</div>"
      ],
      "text/plain": [
       "                      Location  Price  \\\n",
       "Id                                      \n",
       "77714573  რუსთავის ავტობაზრობა  35257   \n",
       "79780065  რუსთავის ავტობაზრობა  39959   \n",
       "77714573  რუსთავის ავტობაზრობა  35257   \n",
       "79780065  რუსთავის ავტობაზრობა  39959   \n",
       "82848299               რუსთავი  14364   \n",
       "82839947               რუსთავი  40481   \n",
       "77715793  რუსთავის ავტობაზრობა  39436   \n",
       "77715793  რუსთავის ავტობაზრობა  39420   \n",
       "77777357  რუსთავის ავტობაზრობა  24288   \n",
       "\n",
       "                                           specifications-1  \\\n",
       "Id                                                            \n",
       "77714573  [[მწარმოებელი, BMW], [მოდელი, I3], [წელი, 2014...   \n",
       "79780065  [[მწარმოებელი, Nissan], [მოდელი, Leaf], [წელი,...   \n",
       "77714573  [[მწარმოებელი, BMW], [მოდელი, I3], [წელი, 2014...   \n",
       "79780065  [[მწარმოებელი, Nissan], [მოდელი, Leaf], [წელი,...   \n",
       "82848299  [[მწარმოებელი, Mitsubishi], [მოდელი, i-Miev], ...   \n",
       "82839947  [[მწარმოებელი, Nissan], [მოდელი, Leaf], [წელი,...   \n",
       "77715793  [[მწარმოებელი, BMW], [მოდელი, I3], [წელი, 2016...   \n",
       "77715793  [[მწარმოებელი, BMW], [მოდელი, I3], [წელი, 2016...   \n",
       "77777357  [[მწარმოებელი, BMW], [მოდელი, I3], [წელი, 2014...   \n",
       "\n",
       "                                           specifications-2 stickers  \\\n",
       "Id                                                                     \n",
       "77714573  [['ჰიდრავლიკა', 'Yes'], ['ბორტკომპიუტერი', 'Ye...     ['']   \n",
       "79780065  [['ჰიდრავლიკა', 'Yes'], ['ბორტკომპიუტერი', 'Ye...     ['']   \n",
       "77714573  [['ჰიდრავლიკა', 'Yes'], ['ბორტკომპიუტერი', 'Ye...     ['']   \n",
       "79780065  [['ჰიდრავლიკა', 'Yes'], ['ბორტკომპიუტერი', 'Ye...     ['']   \n",
       "82848299  [['ჰიდრავლიკა', 'No'], ['ბორტკომპიუტერი', 'Yes...     ['']   \n",
       "82839947  [['ჰიდრავლიკა', 'Yes'], ['ბორტკომპიუტერი', 'Ye...     ['']   \n",
       "77715793  [['ჰიდრავლიკა', 'Yes'], ['ბორტკომპიუტერი', 'Ye...     ['']   \n",
       "77715793  [['ჰიდრავლიკა', 'Yes'], ['ბორტკომპიუტერი', 'Ye...     ['']   \n",
       "77777357  [['ჰიდრავლიკა', 'Yes'], ['ბორტკომპიუტერი', 'Ye...     ['']   \n",
       "\n",
       "          Index_of_set Manufacturer   Model  Year  Category  Mileage  \\\n",
       "Id                                                                     \n",
       "77714573             6          BMW      I3  2014  ჰეტჩბექი    22257   \n",
       "79780065             6       Nissan    Leaf  2018  ჰეტჩბექი    40847   \n",
       "77714573             6          BMW      I3  2014  ჰეტჩბექი    22257   \n",
       "79780065             6       Nissan    Leaf  2018  ჰეტჩბექი    40847   \n",
       "82848299             6   Mitsubishi  i-Miev  2013  ჰეტჩბექი   120000   \n",
       "82839947             6       Nissan    Leaf  2017    სედანი   120000   \n",
       "77715793             6          BMW      I3  2016  ჰეტჩბექი    56536   \n",
       "77715793             6          BMW      I3  2016  ჰეტჩბექი    56536   \n",
       "77777357             6          BMW      I3  2014  ჰეტჩბექი    58328   \n",
       "\n",
       "         Fuel type Engine Volume   Cylinders  \n",
       "Id                                            \n",
       "77714573   ელექტრო          0.0    ვარიატორი  \n",
       "79780065   ელექტრო          0.0   ავტომატიკა  \n",
       "77714573   ელექტრო          0.0    ვარიატორი  \n",
       "79780065   ელექტრო          0.0   ავტომატიკა  \n",
       "82848299   ელექტრო          0.0    ვარიატორი  \n",
       "82839947   ელექტრო          0.0    ვარიატორი  \n",
       "77715793   ელექტრო          0.0    ვარიატორი  \n",
       "77715793   ელექტრო          0.0    ვარიატორი  \n",
       "77777357   ელექტრო          0.0    ვარიატორი  "
      ]
     },
     "execution_count": 48,
     "metadata": {},
     "output_type": "execute_result"
    }
   ],
   "source": [
    "df[(df['Cylinders']=='ვარიატორი') | (df['Cylinders']=='ავტომატიკა')]"
   ]
  },
  {
   "cell_type": "code",
   "execution_count": 49,
   "id": "08e6e434-3830-45ae-9045-882688688c92",
   "metadata": {},
   "outputs": [],
   "source": [
    "df.loc[(df['Cylinders']=='ვარიატორი') | (df['Cylinders']=='ავტომატიკა'), 'Cylinders'] = np.nan"
   ]
  },
  {
   "cell_type": "code",
   "execution_count": 50,
   "id": "6c9b0a77-60ff-41a0-a746-a9f5c5cfe3ba",
   "metadata": {},
   "outputs": [
    {
     "data": {
      "text/plain": [
       "4     14587\n",
       "6      3347\n",
       "8       832\n",
       "5       276\n",
       "3       147\n",
       "1       146\n",
       "12      112\n",
       "2        57\n",
       "10       23\n",
       "9        10\n",
       "7         8\n",
       "11        3\n",
       "Name: Cylinders, dtype: Int64"
      ]
     },
     "execution_count": 50,
     "metadata": {},
     "output_type": "execute_result"
    }
   ],
   "source": [
    "df.Cylinders = df.Cylinders.astype('Int64')\n",
    "df['Cylinders'].value_counts()"
   ]
  },
  {
   "cell_type": "markdown",
   "id": "3de8c5f0-c4f8-4292-bd59-9f3866fbefa2",
   "metadata": {
    "jp-MarkdownHeadingCollapsed": true
   },
   "source": [
    "### Gear box type"
   ]
  },
  {
   "cell_type": "code",
   "execution_count": 51,
   "id": "6450a609-65d6-4171-87d2-e7736eac39e5",
   "metadata": {},
   "outputs": [
    {
     "data": {
      "text/plain": [
       "array([8, 7])"
      ]
     },
     "execution_count": 51,
     "metadata": {},
     "output_type": "execute_result"
    }
   ],
   "source": [
    "# Find the index of the set containing the Gear box type name for each row\n",
    "df['Index_of_set'] = df['specifications-1'].apply(lambda x: find_index_of_set_with_spec(x, 'გადაცემათა კოლოფი'))\n",
    "df['Index_of_set'].unique()"
   ]
  },
  {
   "cell_type": "code",
   "execution_count": 52,
   "id": "15229f09-e42c-4949-b6f5-2c4e719a366a",
   "metadata": {},
   "outputs": [
    {
     "data": {
      "text/plain": [
       "ავტომატიკა    8144\n",
       "ტიპტრონიკი    7880\n",
       "მექანიკა      1768\n",
       "ვარიატორი     1765\n",
       "Name: Gear box type, dtype: int64"
      ]
     },
     "execution_count": 52,
     "metadata": {},
     "output_type": "execute_result"
    }
   ],
   "source": [
    "df['Gear box type'] = df.apply(lambda row: row['specifications-1'][int(row['Index_of_set'])] if pd.notna(row['Index_of_set']) else np.nan, axis=1)\n",
    "df['Gear box type'] = df['Gear box type'].str[1]\n",
    "\n",
    "# Gear box type description table\n",
    "df['Gear box type'].value_counts()"
   ]
  },
  {
   "cell_type": "markdown",
   "id": "32933731-bd99-4a46-aafc-66c64a5d1a1f",
   "metadata": {
    "jp-MarkdownHeadingCollapsed": true
   },
   "source": [
    "### Drive wheels"
   ]
  },
  {
   "cell_type": "code",
   "execution_count": 53,
   "id": "3c65c625-61eb-4438-a627-2b12fe2319e9",
   "metadata": {},
   "outputs": [
    {
     "data": {
      "text/plain": [
       "array([ 9.,  8., nan])"
      ]
     },
     "execution_count": 53,
     "metadata": {},
     "output_type": "execute_result"
    }
   ],
   "source": [
    "# Find the index of the set containing the Drive wheels name for each row\n",
    "df['Index_of_set'] = df['specifications-1'].apply(lambda x: find_index_of_set_with_spec(x, 'წამყვანი თვლები'))\n",
    "df['Index_of_set'].unique()"
   ]
  },
  {
   "cell_type": "code",
   "execution_count": 54,
   "id": "089bfdda-017f-4332-8892-0e74ec325cb0",
   "metadata": {},
   "outputs": [
    {
     "data": {
      "text/plain": [
       "წინა     10245\n",
       "4x4       6949\n",
       "უკანა     2357\n",
       "Name: Drive wheels, dtype: int64"
      ]
     },
     "execution_count": 54,
     "metadata": {},
     "output_type": "execute_result"
    }
   ],
   "source": [
    "df['Drive wheels'] = df.apply(lambda row: row['specifications-1'][int(row['Index_of_set'])] if pd.notna(row['Index_of_set']) else np.nan, axis=1)\n",
    "df['Drive wheels'] = df['Drive wheels'].str[1]\n",
    "\n",
    "# Drive wheels description table\n",
    "df['Drive wheels'].value_counts()"
   ]
  },
  {
   "cell_type": "markdown",
   "id": "8de0418d-296a-42f8-861b-d308ea65b46c",
   "metadata": {
    "jp-MarkdownHeadingCollapsed": true
   },
   "source": [
    "### Doors"
   ]
  },
  {
   "cell_type": "code",
   "execution_count": 55,
   "id": "f7a27bdf-7514-4f8a-a889-aed1a6b0d403",
   "metadata": {},
   "outputs": [
    {
     "data": {
      "text/plain": [
       "array([10.,  9., nan])"
      ]
     },
     "execution_count": 55,
     "metadata": {},
     "output_type": "execute_result"
    }
   ],
   "source": [
    "# Find the index of the set containing the Doors name for each row\n",
    "df['Index_of_set'] = df['specifications-1'].apply(lambda x: find_index_of_set_with_spec(x, 'კარები'))\n",
    "df['Index_of_set'].unique()"
   ]
  },
  {
   "cell_type": "code",
   "execution_count": 56,
   "id": "a15ed4ad-80cf-4c84-ab4d-585e7ead4160",
   "metadata": {},
   "outputs": [
    {
     "data": {
      "text/plain": [
       "4/5    18103\n",
       "2/3      843\n",
       ">5       608\n",
       "Name: Doors, dtype: int64"
      ]
     },
     "execution_count": 56,
     "metadata": {},
     "output_type": "execute_result"
    }
   ],
   "source": [
    "df['Doors'] = df.apply(lambda row: row['specifications-1'][int(row['Index_of_set'])] if pd.notna(row['Index_of_set']) else np.nan, axis=1)\n",
    "df['Doors'] = df['Doors'].str[1]\n",
    "\n",
    "# Doors description table\n",
    "df.Doors.value_counts()"
   ]
  },
  {
   "cell_type": "markdown",
   "id": "f39930dc-d880-4107-b247-4dde18871bc4",
   "metadata": {
    "jp-MarkdownHeadingCollapsed": true
   },
   "source": [
    "### Airbags"
   ]
  },
  {
   "cell_type": "code",
   "execution_count": 57,
   "id": "e8073694-e3a6-4cfc-a6f7-ef5e80e866aa",
   "metadata": {},
   "outputs": [
    {
     "data": {
      "text/plain": [
       "array([11., nan, 10.,  9.])"
      ]
     },
     "execution_count": 57,
     "metadata": {},
     "output_type": "execute_result"
    }
   ],
   "source": [
    "# Find the index of the set containing the Airbags name for each row\n",
    "df['Index_of_set'] = df['specifications-1'].apply(lambda x: find_index_of_set_with_spec(x, 'აირბეგი'))\n",
    "df['Index_of_set'].unique()"
   ]
  },
  {
   "cell_type": "code",
   "execution_count": 58,
   "id": "61b3d720-2415-4ecf-b50e-968c4791301d",
   "metadata": {},
   "outputs": [
    {
     "data": {
      "text/plain": [
       "12    4788\n",
       "9     3652\n",
       "8     3231\n",
       "6     1988\n",
       "4     1832\n",
       "10    1684\n",
       "2      948\n",
       "5      380\n",
       "7      217\n",
       "3       83\n",
       "11      76\n",
       "1       69\n",
       "Name: Airbags, dtype: Int64"
      ]
     },
     "execution_count": 58,
     "metadata": {},
     "output_type": "execute_result"
    }
   ],
   "source": [
    "df['Airbags'] = df.apply(lambda row: row['specifications-1'][int(row['Index_of_set'])] if pd.notna(row['Index_of_set']) else np.nan, axis=1)\n",
    "df['Airbags'] = df['Airbags'].str[1].astype('Int64')\n",
    "\n",
    "# Airbags description table\n",
    "df.Airbags.value_counts()"
   ]
  },
  {
   "cell_type": "markdown",
   "id": "477c11dc-089a-48b3-b6b1-7a8da49edc9d",
   "metadata": {
    "jp-MarkdownHeadingCollapsed": true
   },
   "source": [
    "### Wheel"
   ]
  },
  {
   "cell_type": "code",
   "execution_count": 59,
   "id": "18370ce8-1398-4059-85c2-eefe8d416e42",
   "metadata": {},
   "outputs": [
    {
     "data": {
      "text/plain": [
       "array([12, 11, 10])"
      ]
     },
     "execution_count": 59,
     "metadata": {},
     "output_type": "execute_result"
    }
   ],
   "source": [
    "# Find the index of the set containing the Wheel name for each row\n",
    "df['Index_of_set'] = df['specifications-1'].apply(lambda x: find_index_of_set_with_spec(x, 'საჭე'))\n",
    "df['Index_of_set'].unique()"
   ]
  },
  {
   "cell_type": "code",
   "execution_count": 60,
   "id": "a73af9d9-94b2-4f5b-b861-227900d9fa94",
   "metadata": {},
   "outputs": [
    {
     "data": {
      "text/plain": [
       "მარცხენა    17063\n",
       "მარჯვენა     2494\n",
       "Name: Wheel, dtype: int64"
      ]
     },
     "execution_count": 60,
     "metadata": {},
     "output_type": "execute_result"
    }
   ],
   "source": [
    "df['Wheel'] = df.apply(lambda row: row['specifications-1'][int(row['Index_of_set'])] if pd.notna(row['Index_of_set']) else np.nan, axis=1)\n",
    "df['Wheel'] = df['Wheel'].str[1]\n",
    "\n",
    "# Wheel description table\n",
    "df.Wheel.value_counts()"
   ]
  },
  {
   "cell_type": "markdown",
   "id": "07814ad0-e6fd-40aa-8f61-7432f8bedf01",
   "metadata": {
    "jp-MarkdownHeadingCollapsed": true
   },
   "source": [
    "### Color"
   ]
  },
  {
   "cell_type": "code",
   "execution_count": 61,
   "id": "b7d21fa7-bdc7-45ed-9ae8-5756c809f094",
   "metadata": {},
   "outputs": [
    {
     "data": {
      "text/plain": [
       "array([13., 12., nan, 11.])"
      ]
     },
     "execution_count": 61,
     "metadata": {},
     "output_type": "execute_result"
    }
   ],
   "source": [
    "# Find the index of the set containing the Color name for each row\n",
    "df['Index_of_set'] = df['specifications-1'].apply(lambda x: find_index_of_set_with_spec(x, 'ფერი'))\n",
    "df['Index_of_set'].unique()"
   ]
  },
  {
   "cell_type": "code",
   "execution_count": 62,
   "id": "37f32e16-0fa2-4d67-aa39-b5cf9aadfe2f",
   "metadata": {},
   "outputs": [
    {
     "data": {
      "text/plain": [
       "შავი            5209\n",
       "თეთრი           3697\n",
       "რუხი            3235\n",
       "ვერცხლისფერი    3215\n",
       "ლურჯი           1817\n",
       "წითელი           792\n",
       "შინდისფერი       428\n",
       "მწვანე           259\n",
       "ცისფერი          238\n",
       "ყავისფერი        235\n",
       "ოქროსფერი        157\n",
       "ჩალისფერი         97\n",
       "ნარინჯისფერი      67\n",
       "ყვითელი           54\n",
       "იისფერი           48\n",
       "ვარდისფერი         6\n",
       "Name: Color, dtype: int64"
      ]
     },
     "execution_count": 62,
     "metadata": {},
     "output_type": "execute_result"
    }
   ],
   "source": [
    "df['Color'] = df.apply(lambda row: row['specifications-1'][int(row['Index_of_set'])] if pd.notna(row['Index_of_set']) else np.nan, axis=1)\n",
    "df['Color'] = df['Color'].str[1]\n",
    "\n",
    "# Color description table\n",
    "df.Color.value_counts()"
   ]
  },
  {
   "cell_type": "markdown",
   "id": "c7f92303-9c2e-450d-9032-0e45ced50a69",
   "metadata": {
    "jp-MarkdownHeadingCollapsed": true
   },
   "source": [
    "### Interior color"
   ]
  },
  {
   "cell_type": "code",
   "execution_count": 63,
   "id": "1b739ebe-7893-4d60-a9fe-8a48ae4134c8",
   "metadata": {},
   "outputs": [
    {
     "data": {
      "text/plain": [
       "array([14., 13., 12., nan])"
      ]
     },
     "execution_count": 63,
     "metadata": {},
     "output_type": "execute_result"
    }
   ],
   "source": [
    "# Find the index of the set containing the Interior color name for each row\n",
    "df['Index_of_set'] = df['specifications-1'].apply(lambda x: find_index_of_set_with_spec(x, 'სალონის ფერი'))\n",
    "df['Index_of_set'].unique()"
   ]
  },
  {
   "cell_type": "code",
   "execution_count": 64,
   "id": "d63e3cc7-5947-45d5-a1c1-b1b245d6daa9",
   "metadata": {},
   "outputs": [
    {
     "data": {
      "text/plain": [
       "შავი            12372\n",
       "რუხი             3335\n",
       "ჩალისფერი        1665\n",
       "თეთრი             882\n",
       "ყავისფერი         476\n",
       "წითელი            265\n",
       "ლურჯი             125\n",
       "ყვითელი           118\n",
       "ნარინჯისფერი      113\n",
       "ოქროსფერი         109\n",
       "შინდისფერი         96\n",
       "Name: Interior color, dtype: int64"
      ]
     },
     "execution_count": 64,
     "metadata": {},
     "output_type": "execute_result"
    }
   ],
   "source": [
    "df['Interior color'] = df.apply(lambda row: row['specifications-1'][int(row['Index_of_set'])] if pd.notna(row['Index_of_set']) else np.nan, axis=1)\n",
    "df['Interior color'] = df['Interior color'].str[1]\n",
    "\n",
    "# Interior color description table\n",
    "df['Interior color'].value_counts()"
   ]
  },
  {
   "cell_type": "markdown",
   "id": "14ddf3a4-071f-45fc-9e3f-af598257a7c2",
   "metadata": {
    "jp-MarkdownHeadingCollapsed": true
   },
   "source": [
    "### Interior material"
   ]
  },
  {
   "cell_type": "code",
   "execution_count": 65,
   "id": "df37d37c-7fbd-4bc2-bc8e-cec796e6558a",
   "metadata": {},
   "outputs": [
    {
     "data": {
      "text/plain": [
       "array([15., 14., 13., nan])"
      ]
     },
     "execution_count": 65,
     "metadata": {},
     "output_type": "execute_result"
    }
   ],
   "source": [
    "# Find the index of the set containing the Interior material name for each row\n",
    "df['Index_of_set'] = df['specifications-1'].apply(lambda x: find_index_of_set_with_spec(x, 'სალონის მასალა'))\n",
    "df['Index_of_set'].unique()"
   ]
  },
  {
   "cell_type": "code",
   "execution_count": 66,
   "id": "ae5de748-c4fc-4c1d-b6be-05d623a49f23",
   "metadata": {},
   "outputs": [
    {
     "data": {
      "text/plain": [
       "ტყავი              8937\n",
       "ნაჭერი             8706\n",
       "კომბინირებული      1409\n",
       "ალკანტარა           393\n",
       "ხელოვნური ტყავი     111\n",
       "Name: Interior material, dtype: int64"
      ]
     },
     "execution_count": 66,
     "metadata": {},
     "output_type": "execute_result"
    }
   ],
   "source": [
    "df['Interior material'] = df.apply(lambda row: row['specifications-1'][int(row['Index_of_set'])] if pd.notna(row['Index_of_set']) else np.nan, axis=1)\n",
    "df['Interior material'] = df['Interior material'].str[1]\n",
    "\n",
    "# Interior material description table\n",
    "df['Interior material'].value_counts()"
   ]
  },
  {
   "cell_type": "markdown",
   "id": "8c472dd5-1ef2-4c9e-a6bb-a256d3ba60bc",
   "metadata": {
    "jp-MarkdownHeadingCollapsed": true
   },
   "source": [
    "### Exchange"
   ]
  },
  {
   "cell_type": "code",
   "execution_count": 67,
   "id": "ac0a3c09-6679-4351-80ae-7619da5876d0",
   "metadata": {},
   "outputs": [
    {
     "data": {
      "text/plain": [
       "array([16, 15, 14])"
      ]
     },
     "execution_count": 67,
     "metadata": {},
     "output_type": "execute_result"
    }
   ],
   "source": [
    "# Find the index of the set containing the Exchange name for each row\n",
    "df['Index_of_set'] = df['specifications-1'].apply(lambda x: find_index_of_set_with_spec(x, 'გაცვლა'))\n",
    "df['Index_of_set'].unique()"
   ]
  },
  {
   "cell_type": "code",
   "execution_count": 68,
   "id": "5143c118-5507-4981-b83e-c70746e8e463",
   "metadata": {},
   "outputs": [
    {
     "data": {
      "text/plain": [
       "არა    18915\n",
       "კი       642\n",
       "Name: Exchange, dtype: int64"
      ]
     },
     "execution_count": 68,
     "metadata": {},
     "output_type": "execute_result"
    }
   ],
   "source": [
    "df['Exchange'] = df.apply(lambda row: row['specifications-1'][int(row['Index_of_set'])] if pd.notna(row['Index_of_set']) else np.nan, axis=1)\n",
    "df['Exchange'] = df['Exchange'].str[1]\n",
    "\n",
    "# Exchange description table\n",
    "df.Exchange.value_counts()"
   ]
  },
  {
   "cell_type": "markdown",
   "id": "ab73bf61-db80-455a-896c-8d7c1e8b8d1f",
   "metadata": {
    "jp-MarkdownHeadingCollapsed": true
   },
   "source": [
    "### Technical inspection"
   ]
  },
  {
   "cell_type": "code",
   "execution_count": 69,
   "id": "9ea95804-f3c4-4cbf-bc8c-67ff3964a1aa",
   "metadata": {},
   "outputs": [
    {
     "data": {
      "text/plain": [
       "array([17, 16, 15])"
      ]
     },
     "execution_count": 69,
     "metadata": {},
     "output_type": "execute_result"
    }
   ],
   "source": [
    "# Find the index of the set containing the Technical inspection name for each row\n",
    "df['Index_of_set'] = df['specifications-1'].apply(lambda x: find_index_of_set_with_spec(x, 'ტექ. დათვალიერება'))\n",
    "df['Index_of_set'].unique()"
   ]
  },
  {
   "cell_type": "code",
   "execution_count": 70,
   "id": "78d01d7f-585e-4cf9-a402-d9b530782bf1",
   "metadata": {},
   "outputs": [
    {
     "data": {
      "text/plain": [
       "კი     18914\n",
       "არა      643\n",
       "Name: Technical inspection, dtype: int64"
      ]
     },
     "execution_count": 70,
     "metadata": {},
     "output_type": "execute_result"
    }
   ],
   "source": [
    "df['Technical inspection'] = df.apply(lambda row: row['specifications-1'][int(row['Index_of_set'])] if pd.notna(row['Index_of_set']) else np.nan, axis=1)\n",
    "df['Technical inspection'] = df['Technical inspection'].str[1]\n",
    "\n",
    "# Technical inspection description table\n",
    "df['Technical inspection'].value_counts()"
   ]
  },
  {
   "cell_type": "markdown",
   "id": "146b4753-cc25-4231-bba5-10334f76e831",
   "metadata": {
    "jp-MarkdownHeadingCollapsed": true
   },
   "source": [
    "### Catalyst"
   ]
  },
  {
   "cell_type": "code",
   "execution_count": 71,
   "id": "39887acd-5f1d-4633-8dea-8811672f0732",
   "metadata": {},
   "outputs": [
    {
     "data": {
      "text/plain": [
       "array([18., nan, 17., 16.])"
      ]
     },
     "execution_count": 71,
     "metadata": {},
     "output_type": "execute_result"
    }
   ],
   "source": [
    "# Find the index of the set containing the Catalyst name for each row\n",
    "df['Index_of_set'] = df['specifications-1'].apply(lambda x: find_index_of_set_with_spec(x, 'კატალიზატორი'))\n",
    "df['Index_of_set'].unique()"
   ]
  },
  {
   "cell_type": "code",
   "execution_count": 72,
   "id": "b2b3c80c-0186-4973-92a6-7796618a0379",
   "metadata": {},
   "outputs": [
    {
     "data": {
      "text/plain": [
       "კი     15239\n",
       "არა     2192\n",
       "Name: Catalyst, dtype: int64"
      ]
     },
     "execution_count": 72,
     "metadata": {},
     "output_type": "execute_result"
    }
   ],
   "source": [
    "df['Catalyst'] = df.apply(lambda row: row['specifications-1'][int(row['Index_of_set'])] if pd.notna(row['Index_of_set']) else np.nan, axis=1)\n",
    "df['Catalyst'] = df['Catalyst'].str[1]\n",
    "\n",
    "# Catalyst description table\n",
    "df.Catalyst.value_counts()"
   ]
  },
  {
   "cell_type": "markdown",
   "id": "b473eb78-c712-497e-a651-58d7f9de31cb",
   "metadata": {
    "jp-MarkdownHeadingCollapsed": true
   },
   "source": [
    "## specifications-2"
   ]
  },
  {
   "cell_type": "code",
   "execution_count": 73,
   "id": "1385c9d6-af86-4267-b22a-41c34ec20273",
   "metadata": {},
   "outputs": [],
   "source": [
    "# Turn string of list into a python list\n",
    "df['specifications-2'] = df['specifications-2'].apply(lambda x: ast.literal_eval(x))"
   ]
  },
  {
   "cell_type": "code",
   "execution_count": 74,
   "id": "74e4016f-a521-4606-a26c-2ba73ab663aa",
   "metadata": {},
   "outputs": [
    {
     "data": {
      "text/plain": [
       "Id\n",
       "93284442    [[ჰიდრავლიკა, Yes], [ბორტკომპიუტერი, Yes], [კო...\n",
       "94416194    [[ჰიდრავლიკა, Yes], [ბორტკომპიუტერი, Yes], [კო...\n",
       "95335570    [[ჰიდრავლიკა, Yes], [ბორტკომპიუტერი, Yes], [კო...\n",
       "95470114    [[ჰიდრავლიკა, Yes], [ბორტკომპიუტერი, Yes], [კო...\n",
       "85990507    [[ჰიდრავლიკა, Yes], [ბორტკომპიუტერი, Yes], [კო...\n",
       "                                  ...                        \n",
       "95698770    [[ჰიდრავლიკა, Yes], [ბორტკომპიუტერი, Yes], [კო...\n",
       "92268310    [[ჰიდრავლიკა, Yes], [ბორტკომპიუტერი, Yes], [კო...\n",
       "95695366    [[ჰიდრავლიკა, Yes], [ბორტკომპიუტერი, Yes], [კო...\n",
       "95698710    [[ჰიდრავლიკა, Yes], [ბორტკომპიუტერი, Yes], [კო...\n",
       "95699122    [[ჰიდრავლიკა, Yes], [ბორტკომპიუტერი, No], [კონ...\n",
       "Name: specifications-2, Length: 19557, dtype: object"
      ]
     },
     "execution_count": 74,
     "metadata": {},
     "output_type": "execute_result"
    }
   ],
   "source": [
    "df['specifications-2']"
   ]
  },
  {
   "cell_type": "markdown",
   "id": "cdb4b40e-384b-4c13-8a94-0c94f755485d",
   "metadata": {},
   "source": [
    "### Steering Hydraulics"
   ]
  },
  {
   "cell_type": "code",
   "execution_count": 75,
   "id": "f526d2f6-6556-4f66-9a24-6c1021763bf6",
   "metadata": {},
   "outputs": [
    {
     "data": {
      "text/plain": [
       "array([0])"
      ]
     },
     "execution_count": 75,
     "metadata": {},
     "output_type": "execute_result"
    }
   ],
   "source": [
    "# Find the index of the set containing the ჰიდრავლიკა name for each row\n",
    "df['Index_of_set'] = df['specifications-2'].apply(lambda x: find_index_of_set_with_spec(x, 'ჰიდრავლიკა'))\n",
    "df['Index_of_set'].unique()"
   ]
  },
  {
   "cell_type": "code",
   "execution_count": 76,
   "id": "0aed610a-c9b5-4f33-97b1-8f6b89fc7b9b",
   "metadata": {},
   "outputs": [
    {
     "data": {
      "text/plain": [
       "Yes    17953\n",
       "No      1604\n",
       "Name: Steering Hydraulics, dtype: int64"
      ]
     },
     "execution_count": 76,
     "metadata": {},
     "output_type": "execute_result"
    }
   ],
   "source": [
    "df['Steering Hydraulics'] = df.apply(lambda row: row['specifications-2'][int(row['Index_of_set'])] if pd.notna(row['Index_of_set']) else np.nan, axis=1)\n",
    "df['Steering Hydraulics'] = df['Steering Hydraulics'].str[1]\n",
    "\n",
    "# Catalyst description table\n",
    "df['Steering Hydraulics'].value_counts()"
   ]
  },
  {
   "cell_type": "markdown",
   "id": "f52b506a-d717-4047-b133-01395237ca80",
   "metadata": {},
   "source": [
    "### On-Board Computer"
   ]
  },
  {
   "cell_type": "code",
   "execution_count": 77,
   "id": "a0d87346-da6e-45e5-96bb-6e778c27043a",
   "metadata": {},
   "outputs": [
    {
     "data": {
      "text/plain": [
       "array([1])"
      ]
     },
     "execution_count": 77,
     "metadata": {},
     "output_type": "execute_result"
    }
   ],
   "source": [
    "# Find the index of the set containing the ბორტკომპიუტერი name for each row\n",
    "df['Index_of_set'] = df['specifications-2'].apply(lambda x: find_index_of_set_with_spec(x, 'ბორტკომპიუტერი'))\n",
    "df['Index_of_set'].unique()"
   ]
  },
  {
   "cell_type": "code",
   "execution_count": 78,
   "id": "6353c956-ec3d-44b6-bed8-6dd78678155c",
   "metadata": {},
   "outputs": [
    {
     "data": {
      "text/plain": [
       "Yes    15551\n",
       "No      4006\n",
       "Name: On-Board Computer, dtype: int64"
      ]
     },
     "execution_count": 78,
     "metadata": {},
     "output_type": "execute_result"
    }
   ],
   "source": [
    "df['On-Board Computer'] = df.apply(lambda row: row['specifications-2'][int(row['Index_of_set'])] if pd.notna(row['Index_of_set']) else np.nan, axis=1)\n",
    "df['On-Board Computer'] = df['On-Board Computer'].str[1]\n",
    "\n",
    "# ბორტკომპიუტერი description table\n",
    "df['On-Board Computer'].value_counts()"
   ]
  },
  {
   "cell_type": "markdown",
   "id": "840a721b-3bb3-45cc-a396-c88ebe8d6a4f",
   "metadata": {},
   "source": [
    "### Air Conditioning"
   ]
  },
  {
   "cell_type": "code",
   "execution_count": 79,
   "id": "de1356d1-02c7-4a30-b895-ed6539b7a9f9",
   "metadata": {},
   "outputs": [
    {
     "data": {
      "text/plain": [
       "array([2])"
      ]
     },
     "execution_count": 79,
     "metadata": {},
     "output_type": "execute_result"
    }
   ],
   "source": [
    "# Find the index of the set containing the კონდიციონერი name for each row\n",
    "df['Index_of_set'] = df['specifications-2'].apply(lambda x: find_index_of_set_with_spec(x, 'კონდიციონერი'))\n",
    "df['Index_of_set'].unique()"
   ]
  },
  {
   "cell_type": "code",
   "execution_count": 80,
   "id": "33950e17-d5aa-46d0-80b0-a4f2576a8d84",
   "metadata": {},
   "outputs": [
    {
     "data": {
      "text/plain": [
       "Yes    17729\n",
       "No      1828\n",
       "Name: Air Conditioning, dtype: int64"
      ]
     },
     "execution_count": 80,
     "metadata": {},
     "output_type": "execute_result"
    }
   ],
   "source": [
    "df['Air Conditioning'] = df.apply(lambda row: row['specifications-2'][int(row['Index_of_set'])] if pd.notna(row['Index_of_set']) else np.nan, axis=1)\n",
    "df['Air Conditioning'] = df['Air Conditioning'].str[1]\n",
    "\n",
    "# კონდიციონერი description table\n",
    "df['Air Conditioning'].value_counts()"
   ]
  },
  {
   "cell_type": "markdown",
   "id": "6cceb7b0-526e-40db-ae97-6436642daae9",
   "metadata": {},
   "source": [
    "### Parking Control"
   ]
  },
  {
   "cell_type": "code",
   "execution_count": 81,
   "id": "7fab374e-6663-450e-b548-287ff174b464",
   "metadata": {},
   "outputs": [
    {
     "data": {
      "text/plain": [
       "array([3])"
      ]
     },
     "execution_count": 81,
     "metadata": {},
     "output_type": "execute_result"
    }
   ],
   "source": [
    "# Find the index of the set containing the პარკინგკონტროლი name for each row\n",
    "df['Index_of_set'] = df['specifications-2'].apply(lambda x: find_index_of_set_with_spec(x, 'პარკინგკონტროლი'))\n",
    "df['Index_of_set'].unique()"
   ]
  },
  {
   "cell_type": "code",
   "execution_count": 82,
   "id": "11b0c429-7328-48f9-ab3e-3890b49474f2",
   "metadata": {},
   "outputs": [
    {
     "data": {
      "text/plain": [
       "Yes    11495\n",
       "No      8062\n",
       "Name: Parking Control, dtype: int64"
      ]
     },
     "execution_count": 82,
     "metadata": {},
     "output_type": "execute_result"
    }
   ],
   "source": [
    "df['Parking Control'] = df.apply(lambda row: row['specifications-2'][int(row['Index_of_set'])] if pd.notna(row['Index_of_set']) else np.nan, axis=1)\n",
    "df['Parking Control'] = df['Parking Control'].str[1]\n",
    "\n",
    "# პარკინგკონტროლი description table\n",
    "df['Parking Control'].value_counts()"
   ]
  },
  {
   "cell_type": "markdown",
   "id": "7a01a2e4-2531-4b86-a28d-f76841000825",
   "metadata": {},
   "source": [
    "### Rear View Camera"
   ]
  },
  {
   "cell_type": "code",
   "execution_count": 83,
   "id": "4bcef1cc-291c-404c-bb88-fada76746fc1",
   "metadata": {},
   "outputs": [
    {
     "data": {
      "text/plain": [
       "array([4])"
      ]
     },
     "execution_count": 83,
     "metadata": {},
     "output_type": "execute_result"
    }
   ],
   "source": [
    "# Find the index of the set containing the უკანა ხედვის კამერა name for each row\n",
    "df['Index_of_set'] = df['specifications-2'].apply(lambda x: find_index_of_set_with_spec(x, 'უკანა ხედვის კამერა'))\n",
    "df['Index_of_set'].unique()"
   ]
  },
  {
   "cell_type": "code",
   "execution_count": 84,
   "id": "b3e0d648-1281-4dec-864f-ba69852507f4",
   "metadata": {},
   "outputs": [
    {
     "data": {
      "text/plain": [
       "Yes    13802\n",
       "No      5755\n",
       "Name: Rear View Camera, dtype: int64"
      ]
     },
     "execution_count": 84,
     "metadata": {},
     "output_type": "execute_result"
    }
   ],
   "source": [
    "df['Rear View Camera'] = df.apply(lambda row: row['specifications-2'][int(row['Index_of_set'])] if pd.notna(row['Index_of_set']) else np.nan, axis=1)\n",
    "df['Rear View Camera'] = df['Rear View Camera'].str[1]\n",
    "\n",
    "# უკანა ხედვის კამერა description table\n",
    "df['Rear View Camera'].value_counts()"
   ]
  },
  {
   "cell_type": "markdown",
   "id": "798d7d20-b98b-4ab2-bf4d-77a3112ee3ec",
   "metadata": {},
   "source": [
    "### Electric Side Mirros"
   ]
  },
  {
   "cell_type": "code",
   "execution_count": 85,
   "id": "f2823162-03d1-4258-a018-8163b6359d21",
   "metadata": {},
   "outputs": [
    {
     "data": {
      "text/plain": [
       "array([5])"
      ]
     },
     "execution_count": 85,
     "metadata": {},
     "output_type": "execute_result"
    }
   ],
   "source": [
    "# Find the index of the set containing the ელექტრო შუშები name for each row\n",
    "df['Index_of_set'] = df['specifications-2'].apply(lambda x: find_index_of_set_with_spec(x, 'ელექტრო შუშები'))\n",
    "df['Index_of_set'].unique()"
   ]
  },
  {
   "cell_type": "code",
   "execution_count": 86,
   "id": "99607df5-1fc7-40fa-a54a-5a00e675dc10",
   "metadata": {},
   "outputs": [
    {
     "data": {
      "text/plain": [
       "Yes    17906\n",
       "No      1651\n",
       "Name: Electric Side Mirros, dtype: int64"
      ]
     },
     "execution_count": 86,
     "metadata": {},
     "output_type": "execute_result"
    }
   ],
   "source": [
    "df['Electric Side Mirros'] = df.apply(lambda row: row['specifications-2'][int(row['Index_of_set'])] if pd.notna(row['Index_of_set']) else np.nan, axis=1)\n",
    "df['Electric Side Mirros'] = df['Electric Side Mirros'].str[1]\n",
    "\n",
    "# ელექტრო შუშები description table\n",
    "df['Electric Side Mirros'].value_counts()"
   ]
  },
  {
   "cell_type": "markdown",
   "id": "87f5802d-e304-4749-9ca6-acdee0feb050",
   "metadata": {},
   "source": [
    "### Climate Control"
   ]
  },
  {
   "cell_type": "code",
   "execution_count": 87,
   "id": "43bfd6e6-2b02-48e0-a3bc-6e9faf64fd9b",
   "metadata": {},
   "outputs": [
    {
     "data": {
      "text/plain": [
       "array([6])"
      ]
     },
     "execution_count": 87,
     "metadata": {},
     "output_type": "execute_result"
    }
   ],
   "source": [
    "# Find the index of the set containing the კლიმატკონტროლი name for each row\n",
    "df['Index_of_set'] = df['specifications-2'].apply(lambda x: find_index_of_set_with_spec(x, 'კლიმატკონტროლი'))\n",
    "df['Index_of_set'].unique()"
   ]
  },
  {
   "cell_type": "code",
   "execution_count": 88,
   "id": "a9d40ab1-3884-426b-9251-61d29c949112",
   "metadata": {},
   "outputs": [
    {
     "data": {
      "text/plain": [
       "Yes    15937\n",
       "No      3620\n",
       "Name: Climate Control, dtype: int64"
      ]
     },
     "execution_count": 88,
     "metadata": {},
     "output_type": "execute_result"
    }
   ],
   "source": [
    "df['Climate Control'] = df.apply(lambda row: row['specifications-2'][int(row['Index_of_set'])] if pd.notna(row['Index_of_set']) else np.nan, axis=1)\n",
    "df['Climate Control'] = df['Climate Control'].str[1]\n",
    "\n",
    "# კლიმატკონტროლი description table\n",
    "df['Climate Control'].value_counts()"
   ]
  },
  {
   "cell_type": "markdown",
   "id": "38e497bf-0683-4be6-8815-dc7e7e55b778",
   "metadata": {},
   "source": [
    "### Cruise Control"
   ]
  },
  {
   "cell_type": "code",
   "execution_count": 89,
   "id": "1400b35e-74dc-4e2c-b058-9ea9575cf01b",
   "metadata": {},
   "outputs": [
    {
     "data": {
      "text/plain": [
       "array([7])"
      ]
     },
     "execution_count": 89,
     "metadata": {},
     "output_type": "execute_result"
    }
   ],
   "source": [
    "# Find the index of the set containing the კრუიზ-კონტროლი name for each row\n",
    "df['Index_of_set'] = df['specifications-2'].apply(lambda x: find_index_of_set_with_spec(x, 'კრუიზ-კონტროლი'))\n",
    "df['Index_of_set'].unique()"
   ]
  },
  {
   "cell_type": "code",
   "execution_count": 90,
   "id": "58b12e4a-4dd8-4af8-afbe-d5b1c503a81a",
   "metadata": {},
   "outputs": [
    {
     "data": {
      "text/plain": [
       "Yes    14440\n",
       "No      5117\n",
       "Name: Cruise Control, dtype: int64"
      ]
     },
     "execution_count": 90,
     "metadata": {},
     "output_type": "execute_result"
    }
   ],
   "source": [
    "df['Cruise Control'] = df.apply(lambda row: row['specifications-2'][int(row['Index_of_set'])] if pd.notna(row['Index_of_set']) else np.nan, axis=1)\n",
    "df['Cruise Control'] = df['Cruise Control'].str[1]\n",
    "\n",
    "# კრუიზ-კონტროლი description table\n",
    "df['Cruise Control'].value_counts()"
   ]
  },
  {
   "cell_type": "markdown",
   "id": "ed069770-ccc4-432a-88db-3cc1f9a58319",
   "metadata": {},
   "source": [
    "### Start-Stop System"
   ]
  },
  {
   "cell_type": "code",
   "execution_count": 91,
   "id": "b53839b8-454e-4e87-815e-44eb6f8dac69",
   "metadata": {},
   "outputs": [
    {
     "data": {
      "text/plain": [
       "array([8])"
      ]
     },
     "execution_count": 91,
     "metadata": {},
     "output_type": "execute_result"
    }
   ],
   "source": [
    "# Find the index of the set containing the Start/Stop სისტემა name for each row\n",
    "df['Index_of_set'] = df['specifications-2'].apply(lambda x: find_index_of_set_with_spec(x, 'Start/Stop სისტემა'))\n",
    "df['Index_of_set'].unique()"
   ]
  },
  {
   "cell_type": "code",
   "execution_count": 92,
   "id": "c28f3955-94df-4d11-b878-9f812c973c96",
   "metadata": {},
   "outputs": [
    {
     "data": {
      "text/plain": [
       "Yes    10915\n",
       "No      8642\n",
       "Name: Start-Stop System, dtype: int64"
      ]
     },
     "execution_count": 92,
     "metadata": {},
     "output_type": "execute_result"
    }
   ],
   "source": [
    "df['Start-Stop System'] = df.apply(lambda row: row['specifications-2'][int(row['Index_of_set'])] if pd.notna(row['Index_of_set']) else np.nan, axis=1)\n",
    "df['Start-Stop System'] = df['Start-Stop System'].str[1]\n",
    "\n",
    "# Start/Stop სისტემა description table\n",
    "df['Start-Stop System'].value_counts()"
   ]
  },
  {
   "cell_type": "markdown",
   "id": "b4b25c0b-cee5-46b1-9900-966625642350",
   "metadata": {},
   "source": [
    "### Sunroof"
   ]
  },
  {
   "cell_type": "code",
   "execution_count": 93,
   "id": "88571099-552b-4904-b6cc-e5bae84bf927",
   "metadata": {},
   "outputs": [
    {
     "data": {
      "text/plain": [
       "array([9])"
      ]
     },
     "execution_count": 93,
     "metadata": {},
     "output_type": "execute_result"
    }
   ],
   "source": [
    "# Find the index of the set containing the ლუქი name for each row\n",
    "df['Index_of_set'] = df['specifications-2'].apply(lambda x: find_index_of_set_with_spec(x, 'ლუქი'))\n",
    "df['Index_of_set'].unique()"
   ]
  },
  {
   "cell_type": "code",
   "execution_count": 94,
   "id": "f9cfde35-086e-4c42-8473-de96a989e405",
   "metadata": {},
   "outputs": [
    {
     "data": {
      "text/plain": [
       "No     10764\n",
       "Yes     8793\n",
       "Name: Sunroof, dtype: int64"
      ]
     },
     "execution_count": 94,
     "metadata": {},
     "output_type": "execute_result"
    }
   ],
   "source": [
    "df['Sunroof'] = df.apply(lambda row: row['specifications-2'][int(row['Index_of_set'])] if pd.notna(row['Index_of_set']) else np.nan, axis=1)\n",
    "df['Sunroof'] = df['Sunroof'].str[1]\n",
    "\n",
    "# ლუქი description table\n",
    "df['Sunroof'].value_counts()"
   ]
  },
  {
   "cell_type": "markdown",
   "id": "e3084df9-9547-420d-9ce0-351b41a53f33",
   "metadata": {},
   "source": [
    "### Heated Seats"
   ]
  },
  {
   "cell_type": "code",
   "execution_count": 95,
   "id": "e9c6c63b-89a6-445d-8bcf-799ddf40a1f5",
   "metadata": {},
   "outputs": [
    {
     "data": {
      "text/plain": [
       "array([10])"
      ]
     },
     "execution_count": 95,
     "metadata": {},
     "output_type": "execute_result"
    }
   ],
   "source": [
    "# Find the index of the set containing the სავარძლის გათბობა name for each row\n",
    "df['Index_of_set'] = df['specifications-2'].apply(lambda x: find_index_of_set_with_spec(x, 'სავარძლის გათბობა'))\n",
    "df['Index_of_set'].unique()"
   ]
  },
  {
   "cell_type": "code",
   "execution_count": 96,
   "id": "794c18c8-2179-4147-84a8-60b96cfecee0",
   "metadata": {},
   "outputs": [
    {
     "data": {
      "text/plain": [
       "Yes    12055\n",
       "No      7502\n",
       "Name: Heated Seats, dtype: int64"
      ]
     },
     "execution_count": 96,
     "metadata": {},
     "output_type": "execute_result"
    }
   ],
   "source": [
    "df['Heated Seats'] = df.apply(lambda row: row['specifications-2'][int(row['Index_of_set'])] if pd.notna(row['Index_of_set']) else np.nan, axis=1)\n",
    "df['Heated Seats'] = df['Heated Seats'].str[1]\n",
    "\n",
    "# სავარძლის გათბობა description table\n",
    "df['Heated Seats'].value_counts()"
   ]
  },
  {
   "cell_type": "markdown",
   "id": "c5ac0843-75dd-486d-8376-62453995b788",
   "metadata": {},
   "source": [
    "### Memory Seats"
   ]
  },
  {
   "cell_type": "code",
   "execution_count": 97,
   "id": "e5fc2535-3dbb-47d9-8a10-08b9a04fe60b",
   "metadata": {},
   "outputs": [
    {
     "data": {
      "text/plain": [
       "array([11])"
      ]
     },
     "execution_count": 97,
     "metadata": {},
     "output_type": "execute_result"
    }
   ],
   "source": [
    "# Find the index of the set containing the სავარძლის მეხსიერება name for each row\n",
    "df['Index_of_set'] = df['specifications-2'].apply(lambda x: find_index_of_set_with_spec(x, 'სავარძლის მეხსიერება'))\n",
    "df['Index_of_set'].unique()"
   ]
  },
  {
   "cell_type": "code",
   "execution_count": 98,
   "id": "7c1164a1-05bf-4f49-84d1-d853a3606aa1",
   "metadata": {},
   "outputs": [
    {
     "data": {
      "text/plain": [
       "Yes    10255\n",
       "No      9302\n",
       "Name: Memory Seats, dtype: int64"
      ]
     },
     "execution_count": 98,
     "metadata": {},
     "output_type": "execute_result"
    }
   ],
   "source": [
    "df['Memory Seats'] = df.apply(lambda row: row['specifications-2'][int(row['Index_of_set'])] if pd.notna(row['Index_of_set']) else np.nan, axis=1)\n",
    "df['Memory Seats'] = df['Memory Seats'].str[1]\n",
    "\n",
    "# სავარძლის მეხსიერება description table\n",
    "df['Memory Seats'].value_counts()"
   ]
  },
  {
   "cell_type": "markdown",
   "id": "b2767e21-2dea-4db3-8c94-2a7fb5081ffa",
   "metadata": {},
   "source": [
    "### ABS"
   ]
  },
  {
   "cell_type": "code",
   "execution_count": 99,
   "id": "586bc30f-611b-4b76-9222-1f80ca55f798",
   "metadata": {},
   "outputs": [
    {
     "data": {
      "text/plain": [
       "array([12])"
      ]
     },
     "execution_count": 99,
     "metadata": {},
     "output_type": "execute_result"
    }
   ],
   "source": [
    "# Find the index of the set containing the ABS name for each row\n",
    "df['Index_of_set'] = df['specifications-2'].apply(lambda x: find_index_of_set_with_spec(x, 'ABS'))\n",
    "df['Index_of_set'].unique()"
   ]
  },
  {
   "cell_type": "code",
   "execution_count": 100,
   "id": "2eee2ef4-99ea-42d6-8c71-0db8d7a80d1c",
   "metadata": {},
   "outputs": [
    {
     "data": {
      "text/plain": [
       "Yes    17377\n",
       "No      2180\n",
       "Name: ABS, dtype: int64"
      ]
     },
     "execution_count": 100,
     "metadata": {},
     "output_type": "execute_result"
    }
   ],
   "source": [
    "df['ABS'] = df.apply(lambda row: row['specifications-2'][int(row['Index_of_set'])] if pd.notna(row['Index_of_set']) else np.nan, axis=1)\n",
    "df['ABS'] = df['ABS'].str[1]\n",
    "\n",
    "# ABS description table\n",
    "df['ABS'].value_counts()"
   ]
  },
  {
   "cell_type": "markdown",
   "id": "13ac08f1-956b-4804-88e3-de54b775366b",
   "metadata": {},
   "source": [
    "### ESP"
   ]
  },
  {
   "cell_type": "code",
   "execution_count": 101,
   "id": "134c6736-6c40-4cb1-8335-c5d37d713ed5",
   "metadata": {},
   "outputs": [
    {
     "data": {
      "text/plain": [
       "array([13])"
      ]
     },
     "execution_count": 101,
     "metadata": {},
     "output_type": "execute_result"
    }
   ],
   "source": [
    "# Find the index of the set containing the მოცურების საწინააღმდეგო სისტემა name for each row\n",
    "df['Index_of_set'] = df['specifications-2'].apply(lambda x: find_index_of_set_with_spec(x, 'მოცურების საწინააღმდეგო სისტემა'))\n",
    "df['Index_of_set'].unique()"
   ]
  },
  {
   "cell_type": "code",
   "execution_count": 102,
   "id": "682ab7be-6a67-4d6d-b7f9-82f5a69616f7",
   "metadata": {},
   "outputs": [
    {
     "data": {
      "text/plain": [
       "Yes    16600\n",
       "No      2957\n",
       "Name: ESP, dtype: int64"
      ]
     },
     "execution_count": 102,
     "metadata": {},
     "output_type": "execute_result"
    }
   ],
   "source": [
    "df['ESP'] = df.apply(lambda row: row['specifications-2'][int(row['Index_of_set'])] if pd.notna(row['Index_of_set']) else np.nan, axis=1)\n",
    "df['ESP'] = df['ESP'].str[1]\n",
    "\n",
    "# მოცურების საწინააღმდეგო სისტემა description table\n",
    "df['ESP'].value_counts()"
   ]
  },
  {
   "cell_type": "markdown",
   "id": "9042fede-36c5-4ccc-90ae-82ce54146588",
   "metadata": {},
   "source": [
    "### Central Locking"
   ]
  },
  {
   "cell_type": "code",
   "execution_count": 103,
   "id": "e3ef2b52-3775-4313-a3e6-f3e7c8f8ad5c",
   "metadata": {},
   "outputs": [
    {
     "data": {
      "text/plain": [
       "array([14])"
      ]
     },
     "execution_count": 103,
     "metadata": {},
     "output_type": "execute_result"
    }
   ],
   "source": [
    "# Find the index of the set containing the ცენტრალური საკეტი name for each row\n",
    "df['Index_of_set'] = df['specifications-2'].apply(lambda x: find_index_of_set_with_spec(x, 'ცენტრალური საკეტი'))\n",
    "df['Index_of_set'].unique()"
   ]
  },
  {
   "cell_type": "code",
   "execution_count": 104,
   "id": "c230bcae-2004-4702-a76b-e2e2cf72953b",
   "metadata": {},
   "outputs": [
    {
     "data": {
      "text/plain": [
       "Yes    17850\n",
       "No      1707\n",
       "Name: Central Locking, dtype: int64"
      ]
     },
     "execution_count": 104,
     "metadata": {},
     "output_type": "execute_result"
    }
   ],
   "source": [
    "df['Central Locking'] = df.apply(lambda row: row['specifications-2'][int(row['Index_of_set'])] if pd.notna(row['Index_of_set']) else np.nan, axis=1)\n",
    "df['Central Locking'] = df['Central Locking'].str[1]\n",
    "\n",
    "# ცენტრალური საკეტი description table\n",
    "df['Central Locking'].value_counts()"
   ]
  },
  {
   "cell_type": "markdown",
   "id": "951184bb-4edb-4bff-9fd2-334ec8ab40c7",
   "metadata": {},
   "source": [
    "### Alarm System"
   ]
  },
  {
   "cell_type": "code",
   "execution_count": 105,
   "id": "48fb2f7f-de32-4d21-8960-741db40931ab",
   "metadata": {},
   "outputs": [
    {
     "data": {
      "text/plain": [
       "array([15])"
      ]
     },
     "execution_count": 105,
     "metadata": {},
     "output_type": "execute_result"
    }
   ],
   "source": [
    "# Find the index of the set containing the სიგნალიზაცია name for each row\n",
    "df['Index_of_set'] = df['specifications-2'].apply(lambda x: find_index_of_set_with_spec(x, 'სიგნალიზაცია'))\n",
    "df['Index_of_set'].unique()"
   ]
  },
  {
   "cell_type": "code",
   "execution_count": 106,
   "id": "6e84009d-b9c6-4168-8b71-6a3ff0dbe479",
   "metadata": {},
   "outputs": [
    {
     "data": {
      "text/plain": [
       "Yes    15329\n",
       "No      4228\n",
       "Name: Alarm System, dtype: int64"
      ]
     },
     "execution_count": 106,
     "metadata": {},
     "output_type": "execute_result"
    }
   ],
   "source": [
    "df['Alarm System'] = df.apply(lambda row: row['specifications-2'][int(row['Index_of_set'])] if pd.notna(row['Index_of_set']) else np.nan, axis=1)\n",
    "df['Alarm System'] = df['Alarm System'].str[1]\n",
    "\n",
    "# სიგნალიზაცია description table\n",
    "df['Alarm System'].value_counts()"
   ]
  },
  {
   "cell_type": "markdown",
   "id": "1f94c33b-1a29-4bf0-bc33-c8fea1bdab37",
   "metadata": {},
   "source": [
    "### Fog Lamp"
   ]
  },
  {
   "cell_type": "code",
   "execution_count": 107,
   "id": "71d8c967-bf65-4525-8141-1e5d75125e2b",
   "metadata": {},
   "outputs": [
    {
     "data": {
      "text/plain": [
       "array([16])"
      ]
     },
     "execution_count": 107,
     "metadata": {},
     "output_type": "execute_result"
    }
   ],
   "source": [
    "# Find the index of the set containing the სანისლე ფარები name for each row\n",
    "df['Index_of_set'] = df['specifications-2'].apply(lambda x: find_index_of_set_with_spec(x, 'სანისლე ფარები'))\n",
    "df['Index_of_set'].unique()"
   ]
  },
  {
   "cell_type": "code",
   "execution_count": 108,
   "id": "bd7c861e-652b-4241-bd96-4399452b23a7",
   "metadata": {},
   "outputs": [
    {
     "data": {
      "text/plain": [
       "Yes    14735\n",
       "No      4822\n",
       "Name: Fog Lamp, dtype: int64"
      ]
     },
     "execution_count": 108,
     "metadata": {},
     "output_type": "execute_result"
    }
   ],
   "source": [
    "df['Fog Lamp'] = df.apply(lambda row: row['specifications-2'][int(row['Index_of_set'])] if pd.notna(row['Index_of_set']) else np.nan, axis=1)\n",
    "df['Fog Lamp'] = df['Fog Lamp'].str[1]\n",
    "\n",
    "# სანისლე ფარები description table\n",
    "df['Fog Lamp'].value_counts()"
   ]
  },
  {
   "cell_type": "markdown",
   "id": "ad187ccb-95f7-4fc5-baa5-95d6781d3003",
   "metadata": {},
   "source": [
    "### Central Screen (Navigation)"
   ]
  },
  {
   "cell_type": "code",
   "execution_count": 109,
   "id": "72f2ddc9-457f-4c35-8563-ba51ed397935",
   "metadata": {},
   "outputs": [
    {
     "data": {
      "text/plain": [
       "array([17])"
      ]
     },
     "execution_count": 109,
     "metadata": {},
     "output_type": "execute_result"
    }
   ],
   "source": [
    "# Find the index of the set containing the მონიტორი (ნავიგაცია) name for each row\n",
    "df['Index_of_set'] = df['specifications-2'].apply(lambda x: find_index_of_set_with_spec(x, 'მონიტორი (ნავიგაცია)'))\n",
    "df['Index_of_set'].unique()"
   ]
  },
  {
   "cell_type": "code",
   "execution_count": 110,
   "id": "1295ccd0-5ecb-46f5-8f24-a5f185425953",
   "metadata": {},
   "outputs": [
    {
     "data": {
      "text/plain": [
       "Yes    14576\n",
       "No      4981\n",
       "Name: Central Screen (Navigation), dtype: int64"
      ]
     },
     "execution_count": 110,
     "metadata": {},
     "output_type": "execute_result"
    }
   ],
   "source": [
    "df['Central Screen (Navigation)'] = df.apply(lambda row: row['specifications-2'][int(row['Index_of_set'])] if pd.notna(row['Index_of_set']) else np.nan, axis=1)\n",
    "df['Central Screen (Navigation)'] = df['Central Screen (Navigation)'].str[1]\n",
    "\n",
    "# მონიტორი (ნავიგაცია) description table\n",
    "df['Central Screen (Navigation)'].value_counts()"
   ]
  },
  {
   "cell_type": "markdown",
   "id": "3f0df072-09cc-46fe-a46a-6cea80e7c56c",
   "metadata": {},
   "source": [
    "### AUX"
   ]
  },
  {
   "cell_type": "code",
   "execution_count": 111,
   "id": "c8655988-1275-4ba6-b740-343b301383e9",
   "metadata": {},
   "outputs": [
    {
     "data": {
      "text/plain": [
       "array([18])"
      ]
     },
     "execution_count": 111,
     "metadata": {},
     "output_type": "execute_result"
    }
   ],
   "source": [
    "# Find the index of the set containing the AUX name for each row\n",
    "df['Index_of_set'] = df['specifications-2'].apply(lambda x: find_index_of_set_with_spec(x, 'AUX'))\n",
    "df['Index_of_set'].unique()"
   ]
  },
  {
   "cell_type": "code",
   "execution_count": 112,
   "id": "70160fde-2852-4231-b9b1-62c8957daa4f",
   "metadata": {},
   "outputs": [
    {
     "data": {
      "text/plain": [
       "Yes    15896\n",
       "No      3661\n",
       "Name: AUX, dtype: int64"
      ]
     },
     "execution_count": 112,
     "metadata": {},
     "output_type": "execute_result"
    }
   ],
   "source": [
    "df['AUX'] = df.apply(lambda row: row['specifications-2'][int(row['Index_of_set'])] if pd.notna(row['Index_of_set']) else np.nan, axis=1)\n",
    "df['AUX'] = df['AUX'].str[1]\n",
    "\n",
    "# AUX description table\n",
    "df['AUX'].value_counts()"
   ]
  },
  {
   "cell_type": "markdown",
   "id": "de18f667-1ea7-464a-a3e0-65b6be5f74de",
   "metadata": {},
   "source": [
    "### Bluetooth"
   ]
  },
  {
   "cell_type": "code",
   "execution_count": 113,
   "id": "cd38574a-8e21-4b0b-89fa-f5a1666d1f14",
   "metadata": {},
   "outputs": [
    {
     "data": {
      "text/plain": [
       "array([19])"
      ]
     },
     "execution_count": 113,
     "metadata": {},
     "output_type": "execute_result"
    }
   ],
   "source": [
    "# Find the index of the set containing the Bluetooth name for each row\n",
    "df['Index_of_set'] = df['specifications-2'].apply(lambda x: find_index_of_set_with_spec(x, 'Bluetooth'))\n",
    "df['Index_of_set'].unique()"
   ]
  },
  {
   "cell_type": "code",
   "execution_count": 114,
   "id": "c5340da8-775f-494a-b612-5445ccfed75e",
   "metadata": {},
   "outputs": [
    {
     "data": {
      "text/plain": [
       "Yes    15802\n",
       "No      3755\n",
       "Name: Bluetooth, dtype: int64"
      ]
     },
     "execution_count": 114,
     "metadata": {},
     "output_type": "execute_result"
    }
   ],
   "source": [
    "df['Bluetooth'] = df.apply(lambda row: row['specifications-2'][int(row['Index_of_set'])] if pd.notna(row['Index_of_set']) else np.nan, axis=1)\n",
    "df['Bluetooth'] = df['Bluetooth'].str[1]\n",
    "\n",
    "# Bluetooth description table\n",
    "df['Bluetooth'].value_counts()"
   ]
  },
  {
   "cell_type": "markdown",
   "id": "8d0daa16-3bd5-455c-9938-586577f4f8a3",
   "metadata": {},
   "source": [
    "### Multifunction Steering Wheel"
   ]
  },
  {
   "cell_type": "code",
   "execution_count": 115,
   "id": "d574ed11-3950-4e52-9042-2490d9e09e54",
   "metadata": {},
   "outputs": [
    {
     "data": {
      "text/plain": [
       "array([20])"
      ]
     },
     "execution_count": 115,
     "metadata": {},
     "output_type": "execute_result"
    }
   ],
   "source": [
    "# Find the index of the set containing the მულტი საჭე name for each row\n",
    "df['Index_of_set'] = df['specifications-2'].apply(lambda x: find_index_of_set_with_spec(x, 'მულტი საჭე'))\n",
    "df['Index_of_set'].unique()"
   ]
  },
  {
   "cell_type": "code",
   "execution_count": 116,
   "id": "4a1c3a12-72f6-4fde-a15a-e4aa7026a006",
   "metadata": {},
   "outputs": [
    {
     "data": {
      "text/plain": [
       "Yes    15162\n",
       "No      4395\n",
       "Name: Multifunction Steering Wheel, dtype: int64"
      ]
     },
     "execution_count": 116,
     "metadata": {},
     "output_type": "execute_result"
    }
   ],
   "source": [
    "df['Multifunction Steering Wheel'] = df.apply(lambda row: row['specifications-2'][int(row['Index_of_set'])] if pd.notna(row['Index_of_set']) else np.nan, axis=1)\n",
    "df['Multifunction Steering Wheel'] = df['Multifunction Steering Wheel'].str[1]\n",
    "\n",
    "# მულტი საჭე description table\n",
    "df['Multifunction Steering Wheel'].value_counts()"
   ]
  },
  {
   "cell_type": "markdown",
   "id": "89f8fd54-c094-4f23-a38e-60c381c3a850",
   "metadata": {},
   "source": [
    "### Rims"
   ]
  },
  {
   "cell_type": "code",
   "execution_count": 117,
   "id": "95da3479-acfb-409d-8591-f81df351de88",
   "metadata": {},
   "outputs": [
    {
     "data": {
      "text/plain": [
       "array([21])"
      ]
     },
     "execution_count": 117,
     "metadata": {},
     "output_type": "execute_result"
    }
   ],
   "source": [
    "# Find the index of the set containing the დისკები name for each row\n",
    "df['Index_of_set'] = df['specifications-2'].apply(lambda x: find_index_of_set_with_spec(x, 'დისკები'))\n",
    "df['Index_of_set'].unique()"
   ]
  },
  {
   "cell_type": "code",
   "execution_count": 118,
   "id": "15cacf2b-67b7-4148-884e-ed8dfb5947f1",
   "metadata": {},
   "outputs": [
    {
     "data": {
      "text/plain": [
       "Yes    16681\n",
       "No      2876\n",
       "Name: Rims, dtype: int64"
      ]
     },
     "execution_count": 118,
     "metadata": {},
     "output_type": "execute_result"
    }
   ],
   "source": [
    "df['Rims'] = df.apply(lambda row: row['specifications-2'][int(row['Index_of_set'])] if pd.notna(row['Index_of_set']) else np.nan, axis=1)\n",
    "df['Rims'] = df['Rims'].str[1]\n",
    "\n",
    "# დისკები description table\n",
    "df['Rims'].value_counts()"
   ]
  },
  {
   "cell_type": "markdown",
   "id": "9d03bbca-6834-4d62-bae4-0aa8faf4633d",
   "metadata": {},
   "source": [
    "### Spare Tyre"
   ]
  },
  {
   "cell_type": "code",
   "execution_count": 119,
   "id": "221efae8-32ab-49bb-b861-dddbf70c561b",
   "metadata": {},
   "outputs": [
    {
     "data": {
      "text/plain": [
       "array([22])"
      ]
     },
     "execution_count": 119,
     "metadata": {},
     "output_type": "execute_result"
    }
   ],
   "source": [
    "# Find the index of the set containing the სათადარიგო საბურავი name for each row\n",
    "df['Index_of_set'] = df['specifications-2'].apply(lambda x: find_index_of_set_with_spec(x, 'სათადარიგო საბურავი'))\n",
    "df['Index_of_set'].unique()"
   ]
  },
  {
   "cell_type": "code",
   "execution_count": 120,
   "id": "fc41c91d-81ba-46a0-a9fe-f077a6dc46a9",
   "metadata": {},
   "outputs": [
    {
     "data": {
      "text/plain": [
       "Yes    15259\n",
       "No      4298\n",
       "Name: Spare Tyre, dtype: int64"
      ]
     },
     "execution_count": 120,
     "metadata": {},
     "output_type": "execute_result"
    }
   ],
   "source": [
    "df['Spare Tyre'] = df.apply(lambda row: row['specifications-2'][int(row['Index_of_set'])] if pd.notna(row['Index_of_set']) else np.nan, axis=1)\n",
    "df['Spare Tyre'] = df['Spare Tyre'].str[1]\n",
    "\n",
    "# სათადარიგო საბურავი description table\n",
    "df['Spare Tyre'].value_counts()"
   ]
  },
  {
   "cell_type": "markdown",
   "id": "30e7c72a-599b-46ec-bc59-8eeefcc53161",
   "metadata": {},
   "source": [
    "### Didabled Accessible"
   ]
  },
  {
   "cell_type": "code",
   "execution_count": 121,
   "id": "be68f405-a603-4e22-80a0-3b49a9942f06",
   "metadata": {},
   "outputs": [
    {
     "data": {
      "text/plain": [
       "array([23])"
      ]
     },
     "execution_count": 121,
     "metadata": {},
     "output_type": "execute_result"
    }
   ],
   "source": [
    "# Find the index of the set containing the სსმპ ადაპტირებული name for each row\n",
    "df['Index_of_set'] = df['specifications-2'].apply(lambda x: find_index_of_set_with_spec(x, 'სსმპ ადაპტირებული'))\n",
    "df['Index_of_set'].unique()"
   ]
  },
  {
   "cell_type": "code",
   "execution_count": 122,
   "id": "43e8f7b9-5ee2-4b8e-bf68-ddbaa8391f38",
   "metadata": {},
   "outputs": [
    {
     "data": {
      "text/plain": [
       "No     15826\n",
       "Yes     3731\n",
       "Name: Didabled Accessible, dtype: int64"
      ]
     },
     "execution_count": 122,
     "metadata": {},
     "output_type": "execute_result"
    }
   ],
   "source": [
    "df['Didabled Accessible'] = df.apply(lambda row: row['specifications-2'][int(row['Index_of_set'])] if pd.notna(row['Index_of_set']) else np.nan, axis=1)\n",
    "df['Didabled Accessible'] = df['Didabled Accessible'].str[1]\n",
    "\n",
    "# სსმპ ადაპტირებული description table\n",
    "df['Didabled Accessible'].value_counts()"
   ]
  },
  {
   "cell_type": "markdown",
   "id": "dcff59f4-2860-4fbc-b6c8-a612b2336f0e",
   "metadata": {
    "jp-MarkdownHeadingCollapsed": true
   },
   "source": [
    "## Stcikers"
   ]
  },
  {
   "cell_type": "code",
   "execution_count": 123,
   "id": "0f723726-64c6-48c6-8ef7-7e6568ffa144",
   "metadata": {},
   "outputs": [],
   "source": [
    "def extract_stickers(stickers, where_to_look, df):\n",
    "    for sticker in stickers:\n",
    "        column = df.stickers.str.contains('დაურტყმელი').astype(int).replace({0: 'No', 1: 'Yes'})\n",
    "        df[sticker] = column\n",
    "\n",
    "stickers = [\n",
    "    'დაურტყმელი', 'სუფთა ისტორია', 'ახალი ჩამოყვანილი', 'ეკონომიური', \n",
    "    'ლიმიტირებული', 'შეუღებავი', 'ერთი მფლობელი', 'სასწრაფოდ', 'ევროპული', \n",
    "    'იდეალურ მდგომარეობაში', 'ოჯახისთვის', 'ლომბარდის გადაბარებით', 'მესამე რიგი'\n",
    "]\n",
    "\n",
    "extract_stickers(stickers, df.stickers, df)"
   ]
  },
  {
   "cell_type": "code",
   "execution_count": 124,
   "id": "2a3e8d26-bc4b-4c35-ac65-b7225e47382f",
   "metadata": {},
   "outputs": [],
   "source": [
    "#### drop unnecessary columns\n",
    "df.drop(['specifications-1', 'specifications-2', 'stickers', 'Index_of_set'], axis=1, inplace=True)"
   ]
  },
  {
   "cell_type": "markdown",
   "id": "729b89ab-fb51-47ab-bd0c-e855eff6215c",
   "metadata": {},
   "source": [
    "# Translate from Georgian to English"
   ]
  },
  {
   "cell_type": "markdown",
   "id": "14ae54f0",
   "metadata": {},
   "source": [
    "## Column Names"
   ]
  },
  {
   "cell_type": "code",
   "execution_count": 125,
   "id": "78c3a7d0-7364-4870-bdd5-106c17347283",
   "metadata": {},
   "outputs": [
    {
     "data": {
      "text/plain": [
       "Index(['Location', 'Price', 'Manufacturer', 'Model', 'Year', 'Category',\n",
       "       'Mileage', 'Fuel type', 'Engine Volume', 'Cylinders', 'Gear box type',\n",
       "       'Drive wheels', 'Doors', 'Airbags', 'Wheel', 'Color', 'Interior color',\n",
       "       'Interior material', 'Exchange', 'Technical inspection', 'Catalyst',\n",
       "       'Steering Hydraulics', 'On-Board Computer', 'Air Conditioning',\n",
       "       'Parking Control', 'Rear View Camera', 'Electric Side Mirros',\n",
       "       'Climate Control', 'Cruise Control', 'Start-Stop System', 'Sunroof',\n",
       "       'Heated Seats', 'Memory Seats', 'ABS', 'ESP', 'Central Locking',\n",
       "       'Alarm System', 'Fog Lamp', 'Central Screen (Navigation)', 'AUX',\n",
       "       'Bluetooth', 'Multifunction Steering Wheel', 'Rims', 'Spare Tyre',\n",
       "       'Didabled Accessible', 'დაურტყმელი', 'სუფთა ისტორია',\n",
       "       'ახალი ჩამოყვანილი', 'ეკონომიური', 'ლიმიტირებული', 'შეუღებავი',\n",
       "       'ერთი მფლობელი', 'სასწრაფოდ', 'ევროპული', 'იდეალურ მდგომარეობაში',\n",
       "       'ოჯახისთვის', 'ლომბარდის გადაბარებით', 'მესამე რიგი'],\n",
       "      dtype='object')"
      ]
     },
     "execution_count": 125,
     "metadata": {},
     "output_type": "execute_result"
    }
   ],
   "source": [
    "df.columns"
   ]
  },
  {
   "cell_type": "code",
   "execution_count": 126,
   "id": "8ddf928e",
   "metadata": {},
   "outputs": [],
   "source": [
    "df.columns = [\n",
    "    'Location', 'Price', 'Manufacturer', 'Model', 'Year', 'Category',\n",
    "    'Mileage', 'Fuel type', 'Engine Volume', 'Cylinders', 'Gear box type',\n",
    "    'Drive wheels', 'Doors', 'Airbags', 'Wheel', 'Color', 'Interior color',\n",
    "    'Interior material', 'Exchange', 'Technical inspection', 'Catalyst',\n",
    "    'Steering Hydraulics', 'On-Board Computer', 'Air Conditioning',\n",
    "    'Parking Control', 'Rear View Camera', 'Electric Side Mirros',\n",
    "    'Climate Control', 'Cruise Control', 'Start-Stop System', 'Sunroof',\n",
    "    'Heated Seats', 'Memory Seats', 'ABS', 'ESP', 'Central Locking',\n",
    "    'Alarm System', 'Fog Lamp', 'Central Screen (Navigation)', 'AUX',\n",
    "    'Bluetooth', 'Multifunction Steering Wheel', 'Rims', 'Spare Tyre',\n",
    "    'Didabled Accessible', 'Undamaged', 'Clean History',\n",
    "    'Newly Imported', 'Low Consumption', 'Limited edition', 'Unpainted',\n",
    "    'One owner', 'Urgently', 'European', 'Perfect condition',\n",
    "    'For family', 'Pawnshop', 'Third row'\n",
    "    ]"
   ]
  },
  {
   "cell_type": "code",
   "execution_count": 127,
   "id": "9f429ed0",
   "metadata": {},
   "outputs": [
    {
     "data": {
      "text/plain": [
       "Index(['Location', 'Price', 'Manufacturer', 'Model', 'Year', 'Category',\n",
       "       'Mileage', 'Fuel type', 'Engine Volume', 'Cylinders', 'Gear box type',\n",
       "       'Drive wheels', 'Doors', 'Airbags', 'Wheel', 'Color', 'Interior color',\n",
       "       'Interior material', 'Exchange', 'Technical inspection', 'Catalyst',\n",
       "       'Steering Hydraulics', 'On-Board Computer', 'Air Conditioning',\n",
       "       'Parking Control', 'Rear View Camera', 'Electric Side Mirros',\n",
       "       'Climate Control', 'Cruise Control', 'Start-Stop System', 'Sunroof',\n",
       "       'Heated Seats', 'Memory Seats', 'ABS', 'ESP', 'Central Locking',\n",
       "       'Alarm System', 'Fog Lamp', 'Central Screen (Navigation)', 'AUX',\n",
       "       'Bluetooth', 'Multifunction Steering Wheel', 'Rims', 'Spare Tyre',\n",
       "       'Didabled Accessible', 'Undamaged', 'Clean History', 'Newly Imported',\n",
       "       'Low Consumption', 'Limited edition', 'Unpainted', 'One owner',\n",
       "       'Urgently', 'European', 'Perfect condition', 'For family', 'Pawnshop',\n",
       "       'Third row'],\n",
       "      dtype='object')"
      ]
     },
     "execution_count": 127,
     "metadata": {},
     "output_type": "execute_result"
    }
   ],
   "source": [
    "df.columns"
   ]
  },
  {
   "cell_type": "markdown",
   "id": "29f71e6f",
   "metadata": {},
   "source": [
    "## Location"
   ]
  },
  {
   "cell_type": "code",
   "execution_count": 128,
   "id": "bba18d92",
   "metadata": {},
   "outputs": [
    {
     "data": {
      "text/plain": [
       "array(['თბილისი', 'რუსთავის ავტობაზრობა', 'რუსთავი', 'ქუთაისი', 'გორი',\n",
       "       'კავკასიის ავტომარკეტი', 'ბათუმი', 'ფოთი', 'სენაკი', 'ახალციხე',\n",
       "       'მარნეული', 'ზუგდიდი', 'საგარეჯო', 'სამტრედია', 'ჭიათურა',\n",
       "       'ხაშური', 'ქობულეთი', 'ახალქალაქი', 'მცხეთა', 'თელავი',\n",
       "       'ზესტაფონი', 'ფოთის \"გეზ\"-ი', 'ლაგოდეხი', 'საჩხერე', 'გურჯაანი',\n",
       "       'კასპი', 'ოზურგეთი', 'ქარელი', 'ტყიბული', 'ყვარელი', 'წალენჯიხა',\n",
       "       'დედოფლისწყარო', 'სიღნაღი', 'ბოლნისი', 'ახმეტა', 'ბორჯომი',\n",
       "       'წალკა', 'ჩხოროწყუ', 'აბაშა', 'ხობი', 'ონი', 'ხონი', 'დუშეთი',\n",
       "       'ასპინძა', 'თეთრიწყარო', 'გარდაბანი', 'ხარაგაული', 'ცაგერი',\n",
       "       'მარტვილი', 'სართიჭალა', 'მესტია', 'ლანჩხუთი', 'ნინოწმინდა',\n",
       "       'წყალტუბო', 'ამბროლაური', 'თიანეთი', 'წეროვანი'], dtype=object)"
      ]
     },
     "execution_count": 128,
     "metadata": {},
     "output_type": "execute_result"
    }
   ],
   "source": [
    "df.Location.unique()"
   ]
  },
  {
   "cell_type": "code",
   "execution_count": 129,
   "id": "a0ef7523",
   "metadata": {},
   "outputs": [],
   "source": [
    "mapper = {\n",
    "    'თბილისი': 'Tbilisi', 'რუსთავის ავტობაზრობა': 'Rustavi Car Market', \n",
    "    'რუსთავი': 'Rustavi', 'ქუთაისი': 'Kutaisi', 'გორი': 'Gori',\n",
    "    'კავკასიის ავტომარკეტი': 'Caucasus Auto Market', 'ბათუმი': 'Batumi', \n",
    "    'ფოთი': 'Poti', 'სენაკი': 'Senaki', 'ახალციხე': 'Akhaltsikhe',\n",
    "    'მარნეული': 'Marneuli', 'ზუგდიდი': 'Zugdidi', 'საგარეჯო': 'Sagarejo', \n",
    "    'სამტრედია': 'Samtredia', 'ჭიათურა': 'Chiatura', 'ხაშური': 'Khashuri', \n",
    "    'ქობულეთი': 'Kobuleti', 'ახალქალაქი': 'Akhalkalaki', 'მცხეთა': 'Mtskheta', \n",
    "    'თელავი': 'Telavi', 'ზესტაფონი': 'Zestaphoni', 'ფოთის \"გეზ\"-ი': 'POTI \"ECZ\"', \n",
    "    'ლაგოდეხი': 'Lagodekhi', 'საჩხერე': 'Sachkhere', 'გურჯაანი': 'Gurjaani',\n",
    "    'კასპი': 'Kaspi', 'ოზურგეთი': 'Ozurgeti', 'ქარელი': 'Kareli', 'ტყიბული': 'Tkibuli', \n",
    "    'ყვარელი': 'kvareli', 'წალენჯიხა': 'Tsalenjikha', 'დედოფლისწყარო': 'Dedoplistskaro', \n",
    "    'სიღნაღი': 'Sighnagh', 'ბოლნისი': 'Bolnisi', 'ახმეტა': 'Akhmeta', 'ბორჯომი': 'Borjomi',\n",
    "    'წალკა': 'Tsalka', 'ჩხოროწყუ': 'Chkhorotsku', 'აბაშა': 'Abasha', 'ხობი': 'Khobi', \n",
    "    'ონი': 'Oni', 'ხონი': 'Khoni', 'დუშეთი': 'Dusheti', 'ასპინძა': 'Aspindza', \n",
    "    'თეთრიწყარო': 'Tetritskaro', 'გარდაბანი': 'Gardabani', 'ხარაგაული': 'Kharagauli', \n",
    "    'ცაგერი': 'Tsageri', 'მარტვილი': 'Martvili', 'სართიჭალა': 'Sartichala', 'მესტია': 'Mestia', \n",
    "    'ლანჩხუთი': 'Lanchkhuti', 'ნინოწმინდა': 'Ninotsminda', 'წყალტუბო': 'Tskaltubo', \n",
    "    'ამბროლაური': 'Ambrolauri', 'თიანეთი': 'Tianeti', 'წეროვანი': 'Tserovani'}\n",
    "\n",
    "df.Location = df.Location.map(mapper)"
   ]
  },
  {
   "cell_type": "markdown",
   "id": "4e4caf29",
   "metadata": {},
   "source": [
    "## Category"
   ]
  },
  {
   "cell_type": "code",
   "execution_count": 130,
   "id": "da59ee67",
   "metadata": {},
   "outputs": [
    {
     "data": {
      "text/plain": [
       "array(['ჯიპი', 'სედანი', 'ფურგონი', 'მინივენი', 'კუპე', 'კროსოვერი',\n",
       "       'კაბრიოლეტი', 'ჰეტჩბექი', 'პიკაპი', 'უნივერსალი'], dtype=object)"
      ]
     },
     "execution_count": 130,
     "metadata": {},
     "output_type": "execute_result"
    }
   ],
   "source": [
    "df.Category.unique()"
   ]
  },
  {
   "cell_type": "code",
   "execution_count": 131,
   "id": "5e739c47",
   "metadata": {},
   "outputs": [],
   "source": [
    "mapper = {\n",
    "    'ჯიპი': 'Jeep', 'სედანი': 'Sedan', 'ფურგონი': 'Goods wagon', 'მინივენი': 'Minivan', \n",
    "    'კუპე': 'Coupe', 'კროსოვერი': 'Crossover', 'კაბრიოლეტი': 'Cabriolet', \n",
    "    'ჰეტჩბექი': 'Hetchback', 'პიკაპი': 'Pickup', 'უნივერსალი': 'Universal'\n",
    "}\n",
    "\n",
    "df.Category = df.Category.map(mapper)"
   ]
  },
  {
   "cell_type": "markdown",
   "id": "bc9f4f03",
   "metadata": {},
   "source": [
    "## Fuel type"
   ]
  },
  {
   "cell_type": "code",
   "execution_count": 132,
   "id": "4a12ae2e",
   "metadata": {},
   "outputs": [
    {
     "data": {
      "text/plain": [
       "array(['ბენზინი', 'ჰიბრიდი', 'დიზელი', 'დატენვადი ჰიბრიდი', 'ელექტრო',\n",
       "       'ბუნებრივი გაზი', 'თხევადი გაზი'], dtype=object)"
      ]
     },
     "execution_count": 132,
     "metadata": {},
     "output_type": "execute_result"
    }
   ],
   "source": [
    "df['Fuel type'].unique()"
   ]
  },
  {
   "cell_type": "code",
   "execution_count": 133,
   "id": "47bc7a12",
   "metadata": {},
   "outputs": [],
   "source": [
    "mapper = {\n",
    "    'ბენზინი': 'Petrol', 'ჰიბრიდი': 'Hybrid', 'დიზელი': 'Diesel', 'დატენვადი ჰიბრიდი': 'Plug-in Hybrid', \n",
    "    'ელექტრო': 'Electric', 'ბუნებრივი გაზი': 'CNG', 'თხევადი გაზი': 'LPG'\n",
    "}\n",
    "\n",
    "df['Fuel type'] = df['Fuel type'].map(mapper)"
   ]
  },
  {
   "cell_type": "markdown",
   "id": "bb4c4e94",
   "metadata": {},
   "source": [
    "## Gear box type"
   ]
  },
  {
   "cell_type": "code",
   "execution_count": 134,
   "id": "e6aad97b",
   "metadata": {},
   "outputs": [
    {
     "data": {
      "text/plain": [
       "array(['ტიპტრონიკი', 'ავტომატიკა', 'ვარიატორი', 'მექანიკა'], dtype=object)"
      ]
     },
     "execution_count": 134,
     "metadata": {},
     "output_type": "execute_result"
    }
   ],
   "source": [
    "df['Gear box type'].unique()"
   ]
  },
  {
   "cell_type": "code",
   "execution_count": 135,
   "id": "213c533e",
   "metadata": {},
   "outputs": [],
   "source": [
    "mapper = {\n",
    "    'ტიპტრონიკი': 'Tiptronic', 'ავტომატიკა': 'Automatic', 'ვარიატორი': 'Variator', 'მექანიკა': 'Manual'\n",
    "}\n",
    "\n",
    "df['Gear box type'] = df['Gear box type'].map(mapper)"
   ]
  },
  {
   "cell_type": "markdown",
   "id": "22d3056d",
   "metadata": {},
   "source": [
    "## Drive wheels"
   ]
  },
  {
   "cell_type": "code",
   "execution_count": 136,
   "id": "be6763b0",
   "metadata": {},
   "outputs": [
    {
     "data": {
      "text/plain": [
       "array(['4x4', 'უკანა', 'წინა', nan], dtype=object)"
      ]
     },
     "execution_count": 136,
     "metadata": {},
     "output_type": "execute_result"
    }
   ],
   "source": [
    "df['Drive wheels'].unique()"
   ]
  },
  {
   "cell_type": "code",
   "execution_count": 137,
   "id": "86c46766",
   "metadata": {},
   "outputs": [],
   "source": [
    "mapper = {\n",
    "    '4x4': '4x4', 'უკანა': 'Rear', 'წინა': 'Front'\n",
    "}\n",
    "\n",
    "df['Drive wheels'] = df['Drive wheels'].map(mapper)"
   ]
  },
  {
   "cell_type": "markdown",
   "id": "73c08277",
   "metadata": {},
   "source": [
    "## Wheel"
   ]
  },
  {
   "cell_type": "code",
   "execution_count": 138,
   "id": "d15b9248",
   "metadata": {},
   "outputs": [
    {
     "data": {
      "text/plain": [
       "array(['მარცხენა', 'მარჯვენა'], dtype=object)"
      ]
     },
     "execution_count": 138,
     "metadata": {},
     "output_type": "execute_result"
    }
   ],
   "source": [
    "df['Wheel'].unique()"
   ]
  },
  {
   "cell_type": "code",
   "execution_count": 139,
   "id": "ff449adf",
   "metadata": {},
   "outputs": [],
   "source": [
    "mapper = {\n",
    "    'მარცხენა': 'Left', 'მარჯვენა': 'Right'\n",
    "}\n",
    "\n",
    "df['Wheel'] = df['Wheel'].map(mapper)"
   ]
  },
  {
   "cell_type": "markdown",
   "id": "fa89e9ee",
   "metadata": {},
   "source": [
    "## Color"
   ]
  },
  {
   "cell_type": "code",
   "execution_count": 140,
   "id": "fd73f2dc",
   "metadata": {},
   "outputs": [
    {
     "data": {
      "text/plain": [
       "array(['შავი', 'თეთრი', 'ლურჯი', 'წითელი', 'რუხი', 'ვერცხლისფერი',\n",
       "       'ოქროსფერი', 'ყვითელი', 'ყავისფერი', 'ნარინჯისფერი', 'ცისფერი',\n",
       "       'შინდისფერი', 'მწვანე', 'ჩალისფერი', 'იისფერი', 'ვარდისფერი', nan],\n",
       "      dtype=object)"
      ]
     },
     "execution_count": 140,
     "metadata": {},
     "output_type": "execute_result"
    }
   ],
   "source": [
    "df['Color'].unique()"
   ]
  },
  {
   "cell_type": "code",
   "execution_count": 141,
   "id": "328d95e9",
   "metadata": {},
   "outputs": [],
   "source": [
    "mapper = {\n",
    "    'შავი': 'Black', 'თეთრი': 'White', 'ლურჯი': 'Blue', 'წითელი': 'Red', 'რუხი': 'Grey', \n",
    "    'ვერცხლისფერი': 'Silver', 'ოქროსფერი': 'Golden', 'ყვითელი':' Yellow', 'ყავისფერი': 'Brown',\n",
    "    'ნარინჯისფერი': 'Orange', 'ცისფერი': 'Sky Blue', 'შინდისფერი': 'Carnelian red', \n",
    "    'მწვანე': 'Green', 'ჩალისფერი': 'Beige', 'იისფერი': 'Violet', 'ვარდისფერი': 'Pink'\n",
    "}\n",
    "\n",
    "df['Color'] = df['Color'].map(mapper)"
   ]
  },
  {
   "cell_type": "markdown",
   "id": "8ae1736a",
   "metadata": {},
   "source": [
    "## Interior color"
   ]
  },
  {
   "cell_type": "code",
   "execution_count": 142,
   "id": "c47ce1b0",
   "metadata": {},
   "outputs": [
    {
     "data": {
      "text/plain": [
       "array(['შავი', 'წითელი', 'რუხი', 'ყავისფერი', 'თეთრი', 'ჩალისფერი',\n",
       "       'ნარინჯისფერი', 'შინდისფერი', 'ოქროსფერი', 'ლურჯი', 'ყვითელი', nan],\n",
       "      dtype=object)"
      ]
     },
     "execution_count": 142,
     "metadata": {},
     "output_type": "execute_result"
    }
   ],
   "source": [
    "df['Interior color'].unique()"
   ]
  },
  {
   "cell_type": "code",
   "execution_count": 143,
   "id": "40814e34",
   "metadata": {},
   "outputs": [],
   "source": [
    "mapper = {\n",
    "    'შავი': 'Black', 'წითელი': 'Red', 'რუხი': 'Grey', 'ყავისფერი': 'Brown', 'თეთრი': 'White', \n",
    "    'ჩალისფერი': 'Beige','ნარინჯისფერი': 'Orange', 'შინდისფერი': 'Carnelian red', \n",
    "    'ოქროსფერი': 'Golden', 'ლურჯი': 'Blue', 'ყვითელი': 'Yellow'\n",
    "}\n",
    "\n",
    "df['Interior color'] = df['Interior color'].map(mapper)"
   ]
  },
  {
   "cell_type": "markdown",
   "id": "eaa25e60",
   "metadata": {},
   "source": [
    "## Interior material"
   ]
  },
  {
   "cell_type": "code",
   "execution_count": 144,
   "id": "03082050",
   "metadata": {},
   "outputs": [
    {
     "data": {
      "text/plain": [
       "array(['ტყავი', 'კომბინირებული', 'ნაჭერი', 'ალკანტარა', 'ხელოვნური ტყავი',\n",
       "       nan], dtype=object)"
      ]
     },
     "execution_count": 144,
     "metadata": {},
     "output_type": "execute_result"
    }
   ],
   "source": [
    "df['Interior material'].unique()"
   ]
  },
  {
   "cell_type": "code",
   "execution_count": 145,
   "id": "5bf7cbfd",
   "metadata": {},
   "outputs": [],
   "source": [
    "mapper = {\n",
    "    'ტყავი': 'Leather', 'კომბინირებული': 'Combined', 'ნაჭერი': 'Fabric', \n",
    "    'ალკანტარა': 'Alcantara', 'ხელოვნური ტყავი': 'Artificial leather'\n",
    "}\n",
    "\n",
    "df['Interior material'] = df['Interior material'].map(mapper)"
   ]
  },
  {
   "cell_type": "markdown",
   "id": "d7f1478f",
   "metadata": {},
   "source": [
    "## Exchange, Technical inspection, Catalyst"
   ]
  },
  {
   "cell_type": "code",
   "execution_count": 146,
   "id": "44f089ad",
   "metadata": {},
   "outputs": [
    {
     "name": "stdout",
     "output_type": "stream",
     "text": [
      "Exchange  -  ['კი' 'არა']\n",
      "Technical inspection  -  ['კი' 'არა']\n",
      "Catalyst  -  ['კი' 'არა' nan]\n"
     ]
    }
   ],
   "source": [
    "print('Exchange', ' - ', df['Exchange'].unique())\n",
    "print('Technical inspection', ' - ', df['Technical inspection'].unique())\n",
    "print('Catalyst', ' - ', df['Catalyst'].unique())"
   ]
  },
  {
   "cell_type": "code",
   "execution_count": 147,
   "id": "999f085d",
   "metadata": {},
   "outputs": [],
   "source": [
    "mapper = {\n",
    "    'კი': 'Yes', 'არა': 'No'\n",
    "}\n",
    "\n",
    "df['Exchange'] = df['Exchange'].map(mapper)\n",
    "df['Technical inspection'] = df['Technical inspection'].map(mapper)\n",
    "df['Catalyst'] = df['Catalyst'].map(mapper)"
   ]
  },
  {
   "cell_type": "code",
   "execution_count": 148,
   "id": "577142f8",
   "metadata": {},
   "outputs": [],
   "source": [
    "df.to_csv('Data/cars-eng.csv')"
   ]
  },
  {
   "cell_type": "markdown",
   "id": "f5cc24ed",
   "metadata": {},
   "source": [
    "# Clean Data"
   ]
  },
  {
   "cell_type": "markdown",
   "id": "b211d632",
   "metadata": {},
   "source": [
    "## Drop Duplicates"
   ]
  },
  {
   "cell_type": "code",
   "execution_count": 172,
   "id": "08111b97",
   "metadata": {},
   "outputs": [],
   "source": [
    "df = pd.read_csv(\"Data/cars-eng.csv\", index_col='Id')"
   ]
  },
  {
   "cell_type": "code",
   "execution_count": 173,
   "id": "861bca01",
   "metadata": {},
   "outputs": [],
   "source": [
    "df = df.drop_duplicates()"
   ]
  },
  {
   "cell_type": "code",
   "execution_count": 174,
   "id": "30ca4a15",
   "metadata": {},
   "outputs": [
    {
     "data": {
      "text/plain": [
       "(17035, 58)"
      ]
     },
     "execution_count": 174,
     "metadata": {},
     "output_type": "execute_result"
    }
   ],
   "source": [
    "df.shape"
   ]
  },
  {
   "cell_type": "markdown",
   "id": "08951400",
   "metadata": {},
   "source": [
    "## Handle Missing Values"
   ]
  },
  {
   "cell_type": "code",
   "execution_count": 175,
   "id": "bfac93ef",
   "metadata": {},
   "outputs": [
    {
     "name": "stdout",
     "output_type": "stream",
     "text": [
      "<class 'pandas.core.frame.DataFrame'>\n",
      "Int64Index: 17035 entries, 93284442 to 95699122\n",
      "Data columns (total 20 columns):\n",
      " #   Column                Non-Null Count  Dtype  \n",
      "---  ------                --------------  -----  \n",
      " 0   Location              17035 non-null  object \n",
      " 1   Price                 17035 non-null  int64  \n",
      " 2   Manufacturer          17035 non-null  object \n",
      " 3   Model                 17035 non-null  object \n",
      " 4   Year                  17035 non-null  int64  \n",
      " 5   Category              17035 non-null  object \n",
      " 6   Mileage               17035 non-null  int64  \n",
      " 7   Fuel type             17035 non-null  object \n",
      " 8   Engine Volume         17035 non-null  object \n",
      " 9   Cylinders             17028 non-null  float64\n",
      " 10  Gear box type         17035 non-null  object \n",
      " 11  Drive wheels          17029 non-null  object \n",
      " 12  Doors                 17032 non-null  object \n",
      " 13  Airbags               16463 non-null  float64\n",
      " 14  Wheel                 17035 non-null  object \n",
      " 15  Color                 17032 non-null  object \n",
      " 16  Interior color        17034 non-null  object \n",
      " 17  Interior material     17034 non-null  object \n",
      " 18  Exchange              17035 non-null  object \n",
      " 19  Technical inspection  17035 non-null  object \n",
      "dtypes: float64(2), int64(3), object(15)\n",
      "memory usage: 2.7+ MB\n"
     ]
    }
   ],
   "source": [
    "df.iloc[:, :20].info()"
   ]
  },
  {
   "cell_type": "markdown",
   "id": "84778b03",
   "metadata": {},
   "source": [
    "### Cylinders"
   ]
  },
  {
   "cell_type": "code",
   "execution_count": 176,
   "id": "ae069ab8",
   "metadata": {},
   "outputs": [
    {
     "data": {
      "text/html": [
       "<div>\n",
       "<style scoped>\n",
       "    .dataframe tbody tr th:only-of-type {\n",
       "        vertical-align: middle;\n",
       "    }\n",
       "\n",
       "    .dataframe tbody tr th {\n",
       "        vertical-align: top;\n",
       "    }\n",
       "\n",
       "    .dataframe thead th {\n",
       "        text-align: right;\n",
       "    }\n",
       "</style>\n",
       "<table border=\"1\" class=\"dataframe\">\n",
       "  <thead>\n",
       "    <tr style=\"text-align: right;\">\n",
       "      <th></th>\n",
       "      <th>Location</th>\n",
       "      <th>Price</th>\n",
       "      <th>Manufacturer</th>\n",
       "      <th>Model</th>\n",
       "      <th>Year</th>\n",
       "      <th>Category</th>\n",
       "      <th>Mileage</th>\n",
       "      <th>Fuel type</th>\n",
       "      <th>Engine Volume</th>\n",
       "      <th>Cylinders</th>\n",
       "      <th>Gear box type</th>\n",
       "      <th>Drive wheels</th>\n",
       "      <th>Doors</th>\n",
       "      <th>Airbags</th>\n",
       "      <th>Wheel</th>\n",
       "      <th>Color</th>\n",
       "      <th>Interior color</th>\n",
       "      <th>Interior material</th>\n",
       "      <th>Exchange</th>\n",
       "      <th>Technical inspection</th>\n",
       "    </tr>\n",
       "    <tr>\n",
       "      <th>Id</th>\n",
       "      <th></th>\n",
       "      <th></th>\n",
       "      <th></th>\n",
       "      <th></th>\n",
       "      <th></th>\n",
       "      <th></th>\n",
       "      <th></th>\n",
       "      <th></th>\n",
       "      <th></th>\n",
       "      <th></th>\n",
       "      <th></th>\n",
       "      <th></th>\n",
       "      <th></th>\n",
       "      <th></th>\n",
       "      <th></th>\n",
       "      <th></th>\n",
       "      <th></th>\n",
       "      <th></th>\n",
       "      <th></th>\n",
       "      <th></th>\n",
       "    </tr>\n",
       "  </thead>\n",
       "  <tbody>\n",
       "    <tr>\n",
       "      <th>77714573</th>\n",
       "      <td>Rustavi Car Market</td>\n",
       "      <td>35257</td>\n",
       "      <td>BMW</td>\n",
       "      <td>I3</td>\n",
       "      <td>2014</td>\n",
       "      <td>Hetchback</td>\n",
       "      <td>22257</td>\n",
       "      <td>Electric</td>\n",
       "      <td>0.0</td>\n",
       "      <td>NaN</td>\n",
       "      <td>Variator</td>\n",
       "      <td>Front</td>\n",
       "      <td>2/3</td>\n",
       "      <td>10.00000</td>\n",
       "      <td>Left</td>\n",
       "      <td>White</td>\n",
       "      <td>Brown</td>\n",
       "      <td>Leather</td>\n",
       "      <td>No</td>\n",
       "      <td>No</td>\n",
       "    </tr>\n",
       "    <tr>\n",
       "      <th>79780065</th>\n",
       "      <td>Rustavi Car Market</td>\n",
       "      <td>39959</td>\n",
       "      <td>Nissan</td>\n",
       "      <td>Leaf</td>\n",
       "      <td>2018</td>\n",
       "      <td>Hetchback</td>\n",
       "      <td>40847</td>\n",
       "      <td>Electric</td>\n",
       "      <td>0.0</td>\n",
       "      <td>NaN</td>\n",
       "      <td>Automatic</td>\n",
       "      <td>Front</td>\n",
       "      <td>4/5</td>\n",
       "      <td>8.00000</td>\n",
       "      <td>Left</td>\n",
       "      <td>Black</td>\n",
       "      <td>Black</td>\n",
       "      <td>Leather</td>\n",
       "      <td>No</td>\n",
       "      <td>No</td>\n",
       "    </tr>\n",
       "    <tr>\n",
       "      <th>82848299</th>\n",
       "      <td>Rustavi</td>\n",
       "      <td>14364</td>\n",
       "      <td>Mitsubishi</td>\n",
       "      <td>i-Miev</td>\n",
       "      <td>2013</td>\n",
       "      <td>Hetchback</td>\n",
       "      <td>120000</td>\n",
       "      <td>Electric</td>\n",
       "      <td>0.0</td>\n",
       "      <td>NaN</td>\n",
       "      <td>Variator</td>\n",
       "      <td>Rear</td>\n",
       "      <td>4/5</td>\n",
       "      <td>12.00000</td>\n",
       "      <td>Right</td>\n",
       "      <td>Grey</td>\n",
       "      <td>Black</td>\n",
       "      <td>Fabric</td>\n",
       "      <td>No</td>\n",
       "      <td>Yes</td>\n",
       "    </tr>\n",
       "    <tr>\n",
       "      <th>82839947</th>\n",
       "      <td>Rustavi</td>\n",
       "      <td>40481</td>\n",
       "      <td>Nissan</td>\n",
       "      <td>Leaf</td>\n",
       "      <td>2017</td>\n",
       "      <td>Sedan</td>\n",
       "      <td>120000</td>\n",
       "      <td>Electric</td>\n",
       "      <td>0.0</td>\n",
       "      <td>NaN</td>\n",
       "      <td>Variator</td>\n",
       "      <td>Front</td>\n",
       "      <td>4/5</td>\n",
       "      <td>12.00000</td>\n",
       "      <td>Left</td>\n",
       "      <td>Grey</td>\n",
       "      <td>Black</td>\n",
       "      <td>Fabric</td>\n",
       "      <td>No</td>\n",
       "      <td>Yes</td>\n",
       "    </tr>\n",
       "    <tr>\n",
       "      <th>77715793</th>\n",
       "      <td>Rustavi Car Market</td>\n",
       "      <td>39436</td>\n",
       "      <td>BMW</td>\n",
       "      <td>I3</td>\n",
       "      <td>2016</td>\n",
       "      <td>Hetchback</td>\n",
       "      <td>56536</td>\n",
       "      <td>Electric</td>\n",
       "      <td>0.0</td>\n",
       "      <td>NaN</td>\n",
       "      <td>Variator</td>\n",
       "      <td>Front</td>\n",
       "      <td>2/3</td>\n",
       "      <td>10.00000</td>\n",
       "      <td>Left</td>\n",
       "      <td>Black</td>\n",
       "      <td>Grey</td>\n",
       "      <td>Fabric</td>\n",
       "      <td>No</td>\n",
       "      <td>No</td>\n",
       "    </tr>\n",
       "    <tr>\n",
       "      <th>77715793</th>\n",
       "      <td>Rustavi Car Market</td>\n",
       "      <td>39420</td>\n",
       "      <td>BMW</td>\n",
       "      <td>I3</td>\n",
       "      <td>2016</td>\n",
       "      <td>Hetchback</td>\n",
       "      <td>56536</td>\n",
       "      <td>Electric</td>\n",
       "      <td>0.0</td>\n",
       "      <td>NaN</td>\n",
       "      <td>Variator</td>\n",
       "      <td>Front</td>\n",
       "      <td>2/3</td>\n",
       "      <td>10.00000</td>\n",
       "      <td>Left</td>\n",
       "      <td>Black</td>\n",
       "      <td>Grey</td>\n",
       "      <td>Fabric</td>\n",
       "      <td>No</td>\n",
       "      <td>No</td>\n",
       "    </tr>\n",
       "    <tr>\n",
       "      <th>77777357</th>\n",
       "      <td>Rustavi Car Market</td>\n",
       "      <td>24288</td>\n",
       "      <td>BMW</td>\n",
       "      <td>I3</td>\n",
       "      <td>2014</td>\n",
       "      <td>Hetchback</td>\n",
       "      <td>58328</td>\n",
       "      <td>Electric</td>\n",
       "      <td>0.0</td>\n",
       "      <td>NaN</td>\n",
       "      <td>Variator</td>\n",
       "      <td>Front</td>\n",
       "      <td>2/3</td>\n",
       "      <td>10.00000</td>\n",
       "      <td>Left</td>\n",
       "      <td>Orange</td>\n",
       "      <td>White</td>\n",
       "      <td>Fabric</td>\n",
       "      <td>No</td>\n",
       "      <td>No</td>\n",
       "    </tr>\n",
       "  </tbody>\n",
       "</table>\n",
       "</div>"
      ],
      "text/plain": [
       "                    Location  Price Manufacturer   Model  Year   Category  \\\n",
       "Id                                                                          \n",
       "77714573  Rustavi Car Market  35257          BMW      I3  2014  Hetchback   \n",
       "79780065  Rustavi Car Market  39959       Nissan    Leaf  2018  Hetchback   \n",
       "82848299             Rustavi  14364   Mitsubishi  i-Miev  2013  Hetchback   \n",
       "82839947             Rustavi  40481       Nissan    Leaf  2017      Sedan   \n",
       "77715793  Rustavi Car Market  39436          BMW      I3  2016  Hetchback   \n",
       "77715793  Rustavi Car Market  39420          BMW      I3  2016  Hetchback   \n",
       "77777357  Rustavi Car Market  24288          BMW      I3  2014  Hetchback   \n",
       "\n",
       "          Mileage Fuel type Engine Volume  Cylinders Gear box type  \\\n",
       "Id                                                                   \n",
       "77714573    22257  Electric          0.0         NaN      Variator   \n",
       "79780065    40847  Electric          0.0         NaN     Automatic   \n",
       "82848299   120000  Electric          0.0         NaN      Variator   \n",
       "82839947   120000  Electric          0.0         NaN      Variator   \n",
       "77715793    56536  Electric          0.0         NaN      Variator   \n",
       "77715793    56536  Electric          0.0         NaN      Variator   \n",
       "77777357    58328  Electric          0.0         NaN      Variator   \n",
       "\n",
       "         Drive wheels Doors  Airbags  Wheel   Color Interior color  \\\n",
       "Id                                                                   \n",
       "77714573        Front   2/3 10.00000   Left   White          Brown   \n",
       "79780065        Front   4/5  8.00000   Left   Black          Black   \n",
       "82848299         Rear   4/5 12.00000  Right    Grey          Black   \n",
       "82839947        Front   4/5 12.00000   Left    Grey          Black   \n",
       "77715793        Front   2/3 10.00000   Left   Black           Grey   \n",
       "77715793        Front   2/3 10.00000   Left   Black           Grey   \n",
       "77777357        Front   2/3 10.00000   Left  Orange          White   \n",
       "\n",
       "         Interior material Exchange Technical inspection  \n",
       "Id                                                        \n",
       "77714573           Leather       No                   No  \n",
       "79780065           Leather       No                   No  \n",
       "82848299            Fabric       No                  Yes  \n",
       "82839947            Fabric       No                  Yes  \n",
       "77715793            Fabric       No                   No  \n",
       "77715793            Fabric       No                   No  \n",
       "77777357            Fabric       No                   No  "
      ]
     },
     "execution_count": 176,
     "metadata": {},
     "output_type": "execute_result"
    }
   ],
   "source": [
    "df.loc[df.Cylinders.isna()].iloc[:, :20]"
   ]
  },
  {
   "cell_type": "code",
   "execution_count": 177,
   "id": "c0c3203e",
   "metadata": {},
   "outputs": [],
   "source": [
    "df.Cylinders.fillna(0, inplace=True)"
   ]
  },
  {
   "cell_type": "markdown",
   "id": "b67c4165",
   "metadata": {},
   "source": [
    "### Drive wheels"
   ]
  },
  {
   "cell_type": "code",
   "execution_count": 178,
   "id": "4cd31bb5",
   "metadata": {},
   "outputs": [
    {
     "data": {
      "text/html": [
       "<div>\n",
       "<style scoped>\n",
       "    .dataframe tbody tr th:only-of-type {\n",
       "        vertical-align: middle;\n",
       "    }\n",
       "\n",
       "    .dataframe tbody tr th {\n",
       "        vertical-align: top;\n",
       "    }\n",
       "\n",
       "    .dataframe thead th {\n",
       "        text-align: right;\n",
       "    }\n",
       "</style>\n",
       "<table border=\"1\" class=\"dataframe\">\n",
       "  <thead>\n",
       "    <tr style=\"text-align: right;\">\n",
       "      <th></th>\n",
       "      <th>Location</th>\n",
       "      <th>Price</th>\n",
       "      <th>Manufacturer</th>\n",
       "      <th>Model</th>\n",
       "      <th>Year</th>\n",
       "      <th>Category</th>\n",
       "      <th>Mileage</th>\n",
       "      <th>Fuel type</th>\n",
       "      <th>Engine Volume</th>\n",
       "      <th>Cylinders</th>\n",
       "      <th>Gear box type</th>\n",
       "      <th>Drive wheels</th>\n",
       "      <th>Doors</th>\n",
       "      <th>Airbags</th>\n",
       "      <th>Wheel</th>\n",
       "      <th>Color</th>\n",
       "      <th>Interior color</th>\n",
       "      <th>Interior material</th>\n",
       "      <th>Exchange</th>\n",
       "      <th>Technical inspection</th>\n",
       "    </tr>\n",
       "    <tr>\n",
       "      <th>Id</th>\n",
       "      <th></th>\n",
       "      <th></th>\n",
       "      <th></th>\n",
       "      <th></th>\n",
       "      <th></th>\n",
       "      <th></th>\n",
       "      <th></th>\n",
       "      <th></th>\n",
       "      <th></th>\n",
       "      <th></th>\n",
       "      <th></th>\n",
       "      <th></th>\n",
       "      <th></th>\n",
       "      <th></th>\n",
       "      <th></th>\n",
       "      <th></th>\n",
       "      <th></th>\n",
       "      <th></th>\n",
       "      <th></th>\n",
       "      <th></th>\n",
       "    </tr>\n",
       "  </thead>\n",
       "  <tbody>\n",
       "    <tr>\n",
       "      <th>94244118</th>\n",
       "      <td>Caucasus Auto Market</td>\n",
       "      <td>57457</td>\n",
       "      <td>Toyota</td>\n",
       "      <td>RAV 4</td>\n",
       "      <td>2020</td>\n",
       "      <td>Jeep</td>\n",
       "      <td>15000</td>\n",
       "      <td>Petrol</td>\n",
       "      <td>2.5</td>\n",
       "      <td>4.00000</td>\n",
       "      <td>Automatic</td>\n",
       "      <td>NaN</td>\n",
       "      <td>4/5</td>\n",
       "      <td>8.00000</td>\n",
       "      <td>Left</td>\n",
       "      <td>Black</td>\n",
       "      <td>Black</td>\n",
       "      <td>Fabric</td>\n",
       "      <td>No</td>\n",
       "      <td>Yes</td>\n",
       "    </tr>\n",
       "    <tr>\n",
       "      <th>95215702</th>\n",
       "      <td>Poti</td>\n",
       "      <td>195878</td>\n",
       "      <td>Mercedes-Benz</td>\n",
       "      <td>AMG GT</td>\n",
       "      <td>2019</td>\n",
       "      <td>Coupe</td>\n",
       "      <td>0</td>\n",
       "      <td>Petrol</td>\n",
       "      <td>3.0</td>\n",
       "      <td>6.00000</td>\n",
       "      <td>Automatic</td>\n",
       "      <td>NaN</td>\n",
       "      <td>NaN</td>\n",
       "      <td>12.00000</td>\n",
       "      <td>Left</td>\n",
       "      <td>Silver</td>\n",
       "      <td>Red</td>\n",
       "      <td>Leather</td>\n",
       "      <td>No</td>\n",
       "      <td>Yes</td>\n",
       "    </tr>\n",
       "    <tr>\n",
       "      <th>94735222</th>\n",
       "      <td>Caucasus Auto Market</td>\n",
       "      <td>57499</td>\n",
       "      <td>Mazda</td>\n",
       "      <td>CX-5</td>\n",
       "      <td>2022</td>\n",
       "      <td>Jeep</td>\n",
       "      <td>581</td>\n",
       "      <td>Petrol</td>\n",
       "      <td>2.4</td>\n",
       "      <td>4.00000</td>\n",
       "      <td>Automatic</td>\n",
       "      <td>NaN</td>\n",
       "      <td>4/5</td>\n",
       "      <td>8.00000</td>\n",
       "      <td>Left</td>\n",
       "      <td>White</td>\n",
       "      <td>Black</td>\n",
       "      <td>Fabric</td>\n",
       "      <td>No</td>\n",
       "      <td>Yes</td>\n",
       "    </tr>\n",
       "    <tr>\n",
       "      <th>92079822</th>\n",
       "      <td>Caucasus Auto Market</td>\n",
       "      <td>44169</td>\n",
       "      <td>Subaru</td>\n",
       "      <td>Outback</td>\n",
       "      <td>2019</td>\n",
       "      <td>Jeep</td>\n",
       "      <td>74000</td>\n",
       "      <td>Petrol</td>\n",
       "      <td>2.5</td>\n",
       "      <td>4.00000</td>\n",
       "      <td>Automatic</td>\n",
       "      <td>NaN</td>\n",
       "      <td>4/5</td>\n",
       "      <td>8.00000</td>\n",
       "      <td>Left</td>\n",
       "      <td>Black</td>\n",
       "      <td>Black</td>\n",
       "      <td>Leather</td>\n",
       "      <td>No</td>\n",
       "      <td>Yes</td>\n",
       "    </tr>\n",
       "    <tr>\n",
       "      <th>92077066</th>\n",
       "      <td>Caucasus Auto Market</td>\n",
       "      <td>44431</td>\n",
       "      <td>Kia</td>\n",
       "      <td>Optima</td>\n",
       "      <td>2020</td>\n",
       "      <td>Sedan</td>\n",
       "      <td>86000</td>\n",
       "      <td>Petrol</td>\n",
       "      <td>2.0 turbo</td>\n",
       "      <td>4.00000</td>\n",
       "      <td>Automatic</td>\n",
       "      <td>NaN</td>\n",
       "      <td>4/5</td>\n",
       "      <td>8.00000</td>\n",
       "      <td>Left</td>\n",
       "      <td>Black</td>\n",
       "      <td>Black</td>\n",
       "      <td>Leather</td>\n",
       "      <td>No</td>\n",
       "      <td>Yes</td>\n",
       "    </tr>\n",
       "    <tr>\n",
       "      <th>94945954</th>\n",
       "      <td>Caucasus Auto Market</td>\n",
       "      <td>39204</td>\n",
       "      <td>Subaru</td>\n",
       "      <td>Crosstrek</td>\n",
       "      <td>2019</td>\n",
       "      <td>Jeep</td>\n",
       "      <td>36000</td>\n",
       "      <td>Petrol</td>\n",
       "      <td>2.0</td>\n",
       "      <td>4.00000</td>\n",
       "      <td>Automatic</td>\n",
       "      <td>NaN</td>\n",
       "      <td>4/5</td>\n",
       "      <td>8.00000</td>\n",
       "      <td>Left</td>\n",
       "      <td>Grey</td>\n",
       "      <td>Black</td>\n",
       "      <td>Leather</td>\n",
       "      <td>No</td>\n",
       "      <td>Yes</td>\n",
       "    </tr>\n",
       "  </tbody>\n",
       "</table>\n",
       "</div>"
      ],
      "text/plain": [
       "                      Location   Price   Manufacturer      Model  Year  \\\n",
       "Id                                                                       \n",
       "94244118  Caucasus Auto Market   57457         Toyota      RAV 4  2020   \n",
       "95215702                  Poti  195878  Mercedes-Benz     AMG GT  2019   \n",
       "94735222  Caucasus Auto Market   57499          Mazda       CX-5  2022   \n",
       "92079822  Caucasus Auto Market   44169         Subaru    Outback  2019   \n",
       "92077066  Caucasus Auto Market   44431            Kia     Optima  2020   \n",
       "94945954  Caucasus Auto Market   39204         Subaru  Crosstrek  2019   \n",
       "\n",
       "         Category  Mileage Fuel type Engine Volume  Cylinders Gear box type  \\\n",
       "Id                                                                            \n",
       "94244118     Jeep    15000    Petrol          2.5     4.00000     Automatic   \n",
       "95215702    Coupe        0    Petrol          3.0     6.00000     Automatic   \n",
       "94735222     Jeep      581    Petrol          2.4     4.00000     Automatic   \n",
       "92079822     Jeep    74000    Petrol          2.5     4.00000     Automatic   \n",
       "92077066    Sedan    86000    Petrol     2.0 turbo    4.00000     Automatic   \n",
       "94945954     Jeep    36000    Petrol          2.0     4.00000     Automatic   \n",
       "\n",
       "         Drive wheels Doors  Airbags Wheel   Color Interior color  \\\n",
       "Id                                                                  \n",
       "94244118          NaN   4/5  8.00000  Left   Black          Black   \n",
       "95215702          NaN   NaN 12.00000  Left  Silver            Red   \n",
       "94735222          NaN   4/5  8.00000  Left   White          Black   \n",
       "92079822          NaN   4/5  8.00000  Left   Black          Black   \n",
       "92077066          NaN   4/5  8.00000  Left   Black          Black   \n",
       "94945954          NaN   4/5  8.00000  Left    Grey          Black   \n",
       "\n",
       "         Interior material Exchange Technical inspection  \n",
       "Id                                                        \n",
       "94244118            Fabric       No                  Yes  \n",
       "95215702           Leather       No                  Yes  \n",
       "94735222            Fabric       No                  Yes  \n",
       "92079822           Leather       No                  Yes  \n",
       "92077066           Leather       No                  Yes  \n",
       "94945954           Leather       No                  Yes  "
      ]
     },
     "execution_count": 178,
     "metadata": {},
     "output_type": "execute_result"
    }
   ],
   "source": [
    "df.loc[df['Drive wheels'].isna()].iloc[:, :20]"
   ]
  },
  {
   "cell_type": "code",
   "execution_count": 179,
   "id": "ea6c85bc",
   "metadata": {},
   "outputs": [],
   "source": [
    "df = df.dropna(subset=['Drive wheels'])"
   ]
  },
  {
   "cell_type": "markdown",
   "id": "f9df1dec",
   "metadata": {},
   "source": [
    "### Doors"
   ]
  },
  {
   "cell_type": "code",
   "execution_count": 180,
   "id": "543116b0",
   "metadata": {},
   "outputs": [
    {
     "data": {
      "text/html": [
       "<div>\n",
       "<style scoped>\n",
       "    .dataframe tbody tr th:only-of-type {\n",
       "        vertical-align: middle;\n",
       "    }\n",
       "\n",
       "    .dataframe tbody tr th {\n",
       "        vertical-align: top;\n",
       "    }\n",
       "\n",
       "    .dataframe thead th {\n",
       "        text-align: right;\n",
       "    }\n",
       "</style>\n",
       "<table border=\"1\" class=\"dataframe\">\n",
       "  <thead>\n",
       "    <tr style=\"text-align: right;\">\n",
       "      <th></th>\n",
       "      <th>Location</th>\n",
       "      <th>Price</th>\n",
       "      <th>Manufacturer</th>\n",
       "      <th>Model</th>\n",
       "      <th>Year</th>\n",
       "      <th>Category</th>\n",
       "      <th>Mileage</th>\n",
       "      <th>Fuel type</th>\n",
       "      <th>Engine Volume</th>\n",
       "      <th>Cylinders</th>\n",
       "      <th>Gear box type</th>\n",
       "      <th>Drive wheels</th>\n",
       "      <th>Doors</th>\n",
       "      <th>Airbags</th>\n",
       "      <th>Wheel</th>\n",
       "      <th>Color</th>\n",
       "      <th>Interior color</th>\n",
       "      <th>Interior material</th>\n",
       "      <th>Exchange</th>\n",
       "      <th>Technical inspection</th>\n",
       "    </tr>\n",
       "    <tr>\n",
       "      <th>Id</th>\n",
       "      <th></th>\n",
       "      <th></th>\n",
       "      <th></th>\n",
       "      <th></th>\n",
       "      <th></th>\n",
       "      <th></th>\n",
       "      <th></th>\n",
       "      <th></th>\n",
       "      <th></th>\n",
       "      <th></th>\n",
       "      <th></th>\n",
       "      <th></th>\n",
       "      <th></th>\n",
       "      <th></th>\n",
       "      <th></th>\n",
       "      <th></th>\n",
       "      <th></th>\n",
       "      <th></th>\n",
       "      <th></th>\n",
       "      <th></th>\n",
       "    </tr>\n",
       "  </thead>\n",
       "  <tbody>\n",
       "    <tr>\n",
       "      <th>94796922</th>\n",
       "      <td>Poti</td>\n",
       "      <td>20893</td>\n",
       "      <td>Volkswagen</td>\n",
       "      <td>Jetta</td>\n",
       "      <td>2019</td>\n",
       "      <td>Sedan</td>\n",
       "      <td>140835</td>\n",
       "      <td>Petrol</td>\n",
       "      <td>1.4 turbo</td>\n",
       "      <td>4.00000</td>\n",
       "      <td>Automatic</td>\n",
       "      <td>Front</td>\n",
       "      <td>NaN</td>\n",
       "      <td>12.00000</td>\n",
       "      <td>Left</td>\n",
       "      <td>Blue</td>\n",
       "      <td>White</td>\n",
       "      <td>Fabric</td>\n",
       "      <td>No</td>\n",
       "      <td>Yes</td>\n",
       "    </tr>\n",
       "    <tr>\n",
       "      <th>94796922</th>\n",
       "      <td>Poti</td>\n",
       "      <td>20884</td>\n",
       "      <td>Volkswagen</td>\n",
       "      <td>Jetta</td>\n",
       "      <td>2019</td>\n",
       "      <td>Sedan</td>\n",
       "      <td>140835</td>\n",
       "      <td>Petrol</td>\n",
       "      <td>1.4 turbo</td>\n",
       "      <td>4.00000</td>\n",
       "      <td>Automatic</td>\n",
       "      <td>Front</td>\n",
       "      <td>NaN</td>\n",
       "      <td>12.00000</td>\n",
       "      <td>Left</td>\n",
       "      <td>Blue</td>\n",
       "      <td>White</td>\n",
       "      <td>Fabric</td>\n",
       "      <td>No</td>\n",
       "      <td>Yes</td>\n",
       "    </tr>\n",
       "  </tbody>\n",
       "</table>\n",
       "</div>"
      ],
      "text/plain": [
       "         Location  Price Manufacturer  Model  Year Category  Mileage  \\\n",
       "Id                                                                     \n",
       "94796922     Poti  20893   Volkswagen  Jetta  2019    Sedan   140835   \n",
       "94796922     Poti  20884   Volkswagen  Jetta  2019    Sedan   140835   \n",
       "\n",
       "         Fuel type Engine Volume  Cylinders Gear box type Drive wheels Doors  \\\n",
       "Id                                                                             \n",
       "94796922    Petrol     1.4 turbo    4.00000     Automatic        Front   NaN   \n",
       "94796922    Petrol     1.4 turbo    4.00000     Automatic        Front   NaN   \n",
       "\n",
       "          Airbags Wheel Color Interior color Interior material Exchange  \\\n",
       "Id                                                                        \n",
       "94796922 12.00000  Left  Blue          White            Fabric       No   \n",
       "94796922 12.00000  Left  Blue          White            Fabric       No   \n",
       "\n",
       "         Technical inspection  \n",
       "Id                             \n",
       "94796922                  Yes  \n",
       "94796922                  Yes  "
      ]
     },
     "execution_count": 180,
     "metadata": {},
     "output_type": "execute_result"
    }
   ],
   "source": [
    "df.loc[df.Doors.isna()].iloc[:, :20]"
   ]
  },
  {
   "cell_type": "code",
   "execution_count": 181,
   "id": "9ac56e0d",
   "metadata": {},
   "outputs": [],
   "source": [
    "df.Doors.fillna('4/5', inplace=True)"
   ]
  },
  {
   "cell_type": "markdown",
   "id": "bb3d14e3",
   "metadata": {},
   "source": [
    "### Airbags"
   ]
  },
  {
   "cell_type": "code",
   "execution_count": 182,
   "id": "030dcc19",
   "metadata": {},
   "outputs": [],
   "source": [
    "df.Airbags.fillna(0, inplace=True)"
   ]
  },
  {
   "cell_type": "markdown",
   "id": "4ee048ef",
   "metadata": {},
   "source": [
    "### Color"
   ]
  },
  {
   "cell_type": "code",
   "execution_count": 183,
   "id": "6203c9ff",
   "metadata": {},
   "outputs": [
    {
     "data": {
      "text/html": [
       "<div>\n",
       "<style scoped>\n",
       "    .dataframe tbody tr th:only-of-type {\n",
       "        vertical-align: middle;\n",
       "    }\n",
       "\n",
       "    .dataframe tbody tr th {\n",
       "        vertical-align: top;\n",
       "    }\n",
       "\n",
       "    .dataframe thead th {\n",
       "        text-align: right;\n",
       "    }\n",
       "</style>\n",
       "<table border=\"1\" class=\"dataframe\">\n",
       "  <thead>\n",
       "    <tr style=\"text-align: right;\">\n",
       "      <th></th>\n",
       "      <th>Location</th>\n",
       "      <th>Price</th>\n",
       "      <th>Manufacturer</th>\n",
       "      <th>Model</th>\n",
       "      <th>Year</th>\n",
       "      <th>Category</th>\n",
       "      <th>Mileage</th>\n",
       "      <th>Fuel type</th>\n",
       "      <th>Engine Volume</th>\n",
       "      <th>Cylinders</th>\n",
       "      <th>Gear box type</th>\n",
       "      <th>Drive wheels</th>\n",
       "      <th>Doors</th>\n",
       "      <th>Airbags</th>\n",
       "      <th>Wheel</th>\n",
       "      <th>Color</th>\n",
       "      <th>Interior color</th>\n",
       "      <th>Interior material</th>\n",
       "      <th>Exchange</th>\n",
       "      <th>Technical inspection</th>\n",
       "    </tr>\n",
       "    <tr>\n",
       "      <th>Id</th>\n",
       "      <th></th>\n",
       "      <th></th>\n",
       "      <th></th>\n",
       "      <th></th>\n",
       "      <th></th>\n",
       "      <th></th>\n",
       "      <th></th>\n",
       "      <th></th>\n",
       "      <th></th>\n",
       "      <th></th>\n",
       "      <th></th>\n",
       "      <th></th>\n",
       "      <th></th>\n",
       "      <th></th>\n",
       "      <th></th>\n",
       "      <th></th>\n",
       "      <th></th>\n",
       "      <th></th>\n",
       "      <th></th>\n",
       "      <th></th>\n",
       "    </tr>\n",
       "  </thead>\n",
       "  <tbody>\n",
       "    <tr>\n",
       "      <th>95497026</th>\n",
       "      <td>Tbilisi</td>\n",
       "      <td>10055</td>\n",
       "      <td>Nissan</td>\n",
       "      <td>Tiida</td>\n",
       "      <td>2005</td>\n",
       "      <td>Hetchback</td>\n",
       "      <td>174000</td>\n",
       "      <td>Petrol</td>\n",
       "      <td>1.5</td>\n",
       "      <td>4.00000</td>\n",
       "      <td>Variator</td>\n",
       "      <td>Front</td>\n",
       "      <td>4/5</td>\n",
       "      <td>6.00000</td>\n",
       "      <td>Right</td>\n",
       "      <td>NaN</td>\n",
       "      <td>Black</td>\n",
       "      <td>Combined</td>\n",
       "      <td>No</td>\n",
       "      <td>Yes</td>\n",
       "    </tr>\n",
       "    <tr>\n",
       "      <th>95431414</th>\n",
       "      <td>Tbilisi</td>\n",
       "      <td>10055</td>\n",
       "      <td>Honda</td>\n",
       "      <td>FIT</td>\n",
       "      <td>2006</td>\n",
       "      <td>Hetchback</td>\n",
       "      <td>170000</td>\n",
       "      <td>Petrol</td>\n",
       "      <td>1.3</td>\n",
       "      <td>4.00000</td>\n",
       "      <td>Variator</td>\n",
       "      <td>Front</td>\n",
       "      <td>4/5</td>\n",
       "      <td>6.00000</td>\n",
       "      <td>Right</td>\n",
       "      <td>NaN</td>\n",
       "      <td>Black</td>\n",
       "      <td>Combined</td>\n",
       "      <td>No</td>\n",
       "      <td>Yes</td>\n",
       "    </tr>\n",
       "    <tr>\n",
       "      <th>87475647</th>\n",
       "      <td>Tbilisi</td>\n",
       "      <td>8624</td>\n",
       "      <td>Mazda</td>\n",
       "      <td>CX-7</td>\n",
       "      <td>2008</td>\n",
       "      <td>Jeep</td>\n",
       "      <td>146533</td>\n",
       "      <td>Petrol</td>\n",
       "      <td>2.3</td>\n",
       "      <td>5.00000</td>\n",
       "      <td>Automatic</td>\n",
       "      <td>Front</td>\n",
       "      <td>4/5</td>\n",
       "      <td>0.00000</td>\n",
       "      <td>Left</td>\n",
       "      <td>NaN</td>\n",
       "      <td>Grey</td>\n",
       "      <td>Fabric</td>\n",
       "      <td>No</td>\n",
       "      <td>Yes</td>\n",
       "    </tr>\n",
       "  </tbody>\n",
       "</table>\n",
       "</div>"
      ],
      "text/plain": [
       "         Location  Price Manufacturer  Model  Year   Category  Mileage  \\\n",
       "Id                                                                       \n",
       "95497026  Tbilisi  10055       Nissan  Tiida  2005  Hetchback   174000   \n",
       "95431414  Tbilisi  10055        Honda    FIT  2006  Hetchback   170000   \n",
       "87475647  Tbilisi   8624        Mazda   CX-7  2008       Jeep   146533   \n",
       "\n",
       "         Fuel type Engine Volume  Cylinders Gear box type Drive wheels Doors  \\\n",
       "Id                                                                             \n",
       "95497026    Petrol          1.5     4.00000      Variator        Front   4/5   \n",
       "95431414    Petrol          1.3     4.00000      Variator        Front   4/5   \n",
       "87475647    Petrol          2.3     5.00000     Automatic        Front   4/5   \n",
       "\n",
       "          Airbags  Wheel Color Interior color Interior material Exchange  \\\n",
       "Id                                                                         \n",
       "95497026  6.00000  Right   NaN          Black          Combined       No   \n",
       "95431414  6.00000  Right   NaN          Black          Combined       No   \n",
       "87475647  0.00000   Left   NaN           Grey            Fabric       No   \n",
       "\n",
       "         Technical inspection  \n",
       "Id                             \n",
       "95497026                  Yes  \n",
       "95431414                  Yes  \n",
       "87475647                  Yes  "
      ]
     },
     "execution_count": 183,
     "metadata": {},
     "output_type": "execute_result"
    }
   ],
   "source": [
    "df.loc[df.Color.isna()].iloc[:, :20]"
   ]
  },
  {
   "cell_type": "code",
   "execution_count": 184,
   "id": "a6359e7d",
   "metadata": {},
   "outputs": [],
   "source": [
    "df.loc[95497026, 'Color'] = 'Grey'\n",
    "df.loc[95431414, 'Color'] = 'Grey'\n",
    "df.loc[87475647, 'Color'] = 'Black'"
   ]
  },
  {
   "cell_type": "markdown",
   "id": "d8c5c24f",
   "metadata": {},
   "source": [
    "### Interior color"
   ]
  },
  {
   "cell_type": "code",
   "execution_count": 185,
   "id": "54a2396b",
   "metadata": {},
   "outputs": [
    {
     "data": {
      "text/html": [
       "<div>\n",
       "<style scoped>\n",
       "    .dataframe tbody tr th:only-of-type {\n",
       "        vertical-align: middle;\n",
       "    }\n",
       "\n",
       "    .dataframe tbody tr th {\n",
       "        vertical-align: top;\n",
       "    }\n",
       "\n",
       "    .dataframe thead th {\n",
       "        text-align: right;\n",
       "    }\n",
       "</style>\n",
       "<table border=\"1\" class=\"dataframe\">\n",
       "  <thead>\n",
       "    <tr style=\"text-align: right;\">\n",
       "      <th></th>\n",
       "      <th>Location</th>\n",
       "      <th>Price</th>\n",
       "      <th>Manufacturer</th>\n",
       "      <th>Model</th>\n",
       "      <th>Year</th>\n",
       "      <th>Category</th>\n",
       "      <th>Mileage</th>\n",
       "      <th>Fuel type</th>\n",
       "      <th>Engine Volume</th>\n",
       "      <th>Cylinders</th>\n",
       "      <th>Gear box type</th>\n",
       "      <th>Drive wheels</th>\n",
       "      <th>Doors</th>\n",
       "      <th>Airbags</th>\n",
       "      <th>Wheel</th>\n",
       "      <th>Color</th>\n",
       "      <th>Interior color</th>\n",
       "      <th>Interior material</th>\n",
       "      <th>Exchange</th>\n",
       "      <th>Technical inspection</th>\n",
       "    </tr>\n",
       "    <tr>\n",
       "      <th>Id</th>\n",
       "      <th></th>\n",
       "      <th></th>\n",
       "      <th></th>\n",
       "      <th></th>\n",
       "      <th></th>\n",
       "      <th></th>\n",
       "      <th></th>\n",
       "      <th></th>\n",
       "      <th></th>\n",
       "      <th></th>\n",
       "      <th></th>\n",
       "      <th></th>\n",
       "      <th></th>\n",
       "      <th></th>\n",
       "      <th></th>\n",
       "      <th></th>\n",
       "      <th></th>\n",
       "      <th></th>\n",
       "      <th></th>\n",
       "      <th></th>\n",
       "    </tr>\n",
       "  </thead>\n",
       "  <tbody>\n",
       "    <tr>\n",
       "      <th>91729922</th>\n",
       "      <td>Caucasus Auto Market</td>\n",
       "      <td>30056</td>\n",
       "      <td>Mazda</td>\n",
       "      <td>Mazda 3</td>\n",
       "      <td>2018</td>\n",
       "      <td>Sedan</td>\n",
       "      <td>29000</td>\n",
       "      <td>Petrol</td>\n",
       "      <td>2.5</td>\n",
       "      <td>4.00000</td>\n",
       "      <td>Automatic</td>\n",
       "      <td>Front</td>\n",
       "      <td>4/5</td>\n",
       "      <td>8.00000</td>\n",
       "      <td>Left</td>\n",
       "      <td>Blue</td>\n",
       "      <td>NaN</td>\n",
       "      <td>NaN</td>\n",
       "      <td>No</td>\n",
       "      <td>Yes</td>\n",
       "    </tr>\n",
       "  </tbody>\n",
       "</table>\n",
       "</div>"
      ],
      "text/plain": [
       "                      Location  Price Manufacturer    Model  Year Category  \\\n",
       "Id                                                                           \n",
       "91729922  Caucasus Auto Market  30056        Mazda  Mazda 3  2018    Sedan   \n",
       "\n",
       "          Mileage Fuel type Engine Volume  Cylinders Gear box type  \\\n",
       "Id                                                                   \n",
       "91729922    29000    Petrol          2.5     4.00000     Automatic   \n",
       "\n",
       "         Drive wheels Doors  Airbags Wheel Color Interior color  \\\n",
       "Id                                                                \n",
       "91729922        Front   4/5  8.00000  Left  Blue            NaN   \n",
       "\n",
       "         Interior material Exchange Technical inspection  \n",
       "Id                                                        \n",
       "91729922               NaN       No                  Yes  "
      ]
     },
     "execution_count": 185,
     "metadata": {},
     "output_type": "execute_result"
    }
   ],
   "source": [
    "df.loc[df['Interior color'].isna()].iloc[:, :20]"
   ]
  },
  {
   "cell_type": "code",
   "execution_count": 186,
   "id": "5dbb6ddb",
   "metadata": {},
   "outputs": [],
   "source": [
    "df.loc[91729922, 'Interior color'] = 'Black'\n",
    "df.loc[91729922, 'Interior material'] = 'Leather'"
   ]
  },
  {
   "cell_type": "markdown",
   "id": "e1cfafc8",
   "metadata": {},
   "source": [
    "---"
   ]
  },
  {
   "cell_type": "code",
   "execution_count": 187,
   "id": "5e75913d",
   "metadata": {},
   "outputs": [
    {
     "name": "stdout",
     "output_type": "stream",
     "text": [
      "<class 'pandas.core.frame.DataFrame'>\n",
      "Int64Index: 17029 entries, 93284442 to 95699122\n",
      "Data columns (total 20 columns):\n",
      " #   Column                       Non-Null Count  Dtype \n",
      "---  ------                       --------------  ----- \n",
      " 0   Catalyst                     15162 non-null  object\n",
      " 1   Steering Hydraulics          17029 non-null  object\n",
      " 2   On-Board Computer            17029 non-null  object\n",
      " 3   Air Conditioning             17029 non-null  object\n",
      " 4   Parking Control              17029 non-null  object\n",
      " 5   Rear View Camera             17029 non-null  object\n",
      " 6   Electric Side Mirros         17029 non-null  object\n",
      " 7   Climate Control              17029 non-null  object\n",
      " 8   Cruise Control               17029 non-null  object\n",
      " 9   Start-Stop System            17029 non-null  object\n",
      " 10  Sunroof                      17029 non-null  object\n",
      " 11  Heated Seats                 17029 non-null  object\n",
      " 12  Memory Seats                 17029 non-null  object\n",
      " 13  ABS                          17029 non-null  object\n",
      " 14  ESP                          17029 non-null  object\n",
      " 15  Central Locking              17029 non-null  object\n",
      " 16  Alarm System                 17029 non-null  object\n",
      " 17  Fog Lamp                     17029 non-null  object\n",
      " 18  Central Screen (Navigation)  17029 non-null  object\n",
      " 19  AUX                          17029 non-null  object\n",
      "dtypes: object(20)\n",
      "memory usage: 3.2+ MB\n"
     ]
    }
   ],
   "source": [
    "df.iloc[:, 20:40].info()"
   ]
  },
  {
   "cell_type": "markdown",
   "id": "34b02c29",
   "metadata": {},
   "source": [
    "### Catalyst"
   ]
  },
  {
   "cell_type": "code",
   "execution_count": 188,
   "id": "50c927c0",
   "metadata": {},
   "outputs": [],
   "source": [
    "df.Catalyst.fillna('No', inplace=True)"
   ]
  },
  {
   "cell_type": "markdown",
   "id": "9e3cb971",
   "metadata": {},
   "source": [
    "---"
   ]
  },
  {
   "cell_type": "code",
   "execution_count": 189,
   "id": "ddb12e2e",
   "metadata": {},
   "outputs": [
    {
     "name": "stdout",
     "output_type": "stream",
     "text": [
      "<class 'pandas.core.frame.DataFrame'>\n",
      "Int64Index: 17029 entries, 93284442 to 95699122\n",
      "Data columns (total 18 columns):\n",
      " #   Column                        Non-Null Count  Dtype \n",
      "---  ------                        --------------  ----- \n",
      " 0   Bluetooth                     17029 non-null  object\n",
      " 1   Multifunction Steering Wheel  17029 non-null  object\n",
      " 2   Rims                          17029 non-null  object\n",
      " 3   Spare Tyre                    17029 non-null  object\n",
      " 4   Didabled Accessible           17029 non-null  object\n",
      " 5   Undamaged                     17029 non-null  object\n",
      " 6   Clean History                 17029 non-null  object\n",
      " 7   Newly Imported                17029 non-null  object\n",
      " 8   Low Consumption               17029 non-null  object\n",
      " 9   Limited edition               17029 non-null  object\n",
      " 10  Unpainted                     17029 non-null  object\n",
      " 11  One owner                     17029 non-null  object\n",
      " 12  Urgently                      17029 non-null  object\n",
      " 13  European                      17029 non-null  object\n",
      " 14  Perfect condition             17029 non-null  object\n",
      " 15  For family                    17029 non-null  object\n",
      " 16  Pawnshop                      17029 non-null  object\n",
      " 17  Third row                     17029 non-null  object\n",
      "dtypes: object(18)\n",
      "memory usage: 3.0+ MB\n"
     ]
    }
   ],
   "source": [
    "df.iloc[:, 40:].info()"
   ]
  },
  {
   "cell_type": "markdown",
   "id": "2b6ad56e",
   "metadata": {},
   "source": [
    "## Clean Price"
   ]
  },
  {
   "cell_type": "code",
   "execution_count": 190,
   "id": "59783765",
   "metadata": {},
   "outputs": [],
   "source": [
    "# Convert to Dollar values and round to nearest hundreds \n",
    "df.Price = round(df.Price/2.62515625, -2).astype(int)"
   ]
  },
  {
   "cell_type": "code",
   "execution_count": 191,
   "id": "5a3d660e",
   "metadata": {},
   "outputs": [],
   "source": [
    "# drop prices equal to 0\n",
    "df = df[df.Price!=0]"
   ]
  },
  {
   "cell_type": "code",
   "execution_count": 192,
   "id": "ac147c94",
   "metadata": {},
   "outputs": [
    {
     "data": {
      "text/plain": [
       "Id\n",
       "93284442    71600\n",
       "94416194    14500\n",
       "95335570    30800\n",
       "95470114     8400\n",
       "95216426    27400\n",
       "            ...  \n",
       "95698770    26400\n",
       "92268310    23800\n",
       "95695366    10400\n",
       "95698710    10400\n",
       "95699122     6700\n",
       "Name: Price, Length: 16668, dtype: int64"
      ]
     },
     "execution_count": 192,
     "metadata": {},
     "output_type": "execute_result"
    }
   ],
   "source": [
    "df.Price"
   ]
  },
  {
   "cell_type": "markdown",
   "id": "e1a13db7",
   "metadata": {},
   "source": [
    "## Drop Models with only one occurrance"
   ]
  },
  {
   "cell_type": "code",
   "execution_count": 193,
   "id": "5b2c3862",
   "metadata": {},
   "outputs": [
    {
     "data": {
      "text/plain": [
       "Camry       692\n",
       "FIT         551\n",
       "Forester    551\n",
       "CX-5        465\n",
       "Optima      448\n",
       "           ... \n",
       "C 280         1\n",
       "Maxima        1\n",
       "E 190         1\n",
       "CLK 350       1\n",
       "Scirocco      1\n",
       "Name: Model, Length: 585, dtype: int64"
      ]
     },
     "execution_count": 193,
     "metadata": {},
     "output_type": "execute_result"
    }
   ],
   "source": [
    "df.Model.value_counts()"
   ]
  },
  {
   "cell_type": "code",
   "execution_count": 194,
   "id": "f94ab8a9",
   "metadata": {},
   "outputs": [],
   "source": [
    "remove_from_model = df.Model.value_counts()[df.Model.value_counts()<2].index.tolist()\n",
    "df = df.loc[df.Model.isin(remove_from_model)==False]"
   ]
  },
  {
   "cell_type": "code",
   "execution_count": 196,
   "id": "4e49d64e",
   "metadata": {},
   "outputs": [],
   "source": [
    "import pandas as pd"
   ]
  },
  {
   "cell_type": "code",
   "execution_count": 197,
   "id": "816d46b8",
   "metadata": {},
   "outputs": [],
   "source": [
    "df = pd.read_csv('Data/cars-cleaned.csv', index_col='Id')"
   ]
  },
  {
   "cell_type": "code",
   "execution_count": 201,
   "id": "95a39017",
   "metadata": {},
   "outputs": [],
   "source": [
    "### Rearange columns\n",
    "\n",
    "df = df[\n",
    "    [\n",
    "        'Price', 'Location', 'Manufacturer', 'Model', 'Year', 'Category',\n",
    "        'Mileage', 'Fuel type', 'Engine Volume', 'Cylinders', 'Gear box type',\n",
    "        'Drive wheels', 'Doors', 'Airbags', 'Wheel', 'Color', 'Interior color',\n",
    "        'Interior material', 'Exchange', 'Technical inspection', 'Catalyst',\n",
    "        'Steering Hydraulics', 'On-Board Computer', 'Air Conditioning',\n",
    "        'Parking Control', 'Rear View Camera', 'Electric Side Mirros',\n",
    "        'Climate Control', 'Cruise Control', 'Start-Stop System', 'Sunroof',\n",
    "        'Heated Seats', 'Memory Seats', 'ABS', 'ESP', 'Central Locking',\n",
    "        'Alarm System', 'Fog Lamp', 'Central Screen (Navigation)', 'AUX',\n",
    "        'Bluetooth', 'Multifunction Steering Wheel', 'Rims', 'Spare Tyre',\n",
    "        'Didabled Accessible', 'Undamaged', 'Clean History', 'Newly Imported',\n",
    "        'Low Consumption', 'Limited edition', 'Unpainted', 'One owner',\n",
    "        'Urgently', 'European', 'Perfect condition', 'For family', 'Pawnshop',\n",
    "        'Third row'\n",
    "       ]\n",
    "       ]"
   ]
  },
  {
   "cell_type": "code",
   "execution_count": 195,
   "id": "91652272",
   "metadata": {},
   "outputs": [],
   "source": [
    "df.to_csv('Data/cars-cleaned.csv')"
   ]
  }
 ],
 "metadata": {
  "kernelspec": {
   "display_name": "Python 3 (ipykernel)",
   "language": "python",
   "name": "python3"
  },
  "language_info": {
   "codemirror_mode": {
    "name": "ipython",
    "version": 3
   },
   "file_extension": ".py",
   "mimetype": "text/x-python",
   "name": "python",
   "nbconvert_exporter": "python",
   "pygments_lexer": "ipython3",
   "version": "3.11.4"
  }
 },
 "nbformat": 4,
 "nbformat_minor": 5
}
